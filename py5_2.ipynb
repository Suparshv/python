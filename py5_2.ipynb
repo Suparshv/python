{
 "cells": [
  {
   "cell_type": "markdown",
   "metadata": {},
   "source": [
    "# Unit : 05 Mutable Data Structure\n",
    "    1.List:\n",
    "     --> List is a dynamic becaused based on our requirement we can increase or decrease size\n",
    "     -->Square bracket with comma separation\n",
    "     \n",
    "    -->Creation of list:\n",
    "        l=[]\n",
    "        l=[1234]\n",
    "        l=eval(input(\"Enter\"))\n",
    "        l=list((range(0,10,2)))\n",
    "        \n",
    "    -->List mutablility:\n",
    "    l=[1,2,3,4,5]\n",
    "    l[2]=10\n",
    "    print(l)#1,2,10,4,5\n",
    "    \n",
    "    -->Important function of list:\n",
    "        (a)len():\n",
    "            len(n)\n",
    "        (b)count():\n",
    "            n.count(variable)\n",
    "        (c)index():\n",
    "            n.index(variable)\n",
    "        (d)append():\n",
    "            n.append(variable) ==> to add variable at the end of a list\n",
    "        (e)insert():\n",
    "            n.insert(index,variable) ==> to add variable on paticulat index in list\n",
    "            ==>if index is -1 then it add at last second position\n",
    "            ==>if index value is negative and greater than length of list than it add at first \n",
    "            \n",
    "        (f)extend():\n",
    "            l1=[\"Apple\",\"Mango\"]            \n",
    "            l2=[\"Orange\",\"Watermelon\"]\n",
    "            l1.extend(l2)\n",
    "            print(l1)            \n",
    "            print(l2)\n",
    "            l2.extend(l1)\n",
    "            print(l1)            \n",
    "            print(l2)\n",
    "         \n",
    "        (g)remove():\n",
    "            n=[1,2,1,1,1]\n",
    "            n.remove(1) ==> delete only first occurance\n",
    "            print(n)\n",
    "            n.remove(4) ==> Error\n",
    "            print(n)\n",
    "            \n",
    "        (f)pop():\n",
    "            ==> Give error if element is not present\n",
    "            n=[10,20,30,40,50]\n",
    "            print(n.pop())#50\n",
    "            print(n.pop())#40 \n",
    "            print(n.pop(1))#20\n",
    "            print(n.pop(10))#Error\n",
    "            print(n)#[10,30]\n",
    "            \n",
    "        (g)clear():\n",
    "            n=[1,2,3,4,5]\n",
    "            n.clear()\n",
    "            peint(n)#[]\n",
    "            \n",
    "        (h)reverse():\n",
    "            n=[1,3,5,4,2]\n",
    "            n.reverse()\n",
    "            print(n)#[2,4,5,3,1]\n",
    "         \n",
    "        (i)sort() or sort(reversed):\n",
    "        ==> Give error if both alphabets and element is present\n",
    "            n=[2,5,1,15,0]\n",
    "            n.sort()\n",
    "            print(n)#[0,1,2,5,15]\n",
    "        (j)copy():\n",
    "            l=[10,20,30,40,50]\n",
    "            x=l[:]\n",
    "            x=l.copy()"
   ]
  },
  {
   "cell_type": "markdown",
   "metadata": {},
   "source": [
    "## Mathametical Operations for List\n",
    "    \n",
    "    1.(+) ==> concatination\n",
    "        ==>List can anly be conacte with list else it gives error\n",
    "    2.(*) ==> repetation\n",
    "        ==>One must be integer else give error\n",
    "        \n",
    "## Comparision Operator for List\n",
    "\n",
    "    x=[\"Dog\",\"Cat\",\"Rat\"]    \n",
    "    y=[\"Dog\",\"Cat\",\"Rat\"]    \n",
    "    z=[\"DOG\",\"CAT\",\"RAT\"]\n",
    "    \n",
    "    print(x==y)#True\n",
    "    print(x==z)#False\n",
    "    print(x!=z)#True\n",
    "    \n",
    "    ==> Compare the first element of list\n",
    "    \n",
    "    print(x>y)#False\n",
    "    print(x>=y)#False    \n",
    "    print(x<y)#True    \n",
    "    print(x<=y)#True\n",
    "    \n",
    "    x=[50,20,30]\n",
    "    x=[50,20,30,100,200]\n",
    "    print(x>y)#True\n",
    "    print(x>=y)#True    \n",
    "    print(x<y)#False    \n",
    "    print(x<=y)#False\n",
    "    \n",
    "## Membership Operator for List\n",
    "\n",
    "    1.in\n",
    "        n=[10,20,30,40]\n",
    "        print(10 in n)#True\n",
    "        print(5 in n)#False\n",
    "    2.not in\n",
    "        n=[10,20,30,40]\n",
    "        print(50 not in n)#True"
   ]
  },
  {
   "cell_type": "code",
   "execution_count": 6,
   "metadata": {},
   "outputs": [
    {
     "name": "stdout",
     "output_type": "stream",
     "text": [
      "[10, 20, 30, 40, 50]\n"
     ]
    }
   ],
   "source": [
    "l=[10,20,30,40,50]\n",
    "x=l+[]\n",
    "x[2]=100\n",
    "print(l)\n",
    "\"or\"\n",
    "x=l[:]\n",
    "\"or\"\n",
    "x=l.copy()\n"
   ]
  },
  {
   "cell_type": "code",
   "execution_count": 10,
   "metadata": {},
   "outputs": [
    {
     "name": "stdout",
     "output_type": "stream",
     "text": [
      "10\n",
      "40\n",
      "60\n"
     ]
    }
   ],
   "source": [
    "#Nested List\n",
    "n=[10,20,30,[40,20],[50,60]]\n",
    "print(n[0])\n",
    "print(n[3][0])\n",
    "print(n[4][1])"
   ]
  },
  {
   "cell_type": "code",
   "execution_count": 12,
   "metadata": {},
   "outputs": [
    {
     "name": "stdout",
     "output_type": "stream",
     "text": [
      "10 20 30 \n",
      "40 50 60 \n",
      "70 80 90 \n"
     ]
    }
   ],
   "source": [
    "#Nested list as a matrix\n",
    "n=[[10,20,30],[40,50,60],[70,80,90]]\n",
    "for i in n:\n",
    "    for j in i:\n",
    "        print(j,end=\" \")\n",
    "    print()"
   ]
  },
  {
   "cell_type": "markdown",
   "metadata": {},
   "source": [
    "# List comprehension\n",
    "    \n",
    "    l=[expression for iteam in list if condition]\n",
    "    s=[x*x for x in range (1,11)]\n",
    "    print(s)#[1,4,9,16,25,36,49,64,81,100]\n",
    "    v=[2**x for x in range(1,6)]\n",
    "    print(v)#[2,4,6,8,16,32]\n",
    "    m=[x for x in s  if x%2==0]\n",
    "    print[m]#[4,16,36,64,100]"
   ]
  },
  {
   "cell_type": "code",
   "execution_count": 48,
   "metadata": {},
   "outputs": [
    {
     "name": "stdout",
     "output_type": "stream",
     "text": [
      "[1, 4, 7]\n",
      "[2, 5, 8]\n",
      "[3, 6, 9]\n"
     ]
    }
   ],
   "source": [
    "n=[[1,2,3],[4,5,6],[7,8,9]]\n",
    "for i in range(len(n[0])):\n",
    "    new=[row[i] for row in n]\n",
    "    print(new)"
   ]
  },
  {
   "cell_type": "code",
   "execution_count": 58,
   "metadata": {},
   "outputs": [
    {
     "name": "stdout",
     "output_type": "stream",
     "text": [
      "[1, 2, 5]\n"
     ]
    }
   ],
   "source": [
    "#WAP to print element with frequency greater than given value a\n",
    "l=[1,1,1,1,2,2,2,2,3,3,5,5,5,6,7]\n",
    "k=2\n",
    "ans=[]\n",
    "for i in l:\n",
    "    if l.count(i)>2 and i not in ans:\n",
    "        ans.append(i)\n",
    "print(ans)"
   ]
  },
  {
   "cell_type": "markdown",
   "metadata": {},
   "source": [
    "# 2.Dictionary:\n",
    "\n",
    "    -->represent a group of object as key-value pair    \n",
    "    -->duplicate keys are not allowed but value can be duplicate    \n",
    "    -->heterogenous object are alowed for both keys and value    \n",
    "    -->insertion order is not preserved\n",
    "    -->index and slicing are not applicable\n",
    "    -->mutable\n",
    "    \n",
    "    d={}\n",
    "    print(type(d))#dict\n",
    "            or\n",
    "    d=dict()\n",
    "    d=dict([(10,\"Arman\"),(20,\"Aryan\")])\n",
    "    print(d[10])#Arman\n",
    "    print(d[40])# key error\n",
    "    del d[40]==> delete element with key 40\n",
    "    del d ==> delete dictionary with variable\n",
    "    d.clear() ==> delete all the element of dictionary"
   ]
  },
  {
   "cell_type": "markdown",
   "metadata": {},
   "source": [
    "## Dictionary comprehension:\n",
    "\n",
    "    square={x:x*x for x in range(1,6)\n",
    "    print(square)#{1:1,2:4,3:9,4:16,5:25}\n",
    "    \n",
    "## Important function of dictionary:\n",
    "\n",
    "    1.dict()\n",
    "    2.len()\n",
    "    3.clear()\n",
    "    4.copy()\n",
    "    5.update() ==> simply add two dict and if same key is present then new value will be assigned\n",
    "        d.update(x)\n",
    "    6.get()\n",
    "        d.get(key)\n",
    "            if key is not present the it give none\n",
    "        d.get(key,default value)\n",
    "            if key is not present then it give default value       \n",
    "    7.popiteam()\n",
    "        if dict is empty the it give key error\n",
    "    8.keys()\n",
    "    9.values()\n",
    "    10.iteams()\n",
    "    11.setdefault()"
   ]
  },
  {
   "cell_type": "code",
   "execution_count": 15,
   "metadata": {
    "scrolled": true
   },
   "outputs": [],
   "source": [
    "#WAP that read the word from paragraph and store them as keys in dictionary and cont of the \n",
    "#frequency of its as a value\n",
    "s=\"Dog the quick brown fox jumps over the lazy dog\"\n",
    "a=s.split()\n",
    "d=dict()\n",
    "for i in a:\n",
    "    i=i.lower()\n",
    "for i in a:\n",
    "    c=a.count(i)\n",
    "    d.setdefault()\n",
    "    "
   ]
  }
 ],
 "metadata": {
  "kernelspec": {
   "display_name": "Python 3",
   "language": "python",
   "name": "python3"
  },
  "language_info": {
   "codemirror_mode": {
    "name": "ipython",
    "version": 3
   },
   "file_extension": ".py",
   "mimetype": "text/x-python",
   "name": "python",
   "nbconvert_exporter": "python",
   "pygments_lexer": "ipython3",
   "version": "3.8.5"
  }
 },
 "nbformat": 4,
 "nbformat_minor": 4
}
