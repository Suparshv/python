{
 "cells": [
  {
   "cell_type": "code",
   "execution_count": 12,
   "metadata": {},
   "outputs": [
    {
     "name": "stdout",
     "output_type": "stream",
     "text": [
      "line: 1\n",
      "pos 9\n",
      "line: 2\n",
      "pos 6\n",
      "line: 2\n",
      "pos 9\n"
     ]
    }
   ],
   "source": [
    "#WAP to compare two files and find the difference in line and charecter.for same length\n",
    "f=open(\"c1.txt\",\"r\")\n",
    "f1=open(\"c2.txt\",\"r\")\n",
    "a=f.readlines()\n",
    "b=f1.readlines()\n",
    "for i in range(len(a)):\n",
    "    for j in range(len(a[i])):\n",
    "        if(a[i][j]==b[i][j]):\n",
    "            continue\n",
    "        else:\n",
    "            print(\"line:\",i+1)\n",
    "            print(\"pos\",j+1)\n",
    "    "
   ]
  },
  {
   "cell_type": "code",
   "execution_count": 14,
   "metadata": {},
   "outputs": [
    {
     "name": "stdout",
     "output_type": "stream",
     "text": [
      "line: 1\n",
      "pos 8\n",
      "line: 2\n",
      "pos 9\n"
     ]
    }
   ],
   "source": [
    "#WAP to compare two files and find the difference in line and charecter.for different length\n",
    "f=open(\"c3.txt\",\"r\")\n",
    "f1=open(\"c4.txt\",\"r\")\n",
    "a=f.readlines()\n",
    "b=f1.readlines()\n",
    "for i in range (min(len(a),len(b))):\n",
    "    for j in range (min(len(a[i]),len(b[i]))):\n",
    "        if(a[i][j]==b[i][j]):\n",
    "            continue\n",
    "        else:\n",
    "            print(\"line:\",i+1)\n",
    "            print(\"pos\",j+1)"
   ]
  },
  {
   "cell_type": "code",
   "execution_count": 24,
   "metadata": {},
   "outputs": [
    {
     "name": "stdout",
     "output_type": "stream",
     "text": [
      "words: 6\n",
      "chareceters: 22\n",
      "spaces: 4\n"
     ]
    }
   ],
   "source": [
    "#wap to count words,charecters and spaces from txt files.\n",
    "f=open(\"c1.txt\",\"r\")\n",
    "# a=f.readlines()\n",
    "# cc=0\n",
    "# s=0\n",
    "# for i in range(len(a)):\n",
    "#     for j in range(len(a[i])):\n",
    "#         if(a[i][j].isalpha()):\n",
    "#             cc+=1\n",
    "#         elif(a[i][j].isspace()):\n",
    "#             s+=1\n",
    "# for i in range(len(a)):\n",
    "#     b+=a[i].split()\n",
    "#     cw=len(b)\n",
    "# print(\"words:\",cw)\n",
    "# print(\"charecters:\",cc)\n",
    "# print(\"spaces:\",s)\n",
    "b=f.read()\n",
    "x=b.split()\n",
    "print(\"words:\",len(x))\n",
    "y=len(b)-b.count(\" \")-b.count(\"\\n\")\n",
    "print(\"chareceters:\",y)\n",
    "s=b.count(\" \")\n",
    "print(\"spaces:\",s)"
   ]
  },
  {
   "cell_type": "code",
   "execution_count": 30,
   "metadata": {},
   "outputs": [
    {
     "name": "stdout",
     "output_type": "stream",
     "text": [
      "success\n"
     ]
    }
   ],
   "source": [
    "#WAP to replace a word in python.\n",
    "f=open(\"a1.txt\",\"r\")\n",
    "f1=open(\"copyt.txt\",\"w\")\n",
    "a=f.read()\n",
    "a=a.replace(\"Friends\",\"Enemies\")\n",
    "f1.write(a)\n",
    "f1.close()\n",
    "print(\"success\")"
   ]
  },
  {
   "cell_type": "code",
   "execution_count": 40,
   "metadata": {},
   "outputs": [
    {
     "name": "stdout",
     "output_type": "stream",
     "text": [
      "4NOHTYP SI SIHT\n",
      "3NOHTYP SI SIHT\n",
      "2NOHTYP SI SIHT\n",
      "1NOHTYP SI SIHT\n",
      "no of vowels: 12\n",
      "3NOHTYP SI SIHT\n",
      "\n"
     ]
    }
   ],
   "source": [
    "\"\"\"WAP to reverse the content of one file and store it in second file and also convert the content of second file into\n",
    "uppercase and store it in third file and also count no of vowels in third file and also print only \n",
    "second line from 3rd file\"\"\"\n",
    "f1=open(\"f1.txt\",\"r\")\n",
    "f2=open(\"f2.txt\",\"w\")\n",
    "f3=open(\"f3.txt\",\"w\")\n",
    "a=f1.read()\n",
    "b=a[::-1]\n",
    "f2.write(b)\n",
    "c=b.upper()\n",
    "f3.write(c)\n",
    "f3.close()\n",
    "f3=open(\"f3.txt\",\"r\")\n",
    "d=f3.read()\n",
    "print(d)\n",
    "c=0\n",
    "for i in d:\n",
    "    if i in 'AEIOU':\n",
    "        c=c+1\n",
    "print(\"no of vowels:\",c)\n",
    "f3.seek(0)\n",
    "f3.readline()\n",
    "print(f3.readline())\n"
   ]
  },
  {
   "cell_type": "code",
   "execution_count": 50,
   "metadata": {},
   "outputs": [
    {
     "name": "stdout",
     "output_type": "stream",
     "text": [
      "Enter string or sentence:Abc def ghjth \n",
      "Do you want to contunue(y/n)y\n",
      "Enter string or sentence:abceke n nr knrn \n",
      "Do you want to contunue(y/n)y\n",
      "Enter string or sentence:F jn rjnj jrnj jrenje\n",
      "Do you want to contunue(y/n)n\n",
      "Abc def ghjth \n",
      "F jn rjnj jrnj jrenje\n"
     ]
    }
   ],
   "source": [
    "\"\"\"WAP to accept string or sentence from the user till the user enter n.each string or sentence entered by user should\n",
    "be a new line in file save all line in file and display only those lines which begin with capital letters\"\"\"\n",
    "f=open(\"user.txt\",\"w\")\n",
    "flag=True\n",
    "while flag:\n",
    "    s=input(\"Enter string or sentence:\")\n",
    "    f.write(s)\n",
    "    f.write(\"\\n\")\n",
    "    n=input(\"Do you want to contunue(y/n)\")\n",
    "    if(n=='y'):\n",
    "        continue\n",
    "    else:\n",
    "        flag=False\n",
    "        break\n",
    "f.close()\n",
    "f=open(\"user.txt\",\"r\")\n",
    "a=f.readlines()\n",
    "for i in a:\n",
    "    if i[0].isupper():\n",
    "        print(i,end=\"\")"
   ]
  },
  {
   "cell_type": "code",
   "execution_count": 53,
   "metadata": {},
   "outputs": [
    {
     "name": "stdout",
     "output_type": "stream",
     "text": [
      "file is closed: False\n",
      "file name is: demo.txt\n",
      "file mode is: r\n",
      "file is readable: True\n",
      "file is writable: False\n"
     ]
    }
   ],
   "source": [
    "f=open(\"demo.txt\",\"r\")\n",
    "print(\"file is closed:\",f.closed)\n",
    "print(\"file name is:\",f.name)\n",
    "print(\"file mode is:\",f.mode)\n",
    "print(\"file is readable:\",f.readable())\n",
    "print(\"file is writable:\",f.writable())"
   ]
  },
  {
   "cell_type": "code",
   "execution_count": 57,
   "metadata": {},
   "outputs": [
    {
     "name": "stdout",
     "output_type": "stream",
     "text": [
      "Entered string to search:friends\n",
      "70\n"
     ]
    }
   ],
   "source": [
    "#WAP to search for a string entered by an user in txt file\n",
    "f=open(\"a1.txt\",\"r\")\n",
    "s=input(\"Entered string to search:\")\n",
    "a=f.read()\n",
    "print(a.find(s))"
   ]
  },
  {
   "cell_type": "code",
   "execution_count": 59,
   "metadata": {},
   "outputs": [
    {
     "data": {
      "text/plain": [
       "False"
      ]
     },
     "execution_count": 59,
     "metadata": {},
     "output_type": "execute_result"
    }
   ],
   "source": [
    "#to check file is in mentioned directory or not.\n",
    "import os\n",
    "os.path.isfile(\"demo3.txt\")"
   ]
  },
  {
   "cell_type": "code",
   "execution_count": null,
   "metadata": {},
   "outputs": [],
   "source": []
  }
 ],
 "metadata": {
  "kernelspec": {
   "display_name": "Python 3",
   "language": "python",
   "name": "python3"
  },
  "language_info": {
   "codemirror_mode": {
    "name": "ipython",
    "version": 3
   },
   "file_extension": ".py",
   "mimetype": "text/x-python",
   "name": "python",
   "nbconvert_exporter": "python",
   "pygments_lexer": "ipython3",
   "version": "3.8.5"
  }
 },
 "nbformat": 4,
 "nbformat_minor": 4
}
