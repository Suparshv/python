{
 "cells": [
  {
   "cell_type": "markdown",
   "metadata": {},
   "source": [
    "Unit 5 Mutable Data structures\n",
    "*List\n",
    "->List is dynamic because based on our requirement we can increase or decrease the size.\n",
    "->square brackets with comma separator"
   ]
  },
  {
   "cell_type": "code",
   "execution_count": 2,
   "metadata": {},
   "outputs": [
    {
     "name": "stdout",
     "output_type": "stream",
     "text": [
      "Enter1\n",
      "1\n"
     ]
    }
   ],
   "source": [
    "#creation of lists\n",
    "l=[]\n",
    "l=[1,2,3,4]\n",
    "l=eval(input(\"Enter\"))\n"
   ]
  },
  {
   "cell_type": "code",
   "execution_count": 3,
   "metadata": {},
   "outputs": [
    {
     "name": "stdout",
     "output_type": "stream",
     "text": [
      "[1, 2, 10, 4, 5]\n"
     ]
    }
   ],
   "source": [
    "#list mutability\n",
    "l=[1,2,3,4,5]\n",
    "l[2]=10\n",
    "print(l)"
   ]
  },
  {
   "cell_type": "markdown",
   "metadata": {},
   "source": [
    "Accessing elements of list\n",
    "1>By using index\n",
    "2>By using slicing operator\n",
    "\n",
    "Important functions of list\n",
    "1>len()\n",
    "2>count()\n",
    "3>index()\n",
    "4>append()\n",
    "5>index(value,value)\n",
    "6>extend(list)\n",
    "7>remove()"
   ]
  },
  {
   "cell_type": "code",
   "execution_count": null,
   "metadata": {},
   "outputs": [],
   "source": []
  },
  {
   "cell_type": "code",
   "execution_count": 14,
   "metadata": {},
   "outputs": [
    {
     "name": "stdout",
     "output_type": "stream",
     "text": [
      "4\n",
      "2\n",
      "3\n",
      "0\n",
      "1\n",
      "3\n",
      "['M', 'N', 'A', 'B', 'C']\n",
      "[1, 28, 2, 3, 4, 55, 5]\n",
      "[1, 28, 2, 3, 4, 45, 55, 5]\n"
     ]
    }
   ],
   "source": [
    "#len()\n",
    "n=[1,2,3,4]\n",
    "print(len(n))\n",
    "\n",
    "#count()\n",
    "a=[1,2,2,3,3,3]\n",
    "print(a.count(2))\n",
    "print(a.count(3))\n",
    "\n",
    "#index() only first occurence.\n",
    "b=[1,2,2,3,3]\n",
    "print(b.index(1))\n",
    "print(b.index(2))\n",
    "print(b.index(3))\n",
    "\n",
    "#append()\n",
    "l=[\"M\",\"N\"]\n",
    "l.append(\"A\")\n",
    "l.append(\"B\")\n",
    "l.append(\"C\")\n",
    "print(l)\n",
    "\n",
    "#insert(index,value)\n",
    "n=[1,2,3,4,5]\n",
    "n.insert(1,28)#insert 28 in place of index one element it shifts other number index by+1\n",
    "n.insert(-1,55)#insert 55 from the 2nd last place\n",
    "print(n)\n",
    "n.insert(-2,45)#inserts 45 at 3rd last place \n",
    "print(n)"
   ]
  },
  {
   "cell_type": "code",
   "execution_count": 16,
   "metadata": {},
   "outputs": [
    {
     "name": "stdout",
     "output_type": "stream",
     "text": [
      "['mango', 'apple', 'orange', 'watermelon']\n",
      "['orange', 'watermelon', 'mango', 'apple', 'orange', 'watermelon']\n"
     ]
    }
   ],
   "source": [
    "#extend(list)\n",
    "l1=[\"mango\",\"apple\"]\n",
    "l2=[\"orange\",\"watermelon\"]\n",
    "l1.extend(l2)\n",
    "print(l1)\n",
    "l2.extend(l1)\n",
    "print(l2)"
   ]
  },
  {
   "cell_type": "code",
   "execution_count": 20,
   "metadata": {},
   "outputs": [
    {
     "name": "stdout",
     "output_type": "stream",
     "text": [
      "[2, 1, 3, 1, 1]\n"
     ]
    }
   ],
   "source": [
    "#remove(elementvalue) only first occurence\n",
    "n=[1,2,1,3,1,1]\n",
    "n.remove(1)\n",
    "print(n)\n",
    "#n.remove(5)#list.remove(x): x not in list\n",
    "#print(n)\n",
    "if 5 in n:\n",
    "    n.remove(5)\n"
   ]
  }
 ],
 "metadata": {
  "kernelspec": {
   "display_name": "Python 3",
   "language": "python",
   "name": "python3"
  },
  "language_info": {
   "codemirror_mode": {
    "name": "ipython",
    "version": 3
   },
   "file_extension": ".py",
   "mimetype": "text/x-python",
   "name": "python",
   "nbconvert_exporter": "python",
   "pygments_lexer": "ipython3",
   "version": "3.8.5"
  }
 },
 "nbformat": 4,
 "nbformat_minor": 4
}
