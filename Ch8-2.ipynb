{
 "cells": [
  {
   "cell_type": "code",
   "execution_count": 1,
   "metadata": {},
   "outputs": [
    {
     "name": "stdout",
     "output_type": "stream",
     "text": [
      "Emp name:- abc\n",
      "Emp age:- 34\n",
      "Emp salary:- 50000\n",
      "Emp name:- xyz\n",
      "Emp age:- 30\n",
      "Emp salary:- 40000\n",
      "50\n",
      "abcxyz\n"
     ]
    }
   ],
   "source": [
    "#static method\n",
    "class Employee:\n",
    "    def __init__(self,name,age,salary):\n",
    "        self.name=name\n",
    "        self.age=age\n",
    "        self.salary=salary\n",
    "    def display(self):\n",
    "        print(\"Emp name:-\",self.name)\n",
    "        print(\"Emp age:-\",self.age)\n",
    "        print(\"Emp salary:-\",self.salary)\n",
    "    @staticmethod\n",
    "    def add(a,b):\n",
    "        print(a+b)\n",
    "emp1=Employee(\"abc\",34,50000)\n",
    "emp1.display()\n",
    "emp2=Employee(\"xyz\",30,40000)\n",
    "emp2.display()\n",
    "emp1.add(20,30)\n",
    "emp2.add(\"abc\",\"xyz\")"
   ]
  },
  {
   "cell_type": "code",
   "execution_count": 6,
   "metadata": {},
   "outputs": [
    {
     "name": "stdout",
     "output_type": "stream",
     "text": [
      "Emp name:- abc\n",
      "Emp age:- 34\n",
      "Emp salary:- 50000\n",
      "Emp name:- xyz\n",
      "Emp age:- 30\n",
      "Emp salary:- 40000\n"
     ]
    }
   ],
   "source": [
    "#static method\n",
    "class Employee:\n",
    "    def __init__(self,name,age,salary):\n",
    "        self.name=name\n",
    "        self.age=age\n",
    "        self.salary=salary\n",
    "    @staticmethod\n",
    "    def display(self):\n",
    "        print(\"Emp name:-\",self.name)\n",
    "        print(\"Emp age:-\",self.age)\n",
    "        print(\"Emp salary:-\",self.salary)\n",
    "   \n",
    "emp1=Employee(\"abc\",34,50000)\n",
    "emp1.display(emp1)#here object is not passed it will generate error.display() missing 1 required positional argument:'self'\n",
    "emp2=Employee(\"xyz\",30,40000)\n",
    "emp2.display(emp2)"
   ]
  },
  {
   "cell_type": "code",
   "execution_count": 8,
   "metadata": {},
   "outputs": [
    {
     "name": "stdout",
     "output_type": "stream",
     "text": [
      "Car model: Mercedes Maybach S650\n",
      "Car color: blue\n",
      "Car year: 2023\n"
     ]
    }
   ],
   "source": [
    "class car:\n",
    "    def __init__(self,model,color,year):\n",
    "        self.model=model\n",
    "        self.color=color\n",
    "        self.year=year\n",
    "    def display(self):\n",
    "        print(\"Car model:\",self.model)\n",
    "        print(\"Car color:\",self.color)        \n",
    "        print(\"Car year:\",self.year)      \n",
    "car1=car(\"Mercedes Maybach S650\",\"blue\",2023)\n",
    "car1.display()"
   ]
  },
  {
   "cell_type": "code",
   "execution_count": 9,
   "metadata": {},
   "outputs": [
    {
     "name": "stdout",
     "output_type": "stream",
     "text": [
      "Name: Harry\n",
      "Salary: 50000\n",
      "Role: Engineer\n",
      "Name: Rohan\n",
      "Salary: 60000\n",
      "Role: developer\n"
     ]
    }
   ],
   "source": [
    "#without constructor\n",
    "class Employee:\n",
    "    no_of_leaves=5#class variable\n",
    "    def printdetails(self):\n",
    "        print(\"Name:\",self.name)\n",
    "        print(\"Salary:\",self.salary)        \n",
    "        print(\"Role:\",self.role)\n",
    "harry=Employee()\n",
    "rohan=Employee()\n",
    "harry.name=\"Harry\"\n",
    "harry.salary=50000\n",
    "harry.role=\"Engineer\"\n",
    "rohan.name=\"Rohan\"\n",
    "rohan.salary=60000\n",
    "rohan.role=\"developer\"\n",
    "harry.printdetails()\n",
    "rohan.printdetails()"
   ]
  },
  {
   "cell_type": "code",
   "execution_count": 11,
   "metadata": {},
   "outputs": [
    {
     "name": "stdout",
     "output_type": "stream",
     "text": [
      "Name: Harry\n",
      "Salary: 50000\n",
      "Role: Engineer\n",
      "Name: Rohan\n",
      "Salary: 70000\n",
      "Role: developer\n"
     ]
    }
   ],
   "source": [
    "#with constructor\n",
    "class Employee:\n",
    "    no_of_leaves=5#class variable\n",
    "    def __init__(self,name,salary,role):\n",
    "        self.name=name\n",
    "        self.salary=salary\n",
    "        self.role=role\n",
    "        print(\"Name:\",self.name)\n",
    "        print(\"Salary:\",self.salary)        \n",
    "        print(\"Role:\",self.role)\n",
    "emp1=Employee(\"Harry\",50000,\"Engineer\")\n",
    "emp2=Employee(\"Rohan\",70000,\"developer\")"
   ]
  },
  {
   "cell_type": "code",
   "execution_count": 14,
   "metadata": {},
   "outputs": [
    {
     "name": "stdout",
     "output_type": "stream",
     "text": [
      "50\n"
     ]
    }
   ],
   "source": [
    "class test:\n",
    "    def __init__(self):\n",
    "        self.value=50\n",
    "        self.show()#if only show() is written,NameError: name 'show' is not defined\n",
    "    def show(self):\n",
    "        print(self.value)\n",
    "a=test()"
   ]
  },
  {
   "cell_type": "code",
   "execution_count": 16,
   "metadata": {},
   "outputs": [
    {
     "name": "stdout",
     "output_type": "stream",
     "text": [
      "Address of self: 2988037693888\n",
      "Address of obj: 2988037693888\n",
      "5\n",
      "Address of self: 2988037695616\n",
      "Address of obj1: 2988037695616\n",
      "10\n"
     ]
    }
   ],
   "source": [
    "class check:\n",
    "    def __init__(self,m):\n",
    "        print(\"Address of self:\",id(self))\n",
    "        self.m=m\n",
    "obj=check(5)\n",
    "print(\"Address of obj:\",id(obj))\n",
    "print(obj.m)\n",
    "obj1=check(10)\n",
    "print(\"Address of obj1:\",id(obj1))\n",
    "print(obj1.m)"
   ]
  },
  {
   "cell_type": "code",
   "execution_count": 2,
   "metadata": {},
   "outputs": [
    {
     "name": "stdout",
     "output_type": "stream",
     "text": [
      "5 5 140721733511072 140721733511072\n",
      "10 5 140721733511232 140721733511072\n"
     ]
    }
   ],
   "source": [
    "class Account():\n",
    "    rate=5\n",
    "    def some_method(self):\n",
    "        print(self.rate,Account.rate,id(self.rate),id(Account.rate))\n",
    "        self.rate=10\n",
    "        print(self.rate,Account.rate,id(self.rate),id(Account.rate))\n",
    "a1=Account()\n",
    "a2=Account()\n",
    "a1.some_method()"
   ]
  },
  {
   "cell_type": "code",
   "execution_count": 8,
   "metadata": {},
   "outputs": [
    {
     "name": "stdout",
     "output_type": "stream",
     "text": [
      "30 30\n",
      "35 30\n",
      "35 30\n",
      "Age is different\n",
      "35 35\n",
      "Age is same\n"
     ]
    }
   ],
   "source": [
    "#concept of self and other\n",
    "class person:\n",
    "    def __init__(self):\n",
    "        self.name=\"John\"\n",
    "        self.age=30\n",
    "    def update(self):\n",
    "        self.age=35\n",
    "    def compare(self,other):\n",
    "        print(self.age,other.age)\n",
    "        if self.age==other.age:\n",
    "            print(\"Age is same\")\n",
    "        else:\n",
    "            print(\"Age is different\")\n",
    "p1=person()\n",
    "p2=person()\n",
    "print(p1.age,p2.age)\n",
    "p1.update()\n",
    "print(p1.age,p2.age)\n",
    "p1.compare(p2)\n",
    "p2.update()\n",
    "p1.compare(p2)"
   ]
  },
  {
   "cell_type": "markdown",
   "metadata": {},
   "source": [
    "# Destructor\n",
    "-used to perform the clean up activity before destroying an object such as closing database connections\n",
    "or filehandle.\n",
    "-python has a garbage collection that handles memeory management automatically\n",
    "-it cleans up the memory when an object goes out of scope."
   ]
  },
  {
   "cell_type": "code",
   "execution_count": 1,
   "metadata": {},
   "outputs": [],
   "source": [
    "class employee:\n",
    "    def __init__(self,name,age,salary):#construtor\n",
    "        self.name=name\n",
    "        self.age=age\n",
    "        self.salary=salary\n",
    "    def __del__(self):#destructor\n",
    "        print(\"Object destroyed\")\n",
    "    def display(self):\n",
    "        print(self.name,self.age,self.salary)\n"
   ]
  },
  {
   "cell_type": "code",
   "execution_count": 2,
   "metadata": {},
   "outputs": [
    {
     "name": "stdout",
     "output_type": "stream",
     "text": [
      "Harry 30 50000\n",
      "Rohan 35 60000\n",
      "Object destroyed\n"
     ]
    },
    {
     "ename": "NameError",
     "evalue": "name 'emp2' is not defined",
     "output_type": "error",
     "traceback": [
      "\u001b[1;31m---------------------------------------------------------------------------\u001b[0m",
      "\u001b[1;31mNameError\u001b[0m                                 Traceback (most recent call last)",
      "\u001b[1;32m<ipython-input-2-7d58c510b43a>\u001b[0m in \u001b[0;36m<module>\u001b[1;34m\u001b[0m\n\u001b[0;32m      4\u001b[0m \u001b[0memp2\u001b[0m\u001b[1;33m.\u001b[0m\u001b[0mdisplay\u001b[0m\u001b[1;33m(\u001b[0m\u001b[1;33m)\u001b[0m\u001b[1;33m\u001b[0m\u001b[1;33m\u001b[0m\u001b[0m\n\u001b[0;32m      5\u001b[0m \u001b[1;32mdel\u001b[0m \u001b[0memp2\u001b[0m\u001b[1;33m\u001b[0m\u001b[1;33m\u001b[0m\u001b[0m\n\u001b[1;32m----> 6\u001b[1;33m \u001b[0memp2\u001b[0m\u001b[1;33m.\u001b[0m\u001b[0mdisplay\u001b[0m\u001b[1;33m(\u001b[0m\u001b[1;33m)\u001b[0m\u001b[1;31m#NameError: name 'emp2' is not defined\u001b[0m\u001b[1;33m\u001b[0m\u001b[1;33m\u001b[0m\u001b[0m\n\u001b[0m",
      "\u001b[1;31mNameError\u001b[0m: name 'emp2' is not defined"
     ]
    }
   ],
   "source": [
    "emp1=employee(\"Harry\",30,50000)\n",
    "emp2=employee(\"Rohan\",35,60000)\n",
    "emp1.display()\n",
    "emp2.display()\n",
    "del emp2\n",
    "emp2.display()#NameError: name 'emp2' is not defined"
   ]
  },
  {
   "cell_type": "code",
   "execution_count": 3,
   "metadata": {},
   "outputs": [
    {
     "name": "stdout",
     "output_type": "stream",
     "text": [
      "Yes\n"
     ]
    }
   ],
   "source": [
    "#class variable vs instance variable\n",
    "class Mobile:\n",
    "    fp=\"Yes\"#class variable\n",
    "    @classmethod\n",
    "    def show(cls):#class method\n",
    "        print(cls.fp)#accessing class varaible inside class method\n",
    "realme=Mobile()\n",
    "print(Mobile.fp)#accessing class varaible outside class"
   ]
  },
  {
   "cell_type": "code",
   "execution_count": 5,
   "metadata": {},
   "outputs": [
    {
     "name": "stdout",
     "output_type": "stream",
     "text": [
      "RelameX\n"
     ]
    }
   ],
   "source": [
    "class Mobile:\n",
    "    def __init__(self):\n",
    "        self.model=\"RelameX\"#instance variable\n",
    "    def show_method(self):#instance method\n",
    "        print(self.model)#accessing instance variable inside instance method\n",
    "realme=Mobile()\n",
    "print(realme.model)#accessing instance variable outside class"
   ]
  },
  {
   "cell_type": "code",
   "execution_count": 17,
   "metadata": {},
   "outputs": [
    {
     "name": "stdout",
     "output_type": "stream",
     "text": [
      "Yes\n",
      "RealmeX\n",
      "Yes\n"
     ]
    },
    {
     "ename": "NameError",
     "evalue": "name 'self' is not defined",
     "output_type": "error",
     "traceback": [
      "\u001b[1;31m---------------------------------------------------------------------------\u001b[0m",
      "\u001b[1;31mNameError\u001b[0m                                 Traceback (most recent call last)",
      "\u001b[1;32m<ipython-input-17-7cd407109d74>\u001b[0m in \u001b[0;36m<module>\u001b[1;34m\u001b[0m\n\u001b[0;32m     12\u001b[0m \u001b[0mrealme\u001b[0m\u001b[1;33m.\u001b[0m\u001b[0mshow_model\u001b[0m\u001b[1;33m(\u001b[0m\u001b[1;33m)\u001b[0m\u001b[1;33m\u001b[0m\u001b[1;33m\u001b[0m\u001b[0m\n\u001b[0;32m     13\u001b[0m \u001b[0mMobile\u001b[0m\u001b[1;33m.\u001b[0m\u001b[0mshow\u001b[0m\u001b[1;33m(\u001b[0m\u001b[1;33m)\u001b[0m\u001b[1;33m\u001b[0m\u001b[1;33m\u001b[0m\u001b[0m\n\u001b[1;32m---> 14\u001b[1;33m \u001b[0mMobile\u001b[0m\u001b[1;33m.\u001b[0m\u001b[0mshow_model\u001b[0m\u001b[1;33m(\u001b[0m\u001b[0mself\u001b[0m\u001b[1;33m)\u001b[0m\u001b[1;31m#AttributeError: type object 'Mobile' has no attribute 'show_model'\u001b[0m\u001b[1;33m\u001b[0m\u001b[1;33m\u001b[0m\u001b[0m\n\u001b[0m",
      "\u001b[1;31mNameError\u001b[0m: name 'self' is not defined"
     ]
    }
   ],
   "source": [
    "class Mobile:\n",
    "    fp=\"Yes\"\n",
    "    def __init__(self):\n",
    "        self.model=\"RealmeX\"\n",
    "    def show_model(self):\n",
    "        print(self.model)\n",
    "    @classmethod\n",
    "    def show(cls):\n",
    "        print(cls.fp)\n",
    "realme=Mobile()\n",
    "realme.show()\n",
    "realme.show_model()\n",
    "Mobile.show()\n",
    "Mobile.show_model()#AttributeError: type object 'Mobile' has no attribute 'show_model'"
   ]
  },
  {
   "cell_type": "code",
   "execution_count": 20,
   "metadata": {},
   "outputs": [
    {
     "name": "stdout",
     "output_type": "stream",
     "text": [
      "The name is: orange\n",
      "The name is: banana\n",
      "The name is: banana\n"
     ]
    }
   ],
   "source": [
    "class Fruit:\n",
    "    name=\"orange\"\n",
    "    @classmethod\n",
    "    def printname(cls):\n",
    "        print(\"The name is:\",cls.name)\n",
    "Fruit.printname()\n",
    "apple=Fruit()\n",
    "Fruit.name=\"banana\"\n",
    "Fruit.printname()\n",
    "apple.name=\"strawberry\"\n",
    "apple.printname()#class variable cannot be changed by object it can be only changed by classname."
   ]
  },
  {
   "cell_type": "code",
   "execution_count": 21,
   "metadata": {},
   "outputs": [
    {
     "name": "stdout",
     "output_type": "stream",
     "text": [
      "BMW M4 8 5\n",
      "BMW M4 10 4\n"
     ]
    }
   ],
   "source": [
    "class car:\n",
    "    wheels=4\n",
    "    def __init__(self):\n",
    "        self.mileage=10\n",
    "        self.model=\"BMW M4\"\n",
    "c1=car()\n",
    "c2=car()\n",
    "c1.mileage=8\n",
    "c1.wheels=5\n",
    "print(c1.model,c1.mileage,c1.wheels)\n",
    "print(c2.model,c2.mileage,c2.wheels)"
   ]
  }
 ],
 "metadata": {
  "kernelspec": {
   "display_name": "Python 3",
   "language": "python",
   "name": "python3"
  },
  "language_info": {
   "codemirror_mode": {
    "name": "ipython",
    "version": 3
   },
   "file_extension": ".py",
   "mimetype": "text/x-python",
   "name": "python",
   "nbconvert_exporter": "python",
   "pygments_lexer": "ipython3",
   "version": "3.8.5"
  }
 },
 "nbformat": 4,
 "nbformat_minor": 4
}
