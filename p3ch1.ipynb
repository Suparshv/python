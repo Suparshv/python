{
 "cells": [
  {
   "cell_type": "code",
   "execution_count": 2,
   "metadata": {},
   "outputs": [
    {
     "name": "stdout",
     "output_type": "stream",
     "text": [
      "Enter no.:-5\n",
      "Enter no.:-6\n",
      "Data 1 :- 5\n",
      "Data 2 :- 6\n",
      "Sum is:- 11\n"
     ]
    }
   ],
   "source": [
    "a=int(input(\"Enter no.:-\"))\n",
    "b=int(input(\"Enter no.:-\"))\n",
    "print(\"Data 1 :-\",a)\n",
    "print(\"Data 2 :-\",b)\n",
    "print(\"Sum is:-\",a+b)"
   ]
  },
  {
   "cell_type": "markdown",
   "metadata": {},
   "source": [
    "# Type Casting"
   ]
  },
  {
   "cell_type": "code",
   "execution_count": 11,
   "metadata": {},
   "outputs": [
    {
     "name": "stdout",
     "output_type": "stream",
     "text": [
      "123\n",
      "1\n",
      "0\n",
      "10\n"
     ]
    },
    {
     "ename": "ValueError",
     "evalue": "invalid literal for int() with base 10: '0b1111'",
     "output_type": "error",
     "traceback": [
      "\u001b[1;31m---------------------------------------------------------------------------\u001b[0m",
      "\u001b[1;31mValueError\u001b[0m                                Traceback (most recent call last)",
      "\u001b[1;32m<ipython-input-11-efc9eeaf5bf2>\u001b[0m in \u001b[0;36m<module>\u001b[1;34m\u001b[0m\n\u001b[0;32m      5\u001b[0m \u001b[0mprint\u001b[0m\u001b[1;33m(\u001b[0m\u001b[0mint\u001b[0m\u001b[1;33m(\u001b[0m\u001b[1;34m\"10\"\u001b[0m\u001b[1;33m)\u001b[0m\u001b[1;33m)\u001b[0m\u001b[1;33m\u001b[0m\u001b[1;33m\u001b[0m\u001b[0m\n\u001b[0;32m      6\u001b[0m \u001b[1;31m#print(int(\"10.5\"))#ValueError: invalid literal for int() with base 10: '10.5'\u001b[0m\u001b[1;33m\u001b[0m\u001b[1;33m\u001b[0m\u001b[1;33m\u001b[0m\u001b[0m\n\u001b[1;32m----> 7\u001b[1;33m \u001b[0mprint\u001b[0m\u001b[1;33m(\u001b[0m\u001b[0mint\u001b[0m\u001b[1;33m(\u001b[0m\u001b[1;34m\"0b1111\"\u001b[0m\u001b[1;33m)\u001b[0m\u001b[1;33m)\u001b[0m\u001b[1;33m\u001b[0m\u001b[1;33m\u001b[0m\u001b[0m\n\u001b[0m",
      "\u001b[1;31mValueError\u001b[0m: invalid literal for int() with base 10: '0b1111'"
     ]
    }
   ],
   "source": [
    "#1.int()\n",
    "print(int(123.987))\n",
    "print(int(True))\n",
    "print(int(False))\n",
    "print(int(\"10\"))\n",
    "print(int(\"10.5\"))#ValueError: invalid literal for int() with base 10: '10.5'\n",
    "print(int(\"0b1111\"))#ValueError: invalid literal for int() with base 10: '0b1111'"
   ]
  },
  {
   "cell_type": "code",
   "execution_count": 13,
   "metadata": {},
   "outputs": [
    {
     "name": "stdout",
     "output_type": "stream",
     "text": [
      "10.0\n",
      "1.0\n",
      "0.0\n",
      "10.0\n",
      "10.5\n"
     ]
    },
    {
     "ename": "ValueError",
     "evalue": "could not convert string to float: '0b1111'",
     "output_type": "error",
     "traceback": [
      "\u001b[1;31m---------------------------------------------------------------------------\u001b[0m",
      "\u001b[1;31mValueError\u001b[0m                                Traceback (most recent call last)",
      "\u001b[1;32m<ipython-input-13-9f36b945efda>\u001b[0m in \u001b[0;36m<module>\u001b[1;34m\u001b[0m\n\u001b[0;32m      6\u001b[0m \u001b[0mprint\u001b[0m\u001b[1;33m(\u001b[0m\u001b[0mfloat\u001b[0m\u001b[1;33m(\u001b[0m\u001b[1;34m\"10.5\"\u001b[0m\u001b[1;33m)\u001b[0m\u001b[1;33m)\u001b[0m\u001b[1;33m\u001b[0m\u001b[1;33m\u001b[0m\u001b[0m\n\u001b[0;32m      7\u001b[0m \u001b[1;31m#print(float(\"ten\"))#ValueError: could not convert string to float: 'ten'\u001b[0m\u001b[1;33m\u001b[0m\u001b[1;33m\u001b[0m\u001b[1;33m\u001b[0m\u001b[0m\n\u001b[1;32m----> 8\u001b[1;33m \u001b[0mprint\u001b[0m\u001b[1;33m(\u001b[0m\u001b[0mfloat\u001b[0m\u001b[1;33m(\u001b[0m\u001b[1;34m\"0b1111\"\u001b[0m\u001b[1;33m)\u001b[0m\u001b[1;33m)\u001b[0m\u001b[1;33m\u001b[0m\u001b[1;33m\u001b[0m\u001b[0m\n\u001b[0m\u001b[0;32m      9\u001b[0m \u001b[1;33m\u001b[0m\u001b[0m\n\u001b[0;32m     10\u001b[0m \u001b[1;33m\u001b[0m\u001b[0m\n",
      "\u001b[1;31mValueError\u001b[0m: could not convert string to float: '0b1111'"
     ]
    }
   ],
   "source": [
    "#2.float\n",
    "print(float(10))\n",
    "print(float(True))\n",
    "print(float(False))\n",
    "print(float(\"10\"))\n",
    "print(float(\"10.5\"))\n",
    "print(float(\"ten\"))#ValueError: could not convert string to float: 'ten'\n",
    "print(float(\"0b1111\"))#ValueError: could not convert string to float: '0b1111'\n",
    "\n",
    "\n",
    "\n",
    "\n"
   ]
  },
  {
   "cell_type": "code",
   "execution_count": 17,
   "metadata": {},
   "outputs": [
    {
     "name": "stdout",
     "output_type": "stream",
     "text": [
      "False\n",
      "True\n",
      "True\n",
      "True\n",
      "True\n",
      "False\n",
      "True\n",
      "True\n",
      "False\n"
     ]
    }
   ],
   "source": [
    "#3.bool\n",
    "print(bool(0))\n",
    "print(bool(1))\n",
    "print(bool(10))\n",
    "print(bool(10.5))\n",
    "print(bool(0.198))#True\n",
    "print(bool(0.0))#False\n",
    "print(bool(\"True\"))\n",
    "print(bool(\"False\"))#True\n",
    "print(bool(\"\"))#False"
   ]
  },
  {
   "cell_type": "code",
   "execution_count": 22,
   "metadata": {},
   "outputs": [
    {
     "name": "stdout",
     "output_type": "stream",
     "text": [
      "10\n",
      "10.5\n",
      "True\n",
      "1.7320508075688772\n"
     ]
    }
   ],
   "source": [
    "#4.str\n",
    "print(str(10))\n",
    "print(str(10.5))\n",
    "print(str(True))\n",
    "print(str())"
   ]
  },
  {
   "cell_type": "markdown",
   "metadata": {},
   "source": [
    "# Python Operation\n",
    "A)Arithmetic operators\n",
    "1.Addtion(+) (string-> concatenation)\n",
    "2.Substraction(-) \n",
    "3.Multiplication(*) (string-> string multiplication or repition)\n",
    "4.Division(/)(output always will be float)\n",
    "5.Modulus(%)\n",
    "6.Floor Division(//)\n",
    "7.Exponention(**)"
   ]
  },
  {
   "cell_type": "code",
   "execution_count": 27,
   "metadata": {},
   "outputs": [
    {
     "name": "stdout",
     "output_type": "stream",
     "text": [
      "Enter no.:-2\n",
      "Enter no.:-3\n",
      "Addition is: 5\n",
      "Substraction is: -1\n",
      "Multiplication is: 6\n",
      "Division is: 0.6666666666666666\n",
      "Modulus is: 2\n",
      "Floor division is: 0\n",
      "Exponention is: 8\n"
     ]
    }
   ],
   "source": [
    "a=int(input(\"Enter no.:-\"))\n",
    "b=int(input(\"Enter no.:-\"))\n",
    "print(\"Addition is:\",a+b)\n",
    "print(\"Substraction is:\",a-b)\n",
    "print(\"Multiplication is:\",a*b)\n",
    "print(\"Division is:\",a/b)\n",
    "print(\"Modulus is:\",a%b)\n",
    "print(\"Floor division is:\",a//b)\n",
    "print(\"Exponention is:\",a**b)"
   ]
  },
  {
   "cell_type": "markdown",
   "metadata": {},
   "source": [
    "B)Comparision or relational operators\n",
    "1)> -> greater than\n",
    "2)< -> less than\n",
    "3)>= -> greater than or equal to\n",
    "4)<= -> less than or equal to\n",
    "5)== -> equal to \n",
    "6)!= -> not equal to "
   ]
  },
  {
   "cell_type": "code",
   "execution_count": 29,
   "metadata": {},
   "outputs": [
    {
     "name": "stdout",
     "output_type": "stream",
     "text": [
      "Enter no.1:-6\n",
      "Enter no.2:-6\n",
      "a>b is:- False\n",
      "a<b is:- False\n",
      "a>=b is:- True\n",
      "a<=b is:- True\n",
      "a==b is:- True\n",
      "a!=b is:- False\n"
     ]
    }
   ],
   "source": [
    "a=int(input(\"Enter no.1:-\"))\n",
    "b=int(input(\"Enter no.2:-\"))\n",
    "print(\"a>b is:-\",a>b)\n",
    "print(\"a<b is:-\",a<b)\n",
    "print(\"a>=b is:-\",a>=b)\n",
    "print(\"a<=b is:-\",a<=b)\n",
    "print(\"a==b is:-\",a==b)\n",
    "print(\"a!=b is:-\",a!=b)"
   ]
  },
  {
   "cell_type": "code",
   "execution_count": 33,
   "metadata": {},
   "outputs": [
    {
     "name": "stdout",
     "output_type": "stream",
     "text": [
      "Enter no.1:-arman\n",
      "Enter no.2:-aryan\n",
      "a>b is:- False\n",
      "a<b is:- True\n",
      "a>=b is:- False\n",
      "a<=b is:- True\n",
      "a==b is:- False\n",
      "a!=b is:- True\n"
     ]
    }
   ],
   "source": [
    "a=input(\"Enter no.1:-\")\n",
    "b=input(\"Enter no.2:-\")\n",
    "print(\"a>b is:-\",a>b)\n",
    "print(\"a<b is:-\",a<b)\n",
    "print(\"a>=b is:-\",a>=b)\n",
    "print(\"a<=b is:-\",a<=b)\n",
    "print(\"a==b is:-\",a==b)\n",
    "print(\"a!=b is:-\",a!=b)"
   ]
  },
  {
   "cell_type": "code",
   "execution_count": 36,
   "metadata": {},
   "outputs": [
    {
     "name": "stdout",
     "output_type": "stream",
     "text": [
      "True\n",
      "True\n",
      "False\n",
      "True\n",
      "False\n"
     ]
    }
   ],
   "source": [
    "print(True>=True)\n",
    "print(10>True)\n",
    "print(False>True)\n",
    "print(10<20<30)\n",
    "print(10<20<30>40)"
   ]
  },
  {
   "cell_type": "markdown",
   "metadata": {},
   "source": [
    "C) Logical operators\n",
    "1.and\n",
    "2.or\n",
    "3.not"
   ]
  },
  {
   "cell_type": "markdown",
   "metadata": {},
   "source": [
    "I).Boolean Type behaviour\n",
    "and -> if both arguments are trure then only reslult is True.\n",
    "or -> if atleast one arguments are trure then only reslult is True.\n",
    "not -> complement"
   ]
  },
  {
   "cell_type": "code",
   "execution_count": 38,
   "metadata": {},
   "outputs": [
    {
     "name": "stdout",
     "output_type": "stream",
     "text": [
      "False\n",
      "True\n",
      "True\n",
      "False\n"
     ]
    }
   ],
   "source": [
    "print(True and False)#False\n",
    "print(True or False)#True\n",
    "print(not False)#True\n",
    "print(not True)#False"
   ]
  },
  {
   "cell_type": "markdown",
   "metadata": {},
   "source": [
    "II)Non-Boolean Type behaviour\n",
    "->0 means false\n",
    "->non-zero means true\n",
    "->empty string always treated as False\n",
    "1.X and Y -> if X evaluates to False then result is X otherwise result is Y.\n",
    "eg:- 10 and 20 ->20\n",
    "     0 and 20  -> 0\n",
    "2.X or Y -> if X evaluates to True then result is X otherwise result is Y.\n",
    "eg:- 10 and 20 ->10\n",
    "     0 and 20  ->20\n",
    "3.not X ->  if X evaluates to False then result is True otherwise result is False.\n",
    "eg:- not 10 -> False\n",
    "     not 0 -> True"
   ]
  },
  {
   "cell_type": "markdown",
   "metadata": {},
   "source": [
    "III)Ternary Operations(conditional)\n",
    "syntax: x=first value if condition else second value"
   ]
  },
  {
   "cell_type": "code",
   "execution_count": 40,
   "metadata": {},
   "outputs": [
    {
     "name": "stdout",
     "output_type": "stream",
     "text": [
      "30\n"
     ]
    }
   ],
   "source": [
    "a,b=10,20\n",
    "x=30 if a<b else 40\n",
    "print(x)"
   ]
  },
  {
   "cell_type": "markdown",
   "metadata": {},
   "source": [
    "4.Assignment Operator \n",
    "x=10\n",
    "x+=10 -> x=x+10 (+=)\n",
    "x-=10 -> x=x-10 (-=)\n",
    "x*=10 -> x=x*10 (*=)\n",
    "x/=10 -> x=x/10 (/=)\n",
    "x%=10 -> x=x%10 (%=)\n",
    "x**=10 -> x=x**10(**=)\n",
    "x//=10 -> x=x//10"
   ]
  },
  {
   "cell_type": "markdown",
   "metadata": {},
   "source": [
    "5.Membership operator\n",
    "in -> return true if given object present in specefic collection\n",
    "not in -> return true if given object not present in specefic collection\n",
    "\n",
    "Eg: x=\"hello learning python is very busy\"\n",
    "print(\"l\" in x) #True\n",
    "print(\"d\" in x) #False\n",
    "print(\"d\" not in x) #True\n",
    "print(\"python\" in x) #True"
   ]
  },
  {
   "cell_type": "code",
   "execution_count": 43,
   "metadata": {},
   "outputs": [
    {
     "name": "stdout",
     "output_type": "stream",
     "text": [
      "True\n"
     ]
    }
   ],
   "source": [
    "x=\"hello learning python is very busy\"\n",
    "print(\"python\" in x)"
   ]
  },
  {
   "cell_type": "code",
   "execution_count": 44,
   "metadata": {},
   "outputs": [
    {
     "name": "stdout",
     "output_type": "stream",
     "text": [
      "100.0\n",
      "100.0\n",
      "70.0\n"
     ]
    }
   ],
   "source": [
    "a=30\n",
    "b=20\n",
    "c=10\n",
    "d=5\n",
    "print((a+b)*c/d)\n",
    "print((a+b)*(c/d))\n",
    "print(a+(b*c)/d)"
   ]
  },
  {
   "cell_type": "code",
   "execution_count": 46,
   "metadata": {},
   "outputs": [
    {
     "name": "stdout",
     "output_type": "stream",
     "text": [
      "Enter base:-8\n",
      "Enter height:-9\n",
      "36.0\n"
     ]
    }
   ],
   "source": [
    "#WAP to find the area of the triangle.\n",
    "a=float(input(\"Enter base:-\"))\n",
    "b=float(input(\"Enter height:-\"))\n",
    "area=0.5*a*b\n",
    "print(area)"
   ]
  },
  {
   "cell_type": "code",
   "execution_count": 50,
   "metadata": {},
   "outputs": [
    {
     "name": "stdout",
     "output_type": "stream",
     "text": [
      "Enter radius:-2.33\n",
      "17.05539235707363\n"
     ]
    }
   ],
   "source": [
    "#WAP to find area of a circle\n",
    "import math\n",
    "a=float(input(\"Enter radius:-\"))\n",
    "area=math.pi*a*a\n",
    "print(area)"
   ]
  },
  {
   "cell_type": "code",
   "execution_count": 55,
   "metadata": {},
   "outputs": [
    {
     "name": "stdout",
     "output_type": "stream",
     "text": [
      "Enter 1.celsius 2.farenhit2\n",
      "Enter celsius value:-37\n",
      "Temperature in farenheit is:- 98.60000000000001\n"
     ]
    }
   ],
   "source": [
    "#WAP to convert farenhit to celsius and vice versa\n",
    "choice=int(input(\"Enter 1.celsius 2.farenhit\"))\n",
    "if(choice==1):\n",
    "    f=float(input(\"Enter farenhit value:-\"))\n",
    "    c=(f-32)*(5/9)\n",
    "    print(\"Temperature in celsius is:-\",c)\n",
    "else:\n",
    "    c=float(input(\"Enter celsius value:-\"))\n",
    "    f=(9/5)*c+32\n",
    "    print(\"Temperature in farenheit is:-\",f)\n",
    "    \n",
    "\n",
    "\n"
   ]
  },
  {
   "cell_type": "code",
   "execution_count": 73,
   "metadata": {},
   "outputs": [
    {
     "name": "stdout",
     "output_type": "stream",
     "text": [
      "Enter days:-932\n",
      "years:- 2 months:- 6 days:- 22\n"
     ]
    }
   ],
   "source": [
    "#WAP to enter no of days the it prints in year,months and days\n",
    "d=int(input(\"Enter days:-\"))\n",
    "y=d//365\n",
    "m1=d%365\n",
    "m=m1//30\n",
    "d1=m1%30\n",
    "print(\"years:-\",y,\"months:-\",m,\"days:-\",d1)"
   ]
  },
  {
   "cell_type": "code",
   "execution_count": null,
   "metadata": {},
   "outputs": [],
   "source": []
  },
  {
   "cell_type": "code",
   "execution_count": null,
   "metadata": {},
   "outputs": [],
   "source": []
  }
 ],
 "metadata": {
  "kernelspec": {
   "display_name": "Python 3",
   "language": "python",
   "name": "python3"
  },
  "language_info": {
   "codemirror_mode": {
    "name": "ipython",
    "version": 3
   },
   "file_extension": ".py",
   "mimetype": "text/x-python",
   "name": "python",
   "nbconvert_exporter": "python",
   "pygments_lexer": "ipython3",
   "version": "3.8.5"
  }
 },
 "nbformat": 4,
 "nbformat_minor": 4
}
