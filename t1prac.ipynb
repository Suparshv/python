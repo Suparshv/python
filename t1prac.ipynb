{
 "cells": [
  {
   "cell_type": "markdown",
   "metadata": {},
   "source": [
    "Gross pay,annual income,income tax calculation.\n",
    "Gross pay consists of:-\n",
    "-basic pay,HRA,DA,other allowance,profession tax,providend fund,transport allowance.\n",
    "Gross pay=basic pay+HRA+DA+other allowance+transport allowance-profession tax-providend fund\n",
    "Profession tax->rs200 for each grade level basic pay and each month\n",
    "HRA->0.3 times of basic pay-class 1 cities\n",
    "     0.2 times of basic pay-class 2 cities\n",
    "     0.1 times of basic pay-class 3 cities"
   ]
  },
  {
   "cell_type": "code",
   "execution_count": 38,
   "metadata": {},
   "outputs": [
    {
     "name": "stdout",
     "output_type": "stream",
     "text": [
      "Enter grade level:-E\n",
      "Enter class of city:-1\n",
      "38500.0\n",
      "462000.0\n",
      "Incometax to pay:- 10600.0\n",
      "Annual income after incometax:- 451400.0\n"
     ]
    }
   ],
   "source": [
    "grade=input(\"Enter grade level:-\")\n",
    "city=int(input(\"Enter class of city:-\"))\n",
    "pt=200\n",
    "tt=900\n",
    "basicpay=0\n",
    "HRA=0\n",
    "DA=0\n",
    "otherallowance=0\n",
    "providendfund=0\n",
    "incometax=0\n",
    "if grade=='A':\n",
    "    basicpay=60000\n",
    "    otherallowance=8000\n",
    "elif grade=='B':\n",
    "    basicpay=50000\n",
    "    otherallowance=7000\n",
    "elif grade=='C':\n",
    "    basicpay=40000\n",
    "    otherallowance=6000\n",
    "elif grade=='D':\n",
    "    basicpay=30000\n",
    "    otherallowance=5000\n",
    "elif grade=='E':\n",
    "    basicpay=20000\n",
    "    otherallowance=4000\n",
    "elif grade=='F':\n",
    "    basicpay=10000\n",
    "    otherallowance=3000\n",
    "else:\n",
    "    print(\"Entered grade is invalid.\")\n",
    "\n",
    "DA=basicpay*0.5\n",
    "providendfund=0.11*basicpay\n",
    "def grosspay1():\n",
    "    if city==1:\n",
    "        HRA=basicpay*0.3\n",
    "    elif city==2:\n",
    "        HRA=basicpay*0.2\n",
    "    elif city==3:\n",
    "        HRA=basicpay*0.1\n",
    "    else:\n",
    "        print(\"Entered class of city is invalid\")\n",
    "    grosspay =basicpay+HRA+DA+otherallowance+tt-pt-providendfund\n",
    "    return grosspay\n",
    "def AnnualIncome():\n",
    "    annualincome=grosspay*12\n",
    "    return annualincome\n",
    "grosspay = grosspay1()\n",
    "print(grosspay)\n",
    "annualincome1=AnnualIncome()\n",
    "ai=annualincome1\n",
    "print(annualincome1)\n",
    "def Incometax():\n",
    "    if ai<250000:\n",
    "        print(\"No income tax!!\")\n",
    "    elif ai>250001 and ai<500000:\n",
    "        incometax=(ai-250000)*0.05\n",
    "        print(\"Incometax to pay:-\",incometax)\n",
    "        print(\"Annual income after incometax:-\",annualincome1-incometax)\n",
    "    elif ai>500001 and ai<750000:\n",
    "        incometax=(ai-500000)*0.1+12500\n",
    "        print(\"Incometax to pay:-\",incometax)\n",
    "        print(\"Annual income after incometax:-\",annualincome1-incometax)\n",
    "    elif ai>750001 and ai<1000000:\n",
    "        incometax=(ai-750000)*0.15+37500\n",
    "        print(\"Incometax to pay:-\",incometax)\n",
    "        print(\"Annual income after incometax:-\",annualincome1-incometax)\n",
    "    elif ai>1000001 and ai<1250000:\n",
    "        incometax=(ai-1000000)*0.2+75000\n",
    "        print(\"Incometax to pay:-\",incometax)\n",
    "        print(\"Annual income after incometax:-\",annualincome1-incometax)\n",
    "    elif ai>1250001 and ai<1500000:\n",
    "        incometax=(ai-1250000)*0.25+125000\n",
    "        print(\"Incometax to pay:-\",incometax)\n",
    "        print(\"Annual income after incometax:-\",annualincome1-incometax)\n",
    "    elif ai>1500001:\n",
    "        incometax=(ai-1500000)*0.3+187500\n",
    "        print(\"Incometax to pay:-\",incometax)\n",
    "        print(\"Annual income after incometax:-\",annualincome1-incometax)\n",
    "Incometax()"
   ]
  },
  {
   "cell_type": "code",
   "execution_count": 57,
   "metadata": {},
   "outputs": [
    {
     "name": "stdout",
     "output_type": "stream",
     "text": [
      "Enter year:-2025\n",
      "Enter month:-2\n",
      "Enter date:-31\n",
      "Not valid date\n",
      "Enter date:-28\n",
      "2025 - 3 - 1\n"
     ]
    }
   ],
   "source": [
    "#WAP to get next day of a given day.\n",
    "year=int(input(\"Enter year:-\"))\n",
    "b=True\n",
    "while b:\n",
    "    month=int(input(\"Enter month:-\"))\n",
    "    date=int(input(\"Enter date:-\"))\n",
    "    if month==2:\n",
    "        if((year%4==0) and(year%100!=0) or year%400==0):\n",
    "            pass\n",
    "        else:\n",
    "            if date>28:\n",
    "                print(\"Not valid date\")\n",
    "                date=int(input(\"Enter date:-\"))\n",
    "    if (month>12 and month<1) and (date >31 and date<1) :\n",
    "        print(\"Enter valid month\")\n",
    "    else:\n",
    "        b=False\n",
    "if month in(1,3,5,7,8,10,12):\n",
    "    numdays=31\n",
    "    if date==31 and month==12:\n",
    "        year+=1\n",
    "        month=1\n",
    "        date=1\n",
    "    elif date==31:\n",
    "        month+=1\n",
    "        date=1\n",
    "    else:\n",
    "        date+=1\n",
    "elif month==2:\n",
    "    if((year%4==0) and(year%100!=0) or year%400==0):\n",
    "        numdays=29\n",
    "        if(date==29):\n",
    "            month=3\n",
    "            date=1\n",
    "        else:\n",
    "            date+=1\n",
    "    else:\n",
    "        numdays=28\n",
    "        if(date==28):\n",
    "            month=3\n",
    "            date=1\n",
    "        else:\n",
    "            date+=1\n",
    "else:\n",
    "    numdays=30\n",
    "    if date==30:\n",
    "        month+=1\n",
    "        date=1\n",
    "    else:\n",
    "        date+=1\n",
    "print(year,\"-\",month,\"-\",date)"
   ]
  },
  {
   "cell_type": "code",
   "execution_count": 71,
   "metadata": {},
   "outputs": [
    {
     "name": "stdout",
     "output_type": "stream",
     "text": [
      "Enter number:-123\n",
      "432\n"
     ]
    }
   ],
   "source": [
    "#WAP ex-123456789 to 234567890\n",
    "n=int(input(\"Enter number:-\"))\n",
    "y=x=n\n",
    "sum=0\n",
    "while(n>0):\n",
    "    x=n%10\n",
    "    x+=1\n",
    "    sum=sum*10+x\n",
    "    n=n//10\n",
    "print(sum)\n",
    "    "
   ]
  },
  {
   "cell_type": "code",
   "execution_count": null,
   "metadata": {},
   "outputs": [],
   "source": []
  },
  {
   "cell_type": "code",
   "execution_count": null,
   "metadata": {},
   "outputs": [],
   "source": []
  }
 ],
 "metadata": {
  "kernelspec": {
   "display_name": "Python 3",
   "language": "python",
   "name": "python3"
  },
  "language_info": {
   "codemirror_mode": {
    "name": "ipython",
    "version": 3
   },
   "file_extension": ".py",
   "mimetype": "text/x-python",
   "name": "python",
   "nbconvert_exporter": "python",
   "pygments_lexer": "ipython3",
   "version": "3.8.5"
  }
 },
 "nbformat": 4,
 "nbformat_minor": 4
}
