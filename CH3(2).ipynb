{
 "cells": [
  {
   "cell_type": "markdown",
   "metadata": {},
   "source": [
    "# Fucntion Specification\n",
    "1.Docstring-The text between the triple quotation marks is called a docstring in python.It is used to provide specifications of fucntions."
   ]
  },
  {
   "cell_type": "code",
   "execution_count": 3,
   "metadata": {},
   "outputs": [
    {
     "name": "stdout",
     "output_type": "stream",
     "text": [
      "Arguement passed into x returns x squared\n"
     ]
    }
   ],
   "source": [
    "def squared_number(x):\n",
    "    \"\"\"Arguement passed into x returns x squared\"\"\"\n",
    "    return x*x\n",
    "print(squared_number.__doc__)"
   ]
  },
  {
   "cell_type": "code",
   "execution_count": 4,
   "metadata": {},
   "outputs": [
    {
     "name": "stdout",
     "output_type": "stream",
     "text": [
      "Returns the sum of two decimal numbers\n",
      "        Parameters:\n",
      "            a(int):A decimal number\n",
      "            b(int):Another decimal number\n",
      "            Returns:\n",
      "            Sum:sum of a and b\n"
     ]
    }
   ],
   "source": [
    "def add(a,b):\n",
    "    \"\"\"Returns the sum of two decimal numbers\n",
    "        Parameters:\n",
    "            a(int):A decimal number\n",
    "            b(int):Another decimal number\n",
    "            Returns:\n",
    "            Sum:sum of a and b\"\"\"\n",
    "    sum=a+b\n",
    "    return sum\n",
    "print(add.__doc__)"
   ]
  },
  {
   "cell_type": "markdown",
   "metadata": {},
   "source": [
    "# Types of arguement"
   ]
  },
  {
   "cell_type": "markdown",
   "metadata": {},
   "source": [
    "# 1.Positional Arguement"
   ]
  },
  {
   "cell_type": "code",
   "execution_count": 6,
   "metadata": {},
   "outputs": [
    {
     "name": "stdout",
     "output_type": "stream",
     "text": [
      "-100\n",
      "100\n"
     ]
    }
   ],
   "source": [
    "def sub(a,b):\n",
    "    print(a-b)\n",
    "sub(100,200)\n",
    "sub(200,100)"
   ]
  },
  {
   "cell_type": "markdown",
   "metadata": {},
   "source": [
    "# 2.Keyword Arguements"
   ]
  },
  {
   "cell_type": "code",
   "execution_count": 10,
   "metadata": {},
   "outputs": [
    {
     "name": "stdout",
     "output_type": "stream",
     "text": [
      "Hello Suparsh Good morning\n",
      "Hello Suparsh Good morning\n",
      "Hello Suparsh Good morning\n",
      "Hello Suparsh Good morning\n"
     ]
    }
   ],
   "source": [
    "def wish(name,msg):\n",
    "    print(\"Hello\",name,msg)\n",
    "wish(name=\"Suparsh\",msg=\"Good morning\")\n",
    "wish(msg=\"Good morning\",name=\"Suparsh\")\n",
    "wish(\"Suparsh\",\"Good morning\")\n",
    "wish(\"Suparsh\",msg=\"Good morning\")\n",
    "#wish(name=\"Suparsh\",\"Good morning\")#SyntaxError: positional argument follows keyword argument"
   ]
  },
  {
   "cell_type": "markdown",
   "metadata": {},
   "source": [
    "# 3.Default Arguements"
   ]
  },
  {
   "cell_type": "code",
   "execution_count": 14,
   "metadata": {},
   "outputs": [
    {
     "name": "stdout",
     "output_type": "stream",
     "text": [
      "Hello Suparsh Good morning\n",
      "Hello guest Good morning\n"
     ]
    }
   ],
   "source": [
    "def wish(name=\"guest\"):\n",
    "    print(\"Hello\",name,\"Good morning\")\n",
    "wish(\"Suparsh\")\n",
    "wish()"
   ]
  },
  {
   "cell_type": "markdown",
   "metadata": {},
   "source": [
    "# 4.Variable Length Arguements"
   ]
  },
  {
   "cell_type": "code",
   "execution_count": 17,
   "metadata": {},
   "outputs": [
    {
     "name": "stdout",
     "output_type": "stream",
     "text": [
      "The sum is= 10\n",
      "The sum is= 60\n",
      "The sum is= 150\n"
     ]
    }
   ],
   "source": [
    "def f1(*n):\n",
    "    total=0\n",
    "    for n1 in n:\n",
    "        total+=n1\n",
    "    print(\"The sum is=\",total)\n",
    "f1(10)\n",
    "f1(10,20,30)\n",
    "f1(10,20,30,40,50)"
   ]
  },
  {
   "cell_type": "code",
   "execution_count": 25,
   "metadata": {},
   "outputs": [
    {
     "name": "stdout",
     "output_type": "stream",
     "text": [
      "10 *\n",
      "10 *\n",
      "20\n",
      "30\n",
      "10 *\n",
      "A\n",
      "20\n",
      "B\n"
     ]
    }
   ],
   "source": [
    "def sum(n1,*s): #sum(*s,n1) error if n1 keyword is not assigned value.\n",
    "    print(n1,\"*\")\n",
    "    for s1 in s:\n",
    "        print(s1)\n",
    "sum(10)\n",
    "sum(10,20,30)\n",
    "sum(10,\"A\",20,\"B\")"
   ]
  },
  {
   "cell_type": "code",
   "execution_count": 32,
   "metadata": {},
   "outputs": [
    {
     "name": "stdout",
     "output_type": "stream",
     "text": [
      "{'m1': 200, 'm2': 300}\n",
      "('m1', 200)\n",
      "('m2', 300)\n"
     ]
    }
   ],
   "source": [
    "def display(**kwargs):\n",
    "    print(kwargs)#dictionary\n",
    "    for k in kwargs.values():# or keys or items\n",
    "        print(k)\n",
    "display(m1=200,m2=300)"
   ]
  },
  {
   "cell_type": "code",
   "execution_count": 43,
   "metadata": {},
   "outputs": [
    {
     "name": "stdout",
     "output_type": "stream",
     "text": [
      "Enter choice:\n",
      "1.C to F\n",
      " 2.F to C2\n",
      "Enter value in farenhite:-100\n",
      "Celsius value is= 37.77777777777778\n"
     ]
    }
   ],
   "source": [
    "#WAP to convert celsius and farenhite and vice versa.\n",
    "choice=int(input(\"Enter choice:\\n1.C to F\\n 2.F to C\"))\n",
    "if(choice==1):\n",
    "    fer()\n",
    "elif (choice==2):\n",
    "    cel()\n",
    "else:\n",
    "    print(\"Invalid choice....\")\n",
    "def cel():\n",
    "    far=float(input(\"Enter value in farenhite:-\"))\n",
    "    c=(far-32)*5/9\n",
    "    print(\"Celsius value is=\",c)\n",
    "def fer():\n",
    "    cel=float(input(\"Enter value in celsius:-\"))\n",
    "    f=(1.8*cel)+32\n",
    "    print(\"Farenhite value is=\",f)\n"
   ]
  },
  {
   "cell_type": "code",
   "execution_count": 60,
   "metadata": {},
   "outputs": [
    {
     "name": "stdout",
     "output_type": "stream",
     "text": [
      "ENTER NUMBER=5\n",
      "ENTER STARTING RANGE=1\n",
      "ENTER ENDING RANGE=10\n",
      "yes\n"
     ]
    }
   ],
   "source": [
    "a=int(input(\"ENTER NUMBER=\"))\n",
    "b=int(input(\"ENTER STARTING RANGE=\"))\n",
    "c=int(input(\"ENTER ENDING RANGE=\"))\n",
    "def find(a,b,c):\n",
    "    if a in range(b,c+1):\n",
    "        print(\"yes\")\n",
    "    else:\n",
    "        print(\"no\")\n",
    "        \n",
    "find(a,b,c)"
   ]
  },
  {
   "cell_type": "code",
   "execution_count": 89,
   "metadata": {},
   "outputs": [
    {
     "name": "stdout",
     "output_type": "stream",
     "text": [
      "Enter number=133\n",
      "ENTER CHOICE:\n",
      "1.Pallindrome\n",
      "2.Armstrong\n",
      "3.Prime\n",
      "4.Happy number\n",
      "4\n",
      "Happy number\n"
     ]
    }
   ],
   "source": [
    "#WAP for pallindrome,armstrong,prime,happynumber\n",
    "def pal(n):\n",
    "    rev=0\n",
    "    x=n\n",
    "    while(n>0):\n",
    "        rev=(rev*10)+n%10\n",
    "        n=n//10\n",
    "    if(rev==x):\n",
    "        print(\"Entered number is pallindrome\")\n",
    "    else:\n",
    "        print(\"Number is not pallidrome\")\n",
    "def arm(n):\n",
    "        x=n\n",
    "        y=n\n",
    "        count=0\n",
    "        sum=0\n",
    "        while n>0:\n",
    "            n=n//10\n",
    "            count+=1\n",
    "        while(x>0):\n",
    "            sum=(sum)+((x%10)**count)\n",
    "            x=x//10\n",
    "        print(sum)\n",
    "        if(y==sum):\n",
    "            print(\"Number is armstrong\")\n",
    "        else:\n",
    "            print(\"Number is not armstrong\")  \n",
    "def prime(n):\n",
    "    count=0\n",
    "    for i in range(1,n+1):\n",
    "        if(n%i==0):\n",
    "            count+=1\n",
    "        else:\n",
    "            continue\n",
    "    if(count==2):\n",
    "        print(\"Number is prime\")\n",
    "    else:\n",
    "        print(\"Number is composite\")\n",
    "def happy(n):\n",
    "    a=n\n",
    "    b=a\n",
    "    while a!=1 and a!=4:\n",
    "        sum=0\n",
    "        while a!=0:\n",
    "            sum=sum+((a%10)**2)\n",
    "            a=a//10\n",
    "        a=sum\n",
    "    if a==1:\n",
    "        print(\"Happy number\")\n",
    "    else:\n",
    "        print(\"Not a happy number\")\n",
    "\n",
    "n=int(input(\"Enter number=\"))\n",
    "global n\n",
    "z=n\n",
    "count=0;\n",
    "while(z>0):\n",
    "    z=z//10\n",
    "    count+=1\n",
    "if(count==3):\n",
    "    a=int(input(\"ENTER CHOICE:\\n1.Pallindrome\\n2.Armstrong\\n3.Prime\\n4.Happy number\\n\"))\n",
    "    if(a==1):\n",
    "        pal(n)\n",
    "    elif(a==2):\n",
    "        arm(n)\n",
    "    elif(a==3):\n",
    "        prime(n)\n",
    "    else:\n",
    "        happy(n)\n",
    "else:\n",
    "    print(\"Enter 3 digit number:\")"
   ]
  },
  {
   "cell_type": "code",
   "execution_count": 103,
   "metadata": {},
   "outputs": [
    {
     "name": "stdout",
     "output_type": "stream",
     "text": [
      "ENTER ONE DIGIT NUMBER=5\n",
      "111115\n",
      "111151\n",
      "111511\n",
      "115111\n",
      "151111\n",
      "511111\n"
     ]
    }
   ],
   "source": [
    "#WAP that enters a single digit int no. and produces all possible 6digit numbers for which the product of that digits \n",
    "#equal to that entered number.\n",
    "a=int(input(\"ENTER ONE DIGIT NUMBER=\"))\n",
    "for i in range(100000,999999):\n",
    "    pro=1\n",
    "    j=i\n",
    "    while i>0:\n",
    "        b=i%10\n",
    "        pro=pro*b\n",
    "        i=i//10\n",
    "    if(pro==a):\n",
    "        print(j)\n"
   ]
  },
  {
   "cell_type": "code",
   "execution_count": 102,
   "metadata": {},
   "outputs": [],
   "source": [
    "#WAP that prompts the user to enter the numbers and stops only when the user enters stop.After this print sum,min,max\n",
    "#and average of that number.  \n"
   ]
  },
  {
   "cell_type": "code",
   "execution_count": null,
   "metadata": {},
   "outputs": [],
   "source": []
  }
 ],
 "metadata": {
  "kernelspec": {
   "display_name": "Python 3",
   "language": "python",
   "name": "python3"
  },
  "language_info": {
   "codemirror_mode": {
    "name": "ipython",
    "version": 3
   },
   "file_extension": ".py",
   "mimetype": "text/x-python",
   "name": "python",
   "nbconvert_exporter": "python",
   "pygments_lexer": "ipython3",
   "version": "3.8.5"
  }
 },
 "nbformat": 4,
 "nbformat_minor": 4
}
