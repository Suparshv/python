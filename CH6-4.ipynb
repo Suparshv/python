{
 "cells": [
  {
   "cell_type": "code",
   "execution_count": 16,
   "metadata": {},
   "outputs": [],
   "source": [
    "f=open(\"a.txt\",\"r\")\n",
    "f1=open(\"b.txt\",\"r\")\n",
    "a=f.read()\n",
    "b=f1.read()\n",
    "f.seek(0)\n",
    "f1.seek(0)\n",
    "f2=open(\"c.txt\",\"w\")\n",
    "for i in range (min(len(a),len(b))):\n",
    "    f2.write(f.readline())    \n",
    "    f2.write(f1.readline())\n",
    "f2.close()"
   ]
  },
  {
   "cell_type": "code",
   "execution_count": 24,
   "metadata": {},
   "outputs": [
    {
     "name": "stdout",
     "output_type": "stream",
     "text": [
      "The word is: rekmbmbmbmbmbmbmbmbmbmbmbmbr\n",
      "Its length is: 28\n"
     ]
    }
   ],
   "source": [
    "#WAP to find the longest word in the text file.\n",
    "f=open(\"d.txt\",\"r\")\n",
    "a=f.read()\n",
    "b=a.split()\n",
    "max=0\n",
    "for i in b:\n",
    "    for j in b:\n",
    "        if(len(j)>max):\n",
    "            word=j\n",
    "            max=len(j)\n",
    "        else:\n",
    "            continue\n",
    "print(\"The word is:\",word)\n",
    "print(\"Its length is:\",max)"
   ]
  },
  {
   "cell_type": "code",
   "execution_count": 27,
   "metadata": {},
   "outputs": [
    {
     "name": "stdout",
     "output_type": "stream",
     "text": [
      "Overwriting demo.txt\n"
     ]
    }
   ],
   "source": [
    "%%writefile demo.txt\n",
    "jajg jgnjkngvj jvnf jvn ejvn\n",
    "sg vjnvej nv envbkfb\n",
    " vkmvkemfmbklmfk\n",
    "# directly makes file and write in the txt file"
   ]
  },
  {
   "cell_type": "code",
   "execution_count": null,
   "metadata": {},
   "outputs": [],
   "source": []
  }
 ],
 "metadata": {
  "kernelspec": {
   "display_name": "Python 3",
   "language": "python",
   "name": "python3"
  },
  "language_info": {
   "codemirror_mode": {
    "name": "ipython",
    "version": 3
   },
   "file_extension": ".py",
   "mimetype": "text/x-python",
   "name": "python",
   "nbconvert_exporter": "python",
   "pygments_lexer": "ipython3",
   "version": "3.8.5"
  }
 },
 "nbformat": 4,
 "nbformat_minor": 4
}
