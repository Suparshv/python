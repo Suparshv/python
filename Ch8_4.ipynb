{
 "cells": [
  {
   "cell_type": "code",
   "execution_count": 1,
   "metadata": {},
   "outputs": [
    {
     "name": "stdout",
     "output_type": "stream",
     "text": [
      "Welcome to ATM\n",
      "Enter\n",
      "1.Press 1 to create pin\n",
      "2.Press 2 to change pin\n",
      "3.Press 3 to check balance\n",
      "4.Press 4 to withdraw\n",
      "Press 5 to exit\n",
      "1\n",
      "Enter new pin to create:1234\n",
      "Welcome to ATM\n",
      "Enter\n",
      "1.Press 1 to create pin\n",
      "2.Press 2 to change pin\n",
      "3.Press 3 to check balance\n",
      "4.Press 4 to withdraw\n",
      "Press 5 to exit\n",
      "4\n",
      "Enter pin to withdraw:1234\n",
      "Enter amount to withdraw:99000\n",
      "Amount withdrawn is: 99000\n",
      "Balance: -3950.0\n",
      "Welcome to ATM\n",
      "Enter\n",
      "1.Press 1 to create pin\n",
      "2.Press 2 to change pin\n",
      "3.Press 3 to check balance\n",
      "4.Press 4 to withdraw\n",
      "Press 5 to exit\n",
      "5\n"
     ]
    }
   ],
   "source": [
    "#wap to make a class atm and make methods to create pin,change pin,check balance and withdrawal.\n",
    "class atm:\n",
    "    def __init__(self):\n",
    "        self.pin=\"\"\n",
    "        self.balance=100000\n",
    "        self.amt=0\n",
    "        self.menu()\n",
    "    def menu(self):\n",
    "        print(\"Welcome to ATM\")\n",
    "        user_input=input(\"Enter\\n1.Press 1 to create pin\\n2.Press 2 to change pin\\n3.Press 3 to check balance\\n4.Press 4 to withdraw\\nPress 5 to exit\\n\")\n",
    "        if user_input=='1':\n",
    "            self.create_pin()\n",
    "        elif user_input=='2':\n",
    "            self.change_pin()\n",
    "        elif user_input=='3':\n",
    "            self.check_bal(self.balance)\n",
    "        elif user_input=='4':\n",
    "            self.withdraw(self.balance)\n",
    "        elif user_input=='5':\n",
    "            exit()\n",
    "    def create_pin(self):\n",
    "        a=input(\"Enter new pin to create:\")\n",
    "        self.pin=a\n",
    "        self.menu()\n",
    "    def change_pin(self):\n",
    "        opin=input(\"Enter old pin:\")\n",
    "        if opin==self.pin:\n",
    "            newpin=input(\"Enter new pin:\")\n",
    "        else:\n",
    "            print(\"incorrect pin\")\n",
    "            self.menu()\n",
    "        print(\"New pin:\",newpin)\n",
    "        self.pin=newpin\n",
    "        self.menu()\n",
    "    def check_bal(self,balance):\n",
    "        print(\"Available balanace:\",self.balance)\n",
    "        self.menu()\n",
    "    def withdraw(self,bal):\n",
    "        epin=input(\"Enter pin to withdraw:\")\n",
    "        if epin==self.pin:\n",
    "            amt=int(input(\"Enter amount to withdraw:\"))\n",
    "        else:\n",
    "            print(\"incorrect password\")\n",
    "            self.menu()\n",
    "        if amt>self.balance:\n",
    "            print(\"Insufficient balance.\")\n",
    "            self.menu()\n",
    "        else:\n",
    "            print(\"Amount withdrawn is:\",amt)\n",
    "            self.balance=self.balance-amt\n",
    "            self.balance=self.balance-(amt*0.05)\n",
    "            print(\"Balance:\",self.balance)\n",
    "            self.menu()\n",
    "atm1=atm()"
   ]
  },
  {
   "cell_type": "code",
   "execution_count": null,
   "metadata": {},
   "outputs": [],
   "source": []
  },
  {
   "cell_type": "code",
   "execution_count": null,
   "metadata": {},
   "outputs": [],
   "source": []
  },
  {
   "cell_type": "code",
   "execution_count": null,
   "metadata": {},
   "outputs": [],
   "source": []
  }
 ],
 "metadata": {
  "kernelspec": {
   "display_name": "Python 3",
   "language": "python",
   "name": "python3"
  },
  "language_info": {
   "codemirror_mode": {
    "name": "ipython",
    "version": 3
   },
   "file_extension": ".py",
   "mimetype": "text/x-python",
   "name": "python",
   "nbconvert_exporter": "python",
   "pygments_lexer": "ipython3",
   "version": "3.8.5"
  }
 },
 "nbformat": 4,
 "nbformat_minor": 4
}
