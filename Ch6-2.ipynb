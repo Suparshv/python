{
 "cells": [
  {
   "cell_type": "code",
   "execution_count": 4,
   "metadata": {},
   "outputs": [],
   "source": [
    "#WA dictionary to a file in python\n",
    "x={\"Name\":\"Alice\",\"Age\":\"20\",\"Degree\":\"CSE\",\"University\":\"Oxford University\"}\n",
    "f=open(\"p4.txt\",\"w\")\n",
    "for a,b in x.items():\n",
    "    f.write(a+\"=\")\n",
    "    f.write(b+\"\\n\")\n",
    "f.close()"
   ]
  },
  {
   "cell_type": "code",
   "execution_count": 7,
   "metadata": {},
   "outputs": [],
   "source": [
    "#WAP to copy content of one file to another file in uppercase.\n",
    "f=open(\"p4.txt\",\"r\")\n",
    "f1=open(\"p5.txt\",\"w\")\n",
    "s=str(f.read())\n",
    "f1.write(s.upper())\n",
    "f.close()\n",
    "f1.close()"
   ]
  },
  {
   "cell_type": "code",
   "execution_count": 9,
   "metadata": {},
   "outputs": [],
   "source": [
    "#WAP to reverse the content of a file and store it in other file.\n",
    "f=open(\"p4.txt\",\"r\")\n",
    "f1=open(\"p6.txt\",\"w\")\n",
    "d=f.read()\n",
    "d1=d[::-1]\n",
    "f1.write(d1)\n",
    "f.close()\n",
    "f1.close()"
   ]
  },
  {
   "cell_type": "code",
   "execution_count": 18,
   "metadata": {},
   "outputs": [],
   "source": [
    "#wap to reverse line content in a file and store in other file.\n",
    "f=open(\"p4.txt\",\"r\")\n",
    "f1=open(\"p7.txt\",\"w\")\n",
    "z=f.readlines()\n",
    "z.reverse()\n",
    "f1.writelines(z)\n",
    "f.close()\n",
    "f1.close()"
   ]
  },
  {
   "cell_type": "code",
   "execution_count": 33,
   "metadata": {},
   "outputs": [
    {
     "name": "stdout",
     "output_type": "stream",
     "text": [
      "['virat\\n', 'rohit\\n', 'jadeja\\n', 'bumrah\\n', 'ashwin\\n', 'gill\\n', 'siraj\\n', 'reddy\\n', 'virat\\n', 'rohit\\n', 'jadeja\\n', 'bumrah\\n', 'ashwin\\n']\n"
     ]
    }
   ],
   "source": [
    "#WAP to copy odd lines from one file to another file.\n",
    "f=open(\"p1.txt\",\"r\")\n",
    "f1=open(\"p8.txt\",\"w\")\n",
    "z=f.readlines()\n",
    "print(z)\n",
    "for i in z:\n",
    "    if((z.index(i)+1)%2!=0):\n",
    "        f1.writelines(i)\n",
    "f1.close()"
   ]
  },
  {
   "cell_type": "code",
   "execution_count": 38,
   "metadata": {},
   "outputs": [
    {
     "name": "stdout",
     "output_type": "stream",
     "text": [
      "Enter the file name:p9\n",
      "virat\n",
      "\n",
      "rohit\n",
      "\n",
      "jadeja\n",
      "\n",
      "bumrah\n",
      "\n",
      "ashwin\n",
      "\n",
      "Enter key:w\n",
      "gill\n",
      "\n",
      "siraj\n",
      "\n",
      "reddy\n",
      "\n",
      "virat\n",
      "\n",
      "rohit\n",
      "\n",
      "Enter key:r\n",
      "jadeja\n",
      "\n",
      "bumrah\n",
      "\n",
      "ashwin\n",
      "\n",
      "This is python1.\n",
      "\n",
      "This is python2.\n",
      "\n",
      "Enter key:r\n",
      "This is python3.\n",
      "\n",
      "This is python4.\n",
      "\n",
      "Name=Alice\n",
      "\n",
      "Age=20\n",
      "\n",
      "Degree=CSE\n",
      "\n",
      "Enter key:r\n",
      "University=Oxford University\n",
      "\n",
      "\n",
      "\n",
      "\n",
      "Enter key:q\n"
     ]
    }
   ],
   "source": [
    "#WAP pagger program your solution should from a file name and display the \n",
    "#text file 5 lines at a time pausing each time to ask the user any key to \n",
    "#continue and press Q to quit\n",
    "n=input(\"Enter the file name:\")+\".txt\"\n",
    "f=open(n,\"r\")\n",
    "flag=True\n",
    "count=0\n",
    "while flag:\n",
    "    if(count==0):\n",
    "        for i in range(5):\n",
    "            print(f.readline())\n",
    "    key=input(\"Enter key:\")\n",
    "    count=1\n",
    "    if key=='Q' or key=='q':\n",
    "        flag=False\n",
    "        break\n",
    "    else:\n",
    "        for i in range(5):\n",
    "            print(f.readline())"
   ]
  },
  {
   "cell_type": "code",
   "execution_count": 44,
   "metadata": {},
   "outputs": [],
   "source": [
    "#WAP to copy the contents of two files into a single file\n",
    "f=open(\"p1.txt\",\"r\")\n",
    "f1=open(\"p3.txt\",\"r\")\n",
    "f2=open(\"p10.txt\",\"w\")\n",
    "f2.write(f.read())\n",
    "f2.write(f1.read())\n",
    "f2.close()"
   ]
  },
  {
   "cell_type": "code",
   "execution_count": 51,
   "metadata": {},
   "outputs": [],
   "source": [
    "#WAP to display all lines of a file except those with # sign and copy to \n",
    "#other file.\n",
    "f=open(\"p11.txt\",\"r\")\n",
    "f1=open(\"p12.txt\",\"w\")\n",
    "z=f.readlines()\n",
    "for i in z:\n",
    "    for j in i:\n",
    "        if j==\"#\":\n",
    "            f1.write(\"\\n\")\n",
    "            break\n",
    "        else:\n",
    "            f1.write(j)\n",
    "f1.close()"
   ]
  },
  {
   "cell_type": "code",
   "execution_count": null,
   "metadata": {},
   "outputs": [],
   "source": []
  },
  {
   "cell_type": "code",
   "execution_count": null,
   "metadata": {},
   "outputs": [],
   "source": []
  }
 ],
 "metadata": {
  "kernelspec": {
   "display_name": "Python 3",
   "language": "python",
   "name": "python3"
  },
  "language_info": {
   "codemirror_mode": {
    "name": "ipython",
    "version": 3
   },
   "file_extension": ".py",
   "mimetype": "text/x-python",
   "name": "python",
   "nbconvert_exporter": "python",
   "pygments_lexer": "ipython3",
   "version": "3.8.5"
  }
 },
 "nbformat": 4,
 "nbformat_minor": 4
}
