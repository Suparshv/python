{
 "cells": [
  {
   "cell_type": "markdown",
   "metadata": {},
   "source": [
    "# Text type:Str\n",
    "-For multi line string use triple single quotes or triple double quotes.\n",
    "-For multi line comment use triple single quotes or triple double quotes."
   ]
  },
  {
   "cell_type": "code",
   "execution_count": 3,
   "metadata": {},
   "outputs": [
    {
     "name": "stdout",
     "output_type": "stream",
     "text": [
      "njn gjnf e\n",
      "hf hrg erjghre grr gej gj he\n",
      "rg erg egh hg egh \n",
      "suparsh's home\n",
      "10\n"
     ]
    }
   ],
   "source": [
    "s1=\"njn gjnf e\"\n",
    "s2=\"\"\"hf hrg erjghre grr gej gj he\n",
    "rg erg egh hg egh \"\"\"\n",
    "s3=\"suparsh's home\"\n",
    "print(s1)\n",
    "print(s2)\n",
    "print(s3)\n",
    "\n",
    "\"\"\"this is  a python program\n",
    "python is open source\n",
    "python is easy to learn\"\"\""
   ]
  },
  {
   "cell_type": "markdown",
   "metadata": {},
   "source": [
    "# Numeric type"
   ]
  },
  {
   "cell_type": "code",
   "execution_count": 10,
   "metadata": {},
   "outputs": [
    {
     "name": "stdout",
     "output_type": "stream",
     "text": [
      "<class 'int'>\n",
      "<class 'int'>\n",
      "<class 'int'>\n",
      "<class 'float'>\n",
      "<class 'float'>\n",
      "<class 'float'>\n",
      "36000.0\n"
     ]
    }
   ],
   "source": [
    "x=1\n",
    "y=35565564791\n",
    "z=-3626272\n",
    "print(type(x))\n",
    "print(type(y))\n",
    "print(type(z))\n",
    "x=1.5\n",
    "y=355655.45\n",
    "z=-445013.454\n",
    "print(type(x))\n",
    "print(type(y))\n",
    "print(type(z))\n",
    "a=36e3#e or E means 36x10^3 so its type is float\n",
    "print(type(a))\n"
   ]
  },
  {
   "cell_type": "markdown",
   "metadata": {},
   "source": [
    "# 1.Decimal form\n",
    "a=111"
   ]
  },
  {
   "cell_type": "markdown",
   "metadata": {},
   "source": [
    "# 2.Binary form\n",
    "a=0b1111 or 0B1111\n"
   ]
  },
  {
   "cell_type": "markdown",
   "metadata": {},
   "source": [
    "# 3.Octal form\n",
    "a=0o1 or a=0O1\n"
   ]
  },
  {
   "cell_type": "markdown",
   "metadata": {},
   "source": [
    "# 4.Hexa Decimal form\n",
    "a=0x111 or 0X111"
   ]
  },
  {
   "cell_type": "code",
   "execution_count": 12,
   "metadata": {},
   "outputs": [
    {
     "name": "stdout",
     "output_type": "stream",
     "text": [
      "<class 'int'>\n",
      "<class 'int'>\n",
      "<class 'int'>\n",
      "<class 'int'>\n"
     ]
    }
   ],
   "source": [
    "a=111\n",
    "print(a)\n",
    "a=0b1111\n",
    "print(a)\n",
    "a=0o1\n",
    "print(a)\n",
    "a=0x111\n",
    "print(a)"
   ]
  },
  {
   "cell_type": "markdown",
   "metadata": {},
   "source": [
    "# Base Conversion\n",
    "1.bin()\n",
    "2.oct()\n",
    "3.hex()\n",
    "4."
   ]
  },
  {
   "cell_type": "code",
   "execution_count": 20,
   "metadata": {},
   "outputs": [
    {
     "name": "stdout",
     "output_type": "stream",
     "text": [
      "0b1111\n",
      "0b1001\n",
      "0b10001\n"
     ]
    }
   ],
   "source": [
    "print(bin(15))\n",
    "print(bin(0o11))\n",
    "print(bin(0x11))"
   ]
  },
  {
   "cell_type": "code",
   "execution_count": 21,
   "metadata": {},
   "outputs": [
    {
     "name": "stdout",
     "output_type": "stream",
     "text": [
      "0o17\n",
      "0o17\n",
      "0o21\n"
     ]
    }
   ],
   "source": [
    "print(oct(15))\n",
    "print(oct(0b1111))\n",
    "print(oct(0x11))"
   ]
  },
  {
   "cell_type": "code",
   "execution_count": 23,
   "metadata": {},
   "outputs": [
    {
     "name": "stdout",
     "output_type": "stream",
     "text": [
      "0xf\n",
      "0xf\n",
      "0x11\n"
     ]
    }
   ],
   "source": [
    "print(hex(15))\n",
    "print(hex(0b1111))\n",
    "print(hex(0o11))"
   ]
  },
  {
   "cell_type": "code",
   "execution_count": 28,
   "metadata": {},
   "outputs": [
    {
     "name": "stdout",
     "output_type": "stream",
     "text": [
      "21\n",
      "9\n",
      "15\n"
     ]
    }
   ],
   "source": [
    "x=hex(0x15)\n",
    "print(int(x,16))\n",
    "x=oct(0o11)\n",
    "print(int(x,8))\n",
    "x=bin(0b1111)\n",
    "print(int(x,2))"
   ]
  },
  {
   "cell_type": "markdown",
   "metadata": {},
   "source": [
    "# Sequence Type:-List,Tuple,Range"
   ]
  },
  {
   "cell_type": "code",
   "execution_count": 45,
   "metadata": {},
   "outputs": [
    {
     "name": "stdout",
     "output_type": "stream",
     "text": [
      "['apple', 'banana', 'orange']\n",
      "['apple', 'banana', 1, 2.5, True, False]\n",
      "<class 'list'>\n",
      "<class 'list'>\n",
      "['mango', 'banana', 'orange']\n"
     ]
    }
   ],
   "source": [
    "#LIST\n",
    "'''\n",
    "1.Ordered\n",
    "2. changeable\n",
    "3.duplicates allowed\n",
    "4.indexed\n",
    "mutable data type/strcuture'''\n",
    "l1=[\"apple\",\"banana\",\"orange\"]\n",
    "print(l1)\n",
    "l2=[\"apple\",\"banana\",1,2.5,True,False]\n",
    "print(l2)\n",
    "print(type(l1))\n",
    "print(type(l2))\n",
    "l1[0]=\"mango\"\n",
    "print(l1)#['mango', 'banana', 'orange']"
   ]
  },
  {
   "cell_type": "code",
   "execution_count": 35,
   "metadata": {},
   "outputs": [
    {
     "name": "stdout",
     "output_type": "stream",
     "text": [
      "('apple', 'banana', 'orange')\n",
      "('abcd', 9, True, False)\n",
      "<class 'tuple'>\n",
      "<class 'tuple'>\n"
     ]
    },
    {
     "ename": "TypeError",
     "evalue": "'tuple' object does not support item assignment",
     "output_type": "error",
     "traceback": [
      "\u001b[1;31m---------------------------------------------------------------------------\u001b[0m",
      "\u001b[1;31mTypeError\u001b[0m                                 Traceback (most recent call last)",
      "\u001b[1;32m<ipython-input-35-d0bf0db9fccb>\u001b[0m in \u001b[0;36m<module>\u001b[1;34m\u001b[0m\n\u001b[0;32m      6\u001b[0m \u001b[0mprint\u001b[0m\u001b[1;33m(\u001b[0m\u001b[0mtype\u001b[0m\u001b[1;33m(\u001b[0m\u001b[0mt1\u001b[0m\u001b[1;33m)\u001b[0m\u001b[1;33m)\u001b[0m\u001b[1;33m\u001b[0m\u001b[1;33m\u001b[0m\u001b[0m\n\u001b[0;32m      7\u001b[0m \u001b[0mprint\u001b[0m\u001b[1;33m(\u001b[0m\u001b[0mtype\u001b[0m\u001b[1;33m(\u001b[0m\u001b[0mt2\u001b[0m\u001b[1;33m)\u001b[0m\u001b[1;33m)\u001b[0m\u001b[1;33m\u001b[0m\u001b[1;33m\u001b[0m\u001b[0m\n\u001b[1;32m----> 8\u001b[1;33m \u001b[0mt1\u001b[0m\u001b[1;33m[\u001b[0m\u001b[1;36m0\u001b[0m\u001b[1;33m]\u001b[0m\u001b[1;33m=\u001b[0m\u001b[1;34m\"mango\"\u001b[0m\u001b[1;33m\u001b[0m\u001b[1;33m\u001b[0m\u001b[0m\n\u001b[0m\u001b[0;32m      9\u001b[0m \u001b[0mprint\u001b[0m\u001b[1;33m(\u001b[0m\u001b[0mt1\u001b[0m\u001b[1;33m)\u001b[0m\u001b[1;33m\u001b[0m\u001b[1;33m\u001b[0m\u001b[0m\n",
      "\u001b[1;31mTypeError\u001b[0m: 'tuple' object does not support item assignment"
     ]
    }
   ],
   "source": [
    "#TUPLE\n",
    "'''\n",
    "1.Ordered\n",
    "2.unchngeable\n",
    "3.duplicates allowed\n",
    "4.indexed\n",
    "immutable data type/strcuture'''\n",
    "t1=(\"apple\",\"banana\",\"orange\")\n",
    "print(t1)\n",
    "t2=(\"abcd\",9,True,False)\n",
    "print(t2)\n",
    "print(type(t1))\n",
    "print(type(t2))\n",
    "t1[0]=\"mango\"#TypeError: 'tuple' object does not support item assignment\n",
    "print(t1)"
   ]
  },
  {
   "cell_type": "markdown",
   "metadata": {},
   "source": [
    "# Mapping Type:-Dictionary(key-value pair)"
   ]
  },
  {
   "cell_type": "code",
   "execution_count": 51,
   "metadata": {},
   "outputs": [
    {
     "name": "stdout",
     "output_type": "stream",
     "text": [
      "bucky\n",
      "stark\n",
      "clint\n"
     ]
    }
   ],
   "source": [
    "'''\n",
    "1.ordered\n",
    "2.changeable\n",
    "3.doest allow duplicates'''\n",
    "d={10:\"bucky\",20:\"stark\",30:\"clint\"}\n",
    "print(d[10])\n",
    "print(d[20])\n",
    "print(d[30])\n"
   ]
  },
  {
   "cell_type": "markdown",
   "metadata": {},
   "source": [
    "# Set"
   ]
  },
  {
   "cell_type": "code",
   "execution_count": 56,
   "metadata": {},
   "outputs": [
    {
     "name": "stdout",
     "output_type": "stream",
     "text": [
      "{1, 2, 3, 7, 9}\n",
      "{'banana', 'apple'}\n"
     ]
    }
   ],
   "source": [
    "'''\n",
    "1.unorderd\n",
    "2.unindexed\n",
    "3.do not allow duplicates'''\n",
    "x={1,2,3,7,2,7,3,1,9}\n",
    "print(x)\n",
    "y={'apple','banana','apple'}\n",
    "print(y)"
   ]
  },
  {
   "cell_type": "code",
   "execution_count": 58,
   "metadata": {},
   "outputs": [
    {
     "name": "stdout",
     "output_type": "stream",
     "text": [
      "frozenset({1, 2, 3, 4, 5, 6, 7, 8, 9})\n"
     ]
    }
   ],
   "source": [
    "#Frozen Set\n",
    "list=[1,2,3,4,5,6,7,8,9]\n",
    "y=frozenset(list)\n",
    "print(y)"
   ]
  },
  {
   "cell_type": "markdown",
   "metadata": {},
   "source": [
    "# Boolean Type:bool"
   ]
  },
  {
   "cell_type": "code",
   "execution_count": 59,
   "metadata": {},
   "outputs": [
    {
     "name": "stdout",
     "output_type": "stream",
     "text": [
      "False\n",
      "True\n",
      "True\n",
      "False\n",
      "True\n",
      "False\n",
      "True\n"
     ]
    }
   ],
   "source": [
    "print(bool(0))\n",
    "print(bool(1))\n",
    "print(bool(\"apple\"))\n",
    "print(bool(\"\"))\n",
    "print(bool(0<8))\n",
    "print(bool(0>8))\n",
    "print(bool(0==0))"
   ]
  },
  {
   "cell_type": "markdown",
   "metadata": {},
   "source": [
    "# Reserved keywords\n",
    "1.True\n",
    "2.False\n",
    "3.None\n",
    "4.and \n",
    "5.or \n",
    "6.not\n",
    "7.def\n",
    "8.pass\n",
    "9.global\n",
    "10.is\n",
    "11.if\n",
    "12.elif\n",
    "13.else\n",
    "14.while\n",
    "15.non local\n",
    "16.lamda\n",
    "17.del\n",
    "18.with\n",
    "19.for\n",
    "20.break\n",
    "21.continue\n",
    "22.return\n",
    "23.in\n",
    "24.yield\n",
    "25.try\n",
    "26.except\n",
    "27.finally\n",
    "28.raise\n",
    "29.assert\n",
    "30.import\n",
    "31.from \n",
    "32.as\n",
    "33.class"
   ]
  },
  {
   "cell_type": "code",
   "execution_count": 64,
   "metadata": {},
   "outputs": [
    {
     "name": "stdout",
     "output_type": "stream",
     "text": [
      "7\n",
      "<class 'str'>\n",
      "7.0\n",
      "(1, 2, 3, 4, 5)\n",
      "<class 'tuple'>\n",
      "<class 'int'>\n",
      "2\n"
     ]
    }
   ],
   "source": [
    "#Type casting\n",
    "x=7\n",
    "y=str(7)\n",
    "z=float(7)\n",
    "print(x)\n",
    "print(type(y))\n",
    "print(z)\n",
    "a=1,2,3,4,5\n",
    "print(a)\n",
    "print(type(a))\n",
    "a,b,c,d=1,2,3,4#typr is int\n",
    "#equiavlent to a=1,b=2,c=3,d=4"
   ]
  },
  {
   "cell_type": "code",
   "execution_count": 69,
   "metadata": {},
   "outputs": [
    {
     "name": "stdout",
     "output_type": "stream",
     "text": [
      "Variable: 20\n",
      "Hello suparsh\n"
     ]
    }
   ],
   "source": [
    "s=20\n",
    "print(\"Variable:\",s)\n",
    "s1=\"suparsh\"\n",
    "print(\"Hello\",s1)"
   ]
  },
  {
   "cell_type": "code",
   "execution_count": 74,
   "metadata": {},
   "outputs": [
    {
     "name": "stdout",
     "output_type": "stream",
     "text": [
      "1020\n",
      "9090909090909090909090909090909090909090\n"
     ]
    }
   ],
   "source": [
    "a=\"10\"\n",
    "b=\"20\"\n",
    "print(a+b)\n",
    "a=\"90\"\n",
    "b=20\n",
    "print(a*b)#here 90 will be printed 20times (*) used for repitition in string cases."
   ]
  },
  {
   "cell_type": "markdown",
   "metadata": {},
   "source": [
    "# Global variable & Local Variable"
   ]
  },
  {
   "cell_type": "code",
   "execution_count": 81,
   "metadata": {},
   "outputs": [
    {
     "name": "stdout",
     "output_type": "stream",
     "text": [
      "java\n",
      "python\n"
     ]
    }
   ],
   "source": [
    "a=\"python\"#global variable\n",
    "def test():\n",
    "    a=\"java\"#local variable\n",
    "    print(a)\n",
    "test()\n",
    "print(a)"
   ]
  },
  {
   "cell_type": "code",
   "execution_count": 82,
   "metadata": {},
   "outputs": [
    {
     "name": "stdout",
     "output_type": "stream",
     "text": [
      "java\n",
      "java\n"
     ]
    }
   ],
   "source": [
    "a=\"python\"#global variable\n",
    "def test():\n",
    "    global a\n",
    "    a=\"java\"#local variable\n",
    "    print(a)\n",
    "test()\n",
    "print(a)"
   ]
  },
  {
   "cell_type": "markdown",
   "metadata": {},
   "source": [
    "# Reading user input"
   ]
  },
  {
   "cell_type": "code",
   "execution_count": 85,
   "metadata": {},
   "outputs": [
    {
     "name": "stdout",
     "output_type": "stream",
     "text": [
      "Enter data:jf rjijr g3k/.h;lt khth2311154h hrtryh rhs\n",
      "jf rjijr g3k/.h;lt khth2311154h hrtryh rhs\n",
      "Enter int data:45815351\n",
      "45815351\n"
     ]
    }
   ],
   "source": [
    "x=input(\"Enter data:\")\n",
    "print(x)\n",
    "y=int(input(\"Enter int data:\"))\n",
    "print(y)"
   ]
  },
  {
   "cell_type": "code",
   "execution_count": null,
   "metadata": {},
   "outputs": [],
   "source": []
  },
  {
   "cell_type": "code",
   "execution_count": null,
   "metadata": {},
   "outputs": [],
   "source": []
  }
 ],
 "metadata": {
  "kernelspec": {
   "display_name": "Python 3",
   "language": "python",
   "name": "python3"
  },
  "language_info": {
   "codemirror_mode": {
    "name": "ipython",
    "version": 3
   },
   "file_extension": ".py",
   "mimetype": "text/x-python",
   "name": "python",
   "nbconvert_exporter": "python",
   "pygments_lexer": "ipython3",
   "version": "3.8.5"
  }
 },
 "nbformat": 4,
 "nbformat_minor": 4
}
