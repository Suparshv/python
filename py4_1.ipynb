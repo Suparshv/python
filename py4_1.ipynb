{
 "cells": [
  {
   "cell_type": "markdown",
   "metadata": {},
   "source": [
    "# Unit : 04 Immutable data structure\n",
    "    1.String\n",
    "    2.Tuple"
   ]
  },
  {
   "cell_type": "markdown",
   "metadata": {},
   "source": [
    "# 1. String\n",
    "    ==>Accessing Character of String\n",
    "        a.By using index\n",
    "        Eg: a = \"Lj University\"\n",
    "            print(a[3])#U\n",
    "            print(a[-1])#y\n",
    "            print(a[-5])#r\n",
    "            print(a[20])#IndexError: string index out of range\n",
    "        b.By using slicing operation \n",
    "        Syntax ==> s[begin index:end index:step]\n",
    "        Eg: s = \"Learning python is very easy\"\n",
    "            print(s[1:7:1])#earnin\n",
    "            print(s[1:7:2])#eri\n",
    "            print(s[1:7])#earnin\n",
    "            print(s[:7])#Learnin\n",
    "            print(s[9:])#python is very easy\n",
    "            print(s[::])#Learning python is very easy\n",
    "            print(s[:])#Learning python is very easy\n",
    "            print(s[::-1])#ysae yrev si nohtyp gninraeL\n",
    "            print(s[-1:-4:-1])#ysa\n",
    "            print(s[-1:-4:-1])#Blank output"
   ]
  },
  {
   "cell_type": "code",
   "execution_count": 11,
   "metadata": {},
   "outputs": [
    {
     "name": "stdout",
     "output_type": "stream",
     "text": [
      "U\n",
      "y\n",
      "r\n"
     ]
    },
    {
     "ename": "IndexError",
     "evalue": "string index out of range",
     "output_type": "error",
     "traceback": [
      "\u001b[1;31m---------------------------------------------------------------------------\u001b[0m",
      "\u001b[1;31mIndexError\u001b[0m                                Traceback (most recent call last)",
      "\u001b[1;32m<ipython-input-11-05a3ef5612a3>\u001b[0m in \u001b[0;36m<module>\u001b[1;34m\u001b[0m\n\u001b[0;32m      3\u001b[0m \u001b[0mprint\u001b[0m\u001b[1;33m(\u001b[0m\u001b[0ma\u001b[0m\u001b[1;33m[\u001b[0m\u001b[1;33m-\u001b[0m\u001b[1;36m1\u001b[0m\u001b[1;33m]\u001b[0m\u001b[1;33m)\u001b[0m\u001b[1;33m\u001b[0m\u001b[1;33m\u001b[0m\u001b[0m\n\u001b[0;32m      4\u001b[0m \u001b[0mprint\u001b[0m\u001b[1;33m(\u001b[0m\u001b[0ma\u001b[0m\u001b[1;33m[\u001b[0m\u001b[1;33m-\u001b[0m\u001b[1;36m5\u001b[0m\u001b[1;33m]\u001b[0m\u001b[1;33m)\u001b[0m\u001b[1;33m\u001b[0m\u001b[1;33m\u001b[0m\u001b[0m\n\u001b[1;32m----> 5\u001b[1;33m \u001b[0mprint\u001b[0m\u001b[1;33m(\u001b[0m\u001b[0ma\u001b[0m\u001b[1;33m[\u001b[0m\u001b[1;36m20\u001b[0m\u001b[1;33m]\u001b[0m\u001b[1;33m)\u001b[0m\u001b[1;33m\u001b[0m\u001b[1;33m\u001b[0m\u001b[0m\n\u001b[0m",
      "\u001b[1;31mIndexError\u001b[0m: string index out of range"
     ]
    }
   ],
   "source": [
    "a = \"Lj University\"\n",
    "print(a[3])\n",
    "print(a[-1])\n",
    "print(a[-5])\n",
    "print(a[20])"
   ]
  },
  {
   "cell_type": "code",
   "execution_count": 10,
   "metadata": {},
   "outputs": [
    {
     "name": "stdout",
     "output_type": "stream",
     "text": [
      "earnin\n",
      "eri\n",
      "earnin\n",
      "Learnin\n",
      "python is very easy\n",
      "Learning python is very easy\n",
      "Learning python is very easy\n",
      "ysae yrev si nohtyp gninraeL\n",
      "ysa\n",
      "\n"
     ]
    }
   ],
   "source": [
    "s = \"Learning python is very easy\"\n",
    "print(s[1:7:1])\n",
    "print(s[1:7:2])\n",
    "print(s[1:7])\n",
    "print(s[:7])\n",
    "print(s[9:])\n",
    "print(s[::])\n",
    "print(s[:])\n",
    "print(s[::-1])\n",
    "print(s[-1:-4:-1])\n",
    "print(s[-1:-4])"
   ]
  },
  {
   "cell_type": "markdown",
   "metadata": {},
   "source": [
    "## Mathematical operation for string\n",
    "    a.(+) ==> concatenation\n",
    "    Eg: print(\"Arman\"+\"Dhariya\")\n",
    "    b.(*) ==> repetation of string multiplication\n",
    "    Eg: print(\"Lucky \"*3)"
   ]
  },
  {
   "cell_type": "markdown",
   "metadata": {},
   "source": [
    "## Comparision of Sring\n",
    "    Eg: s1=input(\"Enter first string\")\n",
    "        s2=input(\"Enter first string\")\n",
    "        if s1==s2:\n",
    "            print(\"String are same\")\n",
    "        elif s1 < s2:\n",
    "            print(\"Second String is greater\")\n",
    "        else:\n",
    "            print(\"First String is greater\")"
   ]
  },
  {
   "cell_type": "code",
   "execution_count": 15,
   "metadata": {},
   "outputs": [
    {
     "name": "stdout",
     "output_type": "stream",
     "text": [
      "Enter first string : Arman\n",
      "Enter second string: Aryan\n",
      "Second String is greater\n"
     ]
    }
   ],
   "source": [
    "s1=input(\"Enter first string : \")\n",
    "s2=input(\"Enter second string: \")\n",
    "if s1==s2:\n",
    "    print(\"String are same\")\n",
    "elif s1 < s2:\n",
    "    print(\"Second String is greater\")\n",
    "else:\n",
    "    print(\"First String is greater\")"
   ]
  },
  {
   "cell_type": "markdown",
   "metadata": {},
   "source": [
    "## Joining of String\n",
    "    Synatx ==> separator.join(Group of String)\n",
    "    Eg: t= (\"Apple\",\"Banana\",\"Mango\")\n",
    "        x=\"-\".join(t)\n",
    "        print(x)#Apple-Banana-Mango"
   ]
  },
  {
   "cell_type": "code",
   "execution_count": 18,
   "metadata": {},
   "outputs": [
    {
     "name": "stdout",
     "output_type": "stream",
     "text": [
      "Apple-Banana-Mango\n"
     ]
    }
   ],
   "source": [
    "t= (\"Apple\",\"Banana\",\"Mango\")\n",
    "x=\"-\".join(t)\n",
    "print(x)"
   ]
  },
  {
   "cell_type": "markdown",
   "metadata": {},
   "source": [
    "## Formating of String\n",
    "    Eg:name = \"Arman\"\n",
    "    salary = 50000\n",
    "    age = 225\n",
    "    print(\"{}'s salary is {} and age is{}\".format(name,salary,age))#Arman's salary is 50000 and age is 225\n",
    "    print(\"{1}'s salary is {0} and age is{2}\".format(name,salary,age))#50000's salary is Arman and age is 225"
   ]
  },
  {
   "cell_type": "code",
   "execution_count": 21,
   "metadata": {},
   "outputs": [
    {
     "name": "stdout",
     "output_type": "stream",
     "text": [
      "Arman's salary is 50000 and age is 225\n",
      "50000's salary is Arman and age is 225\n"
     ]
    }
   ],
   "source": [
    "name = \"Arman\"\n",
    "salary = 50000\n",
    "age = 225\n",
    "print(\"{}'s salary is {} and age is {}\".format(name,salary,age))\n",
    "print(\"{1}'s salary is {0} and age is {2}\".format(name,salary,age))"
   ]
  },
  {
   "cell_type": "markdown",
   "metadata": {},
   "source": [
    "## Function of string\n",
    "    a.len()\n",
    "    Eg: a = \"LJIET\"\n",
    "        print(len(a))\n",
    "    b.rstrip()\n",
    "    Eg: t= \"Banana  \"\n",
    "        x=t.rstrip()\n",
    "        print(x,\"is a fruit\")#Banana is a fruit\n",
    "        print(len(t))#8\n",
    "        print(len(x))#6\n",
    "        x=t.rstrip(\"a\")\n",
    "        print(x,\"is a fruit\")#Banan is a fruit\n",
    "        x=t.rstrip(\"an\")\n",
    "        print(x,\"is a fruit\")#B is a fruit\n",
    "        t= \"Bandana\"\n",
    "        x=t.rstrip(\"an\")\n",
    "        print(x,\"is a fruit\")#Band is a fruit\n",
    "        \n",
    "        \n",
    "    c.lstrip()\n",
    "    Eg: t= \"  Banana\"\n",
    "        x=t.lstrip()\n",
    "        print(x,\"is a fruit\")#Banana is a fruit\n",
    "        print(len(t))#8\n",
    "        print(len(x))#6\n",
    "        x=t.lstrip(\"b\")\n",
    "        print(x,\"is a fruit\")#anan is a fruit\n",
    "        x=t.lstrip(\"ba\")\n",
    "        print(x,\"is a fruit\")#nana is a fruit\n",
    "        \n",
    "    d.strip()\n",
    "     Eg: t= \"  Banana  \"\n",
    "        x=t.strip()\n",
    "        print(x,\"is a fruit\")#Banana is a fruit\n",
    "        print(len(t))#8\n",
    "        print(len(x))#6\n",
    "        t= \"Banana\"\n",
    "        x=t.strip(\"an\")\n",
    "        print(x,\"is a fruit\")#B is a fruit"
   ]
  },
  {
   "cell_type": "markdown",
   "metadata": {},
   "source": [
    "## Changing case of a string\n",
    "    a.upper() ==> change the string in upper case\n",
    "    b.lower() ==> change the string in lower case\n",
    "    c.swapcase() ==> change the string to opposite case\n",
    "    d.title() ==> every words first letter will in upper case\n",
    "    e.capitalize() ==>first letter of string will in upper case"
   ]
  },
  {
   "cell_type": "markdown",
   "metadata": {},
   "source": [
    "## To check type of character in string\n",
    "    ==>Always return boolean expression\n",
    "    a.isalnum() ==> True if (a-z,A-Z,0 to 9)\n",
    "    b.isalpha() ==> True if (a-z,A-Z)\n",
    "    c.isdigit() ==> True if (0 to 9,superscript,subscript)\n",
    "    d.isnumeric() ==> True if (0 to 9,roman etc..)\n",
    "    e.islower() ==> does not check for symbols\n",
    "    f.isupper() ==> does not check for symbols\n",
    "    g.istitle()\n",
    "    h.isidentifier()\n",
    "    i.isspace()"
   ]
  },
  {
   "cell_type": "code",
   "execution_count": 73,
   "metadata": {},
   "outputs": [
    {
     "name": "stdout",
     "output_type": "stream",
     "text": [
      "16\n",
      "3\n",
      "13\n",
      "5\n",
      "4\n",
      "4\n",
      "5\n"
     ]
    }
   ],
   "source": [
    "s = \"Pyt@h$%on is 124 Very Ea$sy43\"\n",
    "alphabets = 0\n",
    "uppercase = 0\n",
    "lowercase = 0\n",
    "digits = 0\n",
    "space=0\n",
    "specialchar = 0\n",
    "word = 1\n",
    "for i in s:\n",
    "    if i.isalpha():\n",
    "        alphabets+=1\n",
    "        if i.isupper():\n",
    "            uppercase+=1\n",
    "        elif i.islower():\n",
    "            lowercase+=1\n",
    "    elif i.isdigit():\n",
    "        digits+=1\n",
    "    elif i.isspace():\n",
    "        space+=1\n",
    "        word+=1\n",
    "    else:\n",
    "        specialchar+=1\n",
    "print(alphabets)\n",
    "print(uppercase)\n",
    "print(lowercase)\n",
    "print(digits)\n",
    "print(space)\n",
    "print(specialchar)\n",
    "print(word)"
   ]
  },
  {
   "cell_type": "code",
   "execution_count": 78,
   "metadata": {
    "scrolled": true
   },
   "outputs": [
    {
     "name": "stdout",
     "output_type": "stream",
     "text": [
      "2\n",
      "25\n",
      "-1\n",
      "9\n"
     ]
    }
   ],
   "source": [
    "\"\"\"==>find()\n",
    "syntax : s.find(substring)\n",
    "         s.find(substring,begin,end)\"\"\"\n",
    "s=\"Learning Python is very easy\"\n",
    "print(s.find(\"a\"))#2\n",
    "print(s.find(\"a\",3,50))#25\n",
    "print(s.find(\"d\"))#-1\n",
    "print(s.find(\"Python\"))#9"
   ]
  },
  {
   "cell_type": "code",
   "execution_count": 79,
   "metadata": {},
   "outputs": [
    {
     "name": "stdout",
     "output_type": "stream",
     "text": [
      "1\n",
      "0\n"
     ]
    }
   ],
   "source": [
    "\"\"\"==>count()\n",
    "syntax : s.count(substring)\n",
    "         s.count(substring,begin,end)\"\"\"\n",
    "s=\"abcdefghijklmnopqrstuvwxyz\"\n",
    "print(s.count(\"a\"))#1\n",
    "print(s.count(\"a\",5,20))#0"
   ]
  }
 ],
 "metadata": {
  "kernelspec": {
   "display_name": "Python 3",
   "language": "python",
   "name": "python3"
  },
  "language_info": {
   "codemirror_mode": {
    "name": "ipython",
    "version": 3
   },
   "file_extension": ".py",
   "mimetype": "text/x-python",
   "name": "python",
   "nbconvert_exporter": "python",
   "pygments_lexer": "ipython3",
   "version": "3.8.5"
  }
 },
 "nbformat": 4,
 "nbformat_minor": 4
}
