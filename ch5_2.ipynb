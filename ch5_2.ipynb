{
 "cells": [
  {
   "cell_type": "code",
   "execution_count": 30,
   "metadata": {},
   "outputs": [
    {
     "name": "stdout",
     "output_type": "stream",
     "text": [
      "{'D': [\"Don't\"], 'w': ['wait'], 'f': ['for', 'feeling'], 'y': ['your'], 't': ['to', 'to', 'take', 'the'], 'c': ['change'], 'a': ['action']}\n"
     ]
    }
   ],
   "source": [
    "#WAP to create a dictionary with the key as the first charecter and value as list of word starting with that charecter.\n",
    "s=\"Don't wait for your feeling to change to take the action\"\n",
    "d=dict()\n",
    "l=s.split()\n",
    "#print(l)\n",
    "for i in l :\n",
    "    key=i[0]\n",
    "    if key in d.keys():\n",
    "        d[key].append(i)\n",
    "    else:\n",
    "        d[key]=[i]\n",
    "print(d)"
   ]
  },
  {
   "cell_type": "markdown",
   "metadata": {},
   "source": [
    "# Set\n",
    "->unordered,changeable(mutable)\n",
    "->represent a group of unique values as a single entitiy.\n",
    "->duplicates are not allowed\n",
    "->insertion order is not preserved\n",
    "->indexing and slicing is not allowed\n",
    "->heterogenous elements allowed\n",
    "->curly braces with comma separator\n",
    "->mathematical operations like union,intersection,differnce etc..."
   ]
  },
  {
   "cell_type": "code",
   "execution_count": 32,
   "metadata": {},
   "outputs": [
    {
     "name": "stdout",
     "output_type": "stream",
     "text": [
      "{1, 2, 3, 4, 5, 6}\n",
      "<class 'set'>\n"
     ]
    }
   ],
   "source": [
    "s={1,2,3,3,4,4,4,1,2,5,5,6}\n",
    "print(s)\n",
    "print(type(s))"
   ]
  },
  {
   "cell_type": "code",
   "execution_count": 33,
   "metadata": {},
   "outputs": [
    {
     "name": "stdout",
     "output_type": "stream",
     "text": [
      "{1, 4, 7, 8, 10, 20, 22, 24, 25, 26, 28}\n"
     ]
    }
   ],
   "source": [
    "s={20,25,1,4,4,7,8,10,10,22,24,26,28}\n",
    "print(s)"
   ]
  },
  {
   "cell_type": "code",
   "execution_count": 34,
   "metadata": {},
   "outputs": [
    {
     "name": "stdout",
     "output_type": "stream",
     "text": [
      "{1, 2, 3, 4, 5, 6}\n"
     ]
    }
   ],
   "source": [
    "s=set()\n",
    "l=[1,3,6,4,5,2]\n",
    "s=set(l)\n",
    "print(s)"
   ]
  },
  {
   "cell_type": "code",
   "execution_count": 39,
   "metadata": {},
   "outputs": [
    {
     "name": "stdout",
     "output_type": "stream",
     "text": [
      "{'I', 'T', 'L', 'E', 'J'}\n"
     ]
    }
   ],
   "source": [
    "x=\"LJIET\"\n",
    "s=set(x)\n",
    "print(s)"
   ]
  },
  {
   "cell_type": "code",
   "execution_count": 37,
   "metadata": {},
   "outputs": [
    {
     "name": "stdout",
     "output_type": "stream",
     "text": [
      "{1, 2, 3, 4, 5}\n"
     ]
    }
   ],
   "source": [
    "y=range(1,6)\n",
    "s=set(y)\n",
    "print(s)"
   ]
  },
  {
   "cell_type": "code",
   "execution_count": 40,
   "metadata": {},
   "outputs": [
    {
     "name": "stdout",
     "output_type": "stream",
     "text": [
      "{40, 10, 20, 30}\n"
     ]
    }
   ],
   "source": [
    "l=[10,20,30,40,10,20,30]\n",
    "print(set(l))"
   ]
  },
  {
   "cell_type": "markdown",
   "metadata": {},
   "source": [
    "# Mathematical operations on set\n",
    "1.UNION()\n",
    "2.INTERSECTION()\n",
    "3.DIFFERENCE()\n",
    "4.SYMMETRIC_DIFFERENCE()\n",
    "5.issubset()\n",
    "6.issuperset()"
   ]
  },
  {
   "cell_type": "code",
   "execution_count": 51,
   "metadata": {},
   "outputs": [
    {
     "name": "stdout",
     "output_type": "stream",
     "text": [
      "{40, 10, 50, 20, 60, 30}\n",
      "{40, 10, 50, 20, 60, 30}\n",
      "{40, 10, 50, 20, 60, 30}\n",
      "{40, 30}\n",
      "{40, 30}\n",
      "{10, 20}\n",
      "{10, 20}\n",
      "{50, 60}\n",
      "{50, 60}\n",
      "{10, 50, 20, 60}\n",
      "{10, 50, 20, 60}\n"
     ]
    }
   ],
   "source": [
    "#UNION()\n",
    "x={10,20,30,40}\n",
    "y={30,40,50,60}\n",
    "print(x.union (y))\n",
    "print(x|y)\n",
    "print(y|x)\n",
    "\n",
    "#INTERSECTION()\n",
    "print(x.intersection (y))\n",
    "print(x & y)\n",
    "\n",
    "#DIFFERENCE()\n",
    "print(x.difference (y))\n",
    "print(x-y)\n",
    "print(y.difference (x))\n",
    "print(y-x)\n",
    "\n",
    "#SYMMETRIC DIFFERENCE\n",
    "print(x.symmetric_difference(y))\n",
    "print(x^y)"
   ]
  },
  {
   "cell_type": "code",
   "execution_count": 58,
   "metadata": {},
   "outputs": [
    {
     "name": "stdout",
     "output_type": "stream",
     "text": [
      "True\n",
      "False\n",
      "False\n",
      "False\n"
     ]
    }
   ],
   "source": [
    "#issubset()\n",
    "x={\"a\",\"b\",\"c\"}\n",
    "y={\"f\",\"e\",\"d\",\"c\",\"b\",\"a\"}\n",
    "z=x.issubset(y)\n",
    "print(z)\n",
    "z=y.issubset(x)\n",
    "print(z)\n",
    "\n",
    "#issuperset()\n",
    "z=y.issuperset(x)\n",
    "z=x.issuperset(y)\n",
    "print(z)\n",
    "print(z)"
   ]
  },
  {
   "cell_type": "markdown",
   "metadata": {},
   "source": [
    "# Membership operator\n",
    "1)in\n",
    "2)not in"
   ]
  },
  {
   "cell_type": "code",
   "execution_count": 57,
   "metadata": {},
   "outputs": [
    {
     "name": "stdout",
     "output_type": "stream",
     "text": [
      "{'I', 'T', 'L', 'E', 'J'}\n",
      "True\n",
      "False\n",
      "False\n"
     ]
    }
   ],
   "source": [
    "s=set(\"LJIET\")\n",
    "print(s)\n",
    "print(\"L\" in s)\n",
    "print(\"T\" not in s)\n",
    "print(\"x\" in s)"
   ]
  },
  {
   "cell_type": "markdown",
   "metadata": {},
   "source": [
    "# Important function of set\n",
    "1)add(x)\n",
    "2)update(x,y,z)\n",
    "3)copy()\n",
    "4)pop ->remove\n",
    "5)remove(value) ->if element is not present then gives error\n",
    "6)discard(value) ->if element is not present then it does not gives error\n",
    "6)clear() -> output is set()"
   ]
  },
  {
   "cell_type": "code",
   "execution_count": 59,
   "metadata": {},
   "outputs": [
    {
     "name": "stdout",
     "output_type": "stream",
     "text": [
      "{40, 10, 20, 30}\n"
     ]
    }
   ],
   "source": [
    "#add(x)\n",
    "s={10,20,30}\n",
    "s.add(40)\n",
    "print(s)"
   ]
  },
  {
   "cell_type": "code",
   "execution_count": 61,
   "metadata": {},
   "outputs": [
    {
     "name": "stdout",
     "output_type": "stream",
     "text": [
      "{1, 2, 3, 4, 5, 70, 10, 12, 14, 16, 18, 20, 30, 40, 50, 60}\n"
     ]
    }
   ],
   "source": [
    "#update(x,y,z)\n",
    "s={10,20,30}\n",
    "l={40,50,60,70}\n",
    "s.update(l,range(10,20,2),range(1,6))\n",
    "print(s)"
   ]
  },
  {
   "cell_type": "code",
   "execution_count": 62,
   "metadata": {},
   "outputs": [
    {
     "name": "stdout",
     "output_type": "stream",
     "text": [
      "{10, 20, 30}\n"
     ]
    }
   ],
   "source": [
    "#copy()\n",
    "s={10,20,30}\n",
    "l=s.copy()\n",
    "print(l)"
   ]
  },
  {
   "cell_type": "code",
   "execution_count": 63,
   "metadata": {},
   "outputs": [
    {
     "name": "stdout",
     "output_type": "stream",
     "text": [
      "{10, 20, 30}\n",
      "{20, 30}\n"
     ]
    }
   ],
   "source": [
    "#pop()\n",
    "s={10,20,30}\n",
    "print(s)\n",
    "s.pop()\n",
    "print(s)"
   ]
  },
  {
   "cell_type": "code",
   "execution_count": 64,
   "metadata": {},
   "outputs": [
    {
     "name": "stdout",
     "output_type": "stream",
     "text": [
      "{10, 20, 30}\n",
      "{10, 30}\n"
     ]
    }
   ],
   "source": [
    "#remove(value)\n",
    "s={10,20,30}\n",
    "print(s)\n",
    "s.remove(20)\n",
    "print(s)"
   ]
  },
  {
   "cell_type": "code",
   "execution_count": 65,
   "metadata": {},
   "outputs": [
    {
     "name": "stdout",
     "output_type": "stream",
     "text": [
      "{10, 20, 30}\n",
      "{10, 30}\n"
     ]
    }
   ],
   "source": [
    "#discard(value)\n",
    "s={10,20,30}\n",
    "print(s)\n",
    "s.discard(20)\n",
    "print(s)"
   ]
  },
  {
   "cell_type": "code",
   "execution_count": 66,
   "metadata": {},
   "outputs": [
    {
     "name": "stdout",
     "output_type": "stream",
     "text": [
      "set()\n"
     ]
    }
   ],
   "source": [
    "#clear()\n",
    "s={1,2,3,4}\n",
    "s.clear()\n",
    "print(s)"
   ]
  },
  {
   "cell_type": "markdown",
   "metadata": {},
   "source": [
    "# Set comprehension"
   ]
  },
  {
   "cell_type": "code",
   "execution_count": 67,
   "metadata": {},
   "outputs": [
    {
     "name": "stdout",
     "output_type": "stream",
     "text": [
      "{64, 1, 4, 36, 100, 9, 16, 49, 81, 25}\n"
     ]
    }
   ],
   "source": [
    "s={x*x for x in range(1,11)}\n",
    "print(s)"
   ]
  },
  {
   "cell_type": "code",
   "execution_count": null,
   "metadata": {},
   "outputs": [],
   "source": [
    "s={2**x for x in range(1,6)}\n",
    "print(s)"
   ]
  },
  {
   "cell_type": "markdown",
   "metadata": {},
   "source": [
    "# Frozen set"
   ]
  },
  {
   "cell_type": "code",
   "execution_count": 68,
   "metadata": {},
   "outputs": [
    {
     "name": "stdout",
     "output_type": "stream",
     "text": [
      "{'banana', 'apple', 'cherry', 'pineapple'}\n"
     ]
    }
   ],
   "source": [
    "x=[\"apple\",\"banana\",\"cherry\"]\n",
    "s=set(x)\n",
    "s.add(\"pineapple\")\n",
    "print(s)"
   ]
  },
  {
   "cell_type": "code",
   "execution_count": 72,
   "metadata": {},
   "outputs": [
    {
     "name": "stdout",
     "output_type": "stream",
     "text": [
      "frozenset({'banana', 'apple', 'cherry'})\n"
     ]
    }
   ],
   "source": [
    "f=frozenset(x)\n",
    "#f.add(\"pineapple\")#'frozenset' object has no attribute 'add'\n",
    "print(f)#frozenset({'banana', 'apple', 'cherry'})"
   ]
  },
  {
   "cell_type": "code",
   "execution_count": 77,
   "metadata": {},
   "outputs": [
    {
     "name": "stdout",
     "output_type": "stream",
     "text": [
      "[1, 3, 4, 6]\n"
     ]
    }
   ],
   "source": [
    "#WAP to find the index at which the element of two lists does not match\n",
    "x=[1,2,3,4,6,7,8]\n",
    "y=[1,5,3,6,4,7,3]\n",
    "l=[]\n",
    "if len(x)==len(y):\n",
    "    for i in range(len(x)):\n",
    "        if x[i]!=y[i]:\n",
    "            l.append(i)\n",
    "else:\n",
    "    print(\"length should be same to compare\")\n",
    "print(l)"
   ]
  },
  {
   "cell_type": "code",
   "execution_count": 80,
   "metadata": {},
   "outputs": [
    {
     "name": "stdout",
     "output_type": "stream",
     "text": [
      "CampusX is the best channel for Data-science students \n"
     ]
    }
   ],
   "source": [
    "#WAP to replace words from dictionary given a string repalced its words from lookup dictionary.\n",
    "s=\"CampusX is best for DS students\"\n",
    "d={\"best\":\"the best channel\",\"DS\":\"Data-science\"}\n",
    "a=s.split()\n",
    "p=\"\"\n",
    "for i in a:\n",
    "    if i in d.keys():\n",
    "       p+=d.get(i)+\" \"\n",
    "    else:\n",
    "        p+=i+\" \"\n",
    "print(p)"
   ]
  },
  {
   "cell_type": "code",
   "execution_count": null,
   "metadata": {},
   "outputs": [],
   "source": []
  }
 ],
 "metadata": {
  "kernelspec": {
   "display_name": "Python 3",
   "language": "python",
   "name": "python3"
  },
  "language_info": {
   "codemirror_mode": {
    "name": "ipython",
    "version": 3
   },
   "file_extension": ".py",
   "mimetype": "text/x-python",
   "name": "python",
   "nbconvert_exporter": "python",
   "pygments_lexer": "ipython3",
   "version": "3.8.5"
  }
 },
 "nbformat": 4,
 "nbformat_minor": 4
}
