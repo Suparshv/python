{
 "cells": [
  {
   "cell_type": "markdown",
   "metadata": {},
   "source": [
    "# LAMDA FUNCTION\n",
    "->Function without any name.\n",
    "->nameless function,anonymous function.\n",
    "SYNTAX:-lambda arguement_list:expression"
   ]
  },
  {
   "cell_type": "code",
   "execution_count": 1,
   "metadata": {},
   "outputs": [
    {
     "name": "stdout",
     "output_type": "stream",
     "text": [
      "16\n",
      "25\n"
     ]
    }
   ],
   "source": [
    "s=lambda n:n*n\n",
    "print(s(4))\n",
    "print(s(5))"
   ]
  },
  {
   "cell_type": "code",
   "execution_count": 2,
   "metadata": {},
   "outputs": [
    {
     "name": "stdout",
     "output_type": "stream",
     "text": [
      "10\n"
     ]
    }
   ],
   "source": [
    "#Lambda function to find sum of two number\n",
    "s=lambda a,b:a+b\n",
    "print(s(5,5))"
   ]
  },
  {
   "cell_type": "markdown",
   "metadata": {},
   "source": [
    "1)map() function\n",
    "-for every element present ingiven sequence,apply some funcitonality and generate new element with required modification.\n",
    "SYNTAX:-map(function,sequence)"
   ]
  },
  {
   "cell_type": "code",
   "execution_count": 5,
   "metadata": {},
   "outputs": [
    {
     "name": "stdout",
     "output_type": "stream",
     "text": [
      "[2, 4, 6, 8, 10]\n"
     ]
    }
   ],
   "source": [
    "#using normal function\n",
    "l=[1,2,3,4,5]\n",
    "def double(x):\n",
    "    return 2*x\n",
    "l1=list(map(double,l))\n",
    "print(l1)"
   ]
  },
  {
   "cell_type": "code",
   "execution_count": 6,
   "metadata": {},
   "outputs": [
    {
     "name": "stdout",
     "output_type": "stream",
     "text": [
      "[2, 4, 6, 8, 10]\n"
     ]
    }
   ],
   "source": [
    "#using lambda function\n",
    "l=[1,2,3,4,5]\n",
    "l1=list(map(lambda x:2*x,l))\n",
    "print(l1)"
   ]
  },
  {
   "cell_type": "code",
   "execution_count": 14,
   "metadata": {},
   "outputs": [
    {
     "name": "stdout",
     "output_type": "stream",
     "text": [
      "[4, 6, 8]\n"
     ]
    }
   ],
   "source": [
    "l1=[1,2,3,4]\n",
    "l2=[3,4,5,6]\n",
    "l3=list(map(lambda x,y:x+y,l1,l2))\n",
    "print(l3)"
   ]
  },
  {
   "cell_type": "markdown",
   "metadata": {},
   "source": [
    "2)reduce() function\n",
    "-reduces sequence of elements into a single element by applying the specified function.\n",
    "SYNTAX:-reduce(function,sequence)\n",
    "-present in functools module so need to import to use the reduce() function."
   ]
  },
  {
   "cell_type": "code",
   "execution_count": 11,
   "metadata": {},
   "outputs": [
    {
     "name": "stdout",
     "output_type": "stream",
     "text": [
      "21\n",
      "720\n"
     ]
    }
   ],
   "source": [
    "from functools import *\n",
    "l1=[1,2,3,4,5,6]\n",
    "sum=reduce(lambda x,y:x+y,l1)\n",
    "print(sum)\n",
    "mul=reduce(lambda x,y:x*y,l1)\n",
    "print(mul)"
   ]
  },
  {
   "cell_type": "markdown",
   "metadata": {},
   "source": [
    "3)filter() function\n",
    "-filter values from given sequence based on some condition\n",
    "-function arguement is responsible to check condition"
   ]
  },
  {
   "cell_type": "code",
   "execution_count": 12,
   "metadata": {},
   "outputs": [
    {
     "name": "stdout",
     "output_type": "stream",
     "text": [
      "[0, 2, 4, 6, 8, 10]\n"
     ]
    }
   ],
   "source": [
    "#using normal function\n",
    "def isEven(x):\n",
    "    if x%2==0:\n",
    "        return True\n",
    "    else:\n",
    "        return False\n",
    "l=[0,1,2,3,4,5,6,7,8,9,10]\n",
    "l1=list(filter(isEven,l))\n",
    "print(l1)"
   ]
  },
  {
   "cell_type": "code",
   "execution_count": 13,
   "metadata": {},
   "outputs": [
    {
     "name": "stdout",
     "output_type": "stream",
     "text": [
      "[0, 2, 4, 6, 8, 10]\n"
     ]
    }
   ],
   "source": [
    "#using lambda function\n",
    "l1=list(filter(lambda x:x%2==0,l))\n",
    "print(l1)"
   ]
  },
  {
   "cell_type": "code",
   "execution_count": 16,
   "metadata": {},
   "outputs": [
    {
     "name": "stdout",
     "output_type": "stream",
     "text": [
      "['APPLE', 'BANANA', 'CHERRY']\n"
     ]
    }
   ],
   "source": [
    "words=[\"apple\",\"banana\",\"cherry\"]\n",
    "l=list(map(str.upper,words))\n",
    "print(l)"
   ]
  },
  {
   "cell_type": "code",
   "execution_count": 17,
   "metadata": {},
   "outputs": [
    {
     "name": "stdout",
     "output_type": "stream",
     "text": [
      "['banana', 'cherry', 'orange']\n"
     ]
    }
   ],
   "source": [
    "l=[\"apple\",\"banana\",\"cherry\",\"date\",\"kiwi\",\"orange\"]\n",
    "l1=list(filter(lambda x:len(x)>5,l))\n",
    "print(l1)"
   ]
  },
  {
   "cell_type": "code",
   "execution_count": 18,
   "metadata": {},
   "outputs": [
    {
     "name": "stdout",
     "output_type": "stream",
     "text": [
      "9996\n"
     ]
    }
   ],
   "source": [
    "min=(lambda x,y:x if x<y else y)\n",
    "print(min(101*99,102*98))"
   ]
  },
  {
   "cell_type": "code",
   "execution_count": 20,
   "metadata": {},
   "outputs": [
    {
     "name": "stdout",
     "output_type": "stream",
     "text": [
      "[19, 38, 13, 26]\n"
     ]
    }
   ],
   "source": [
    "#WAP to find numbers divisible by 19 or 13 from a list of numbers using lambda function\n",
    "l=[19,38,13,26,5,6,4,7]\n",
    "l1=list(filter(lambda x: x%19==0 or x%13==0,l))\n",
    "print(l1)"
   ]
  },
  {
   "cell_type": "code",
   "execution_count": 21,
   "metadata": {},
   "outputs": [
    {
     "name": "stdout",
     "output_type": "stream",
     "text": [
      "['date', 'apple', 'banana', 'cherry']\n"
     ]
    }
   ],
   "source": [
    "#wihout lambda\n",
    "l=[\"apple\",\"banana\",\"cherry\",\"date\"]\n",
    "l1=sorted(l,key=len)\n",
    "print(l1)"
   ]
  },
  {
   "cell_type": "code",
   "execution_count": 25,
   "metadata": {},
   "outputs": [
    {
     "name": "stdout",
     "output_type": "stream",
     "text": [
      "['apple', 'pineapple', 'kiwi', 'cherry']\n"
     ]
    }
   ],
   "source": [
    "#with lambda\n",
    "a=[\"apple\",\"kiwi\",\"cherry\",\"pineapple\"]\n",
    "# def fun(word):\n",
    "#     return word[-1]\n",
    "# l=sorted(a,key=fun)\n",
    "l=sorted(a,key=lambda word:word[-1])\n",
    "print(l)"
   ]
  },
  {
   "cell_type": "code",
   "execution_count": 30,
   "metadata": {},
   "outputs": [
    {
     "name": "stdout",
     "output_type": "stream",
     "text": [
      "[(4, 1), (2, 3), (1, 5), (3, 8)]\n"
     ]
    }
   ],
   "source": [
    "l=[(1,5),(2,3),(3,8),(4,1)]\n",
    "l1=sorted(l,key=lambda x:x[-1])\n",
    "print(l1)"
   ]
  },
  {
   "cell_type": "code",
   "execution_count": 31,
   "metadata": {},
   "outputs": [
    {
     "name": "stdout",
     "output_type": "stream",
     "text": [
      "['kiwi', 'apple', 'banana', 'cherry']\n"
     ]
    }
   ],
   "source": [
    "#sort() is used only for list\n",
    "a=[\"apple\",\"banana\",\"kiwi\",\"cherry\"]\n",
    "a.sort(key=len)\n",
    "print(a)"
   ]
  },
  {
   "cell_type": "code",
   "execution_count": 33,
   "metadata": {},
   "outputs": [
    {
     "name": "stdout",
     "output_type": "stream",
     "text": [
      "[(3, 1), (2, 2), (1, 3)]\n"
     ]
    }
   ],
   "source": [
    "a=[(1,3),(2,2),(3,1)]\n",
    "def fun(val):\n",
    "    return val[1]\n",
    "a.sort(key=fun)\n",
    "print(a)"
   ]
  },
  {
   "cell_type": "code",
   "execution_count": 35,
   "metadata": {},
   "outputs": [
    {
     "name": "stdout",
     "output_type": "stream",
     "text": [
      "['banana', 'apple', 'pineapple', 'kiwi']\n"
     ]
    }
   ],
   "source": [
    "a=[\"apple\",\"banana\",\"kiwi\",\"pineapple\"]\n",
    "a.sort(key=lambda x:x[-1])\n",
    "print(a)"
   ]
  },
  {
   "cell_type": "code",
   "execution_count": 43,
   "metadata": {},
   "outputs": [
    {
     "name": "stdout",
     "output_type": "stream",
     "text": [
      "['apple', 'banana#cherry#orange']\n",
      "['apple', 'banana', 'cherry#orange']\n",
      "['apple', 'banana', 'cherry', 'orange']\n",
      "['apple', 'banana', 'cherry', 'orange']\n"
     ]
    }
   ],
   "source": [
    "#split()\n",
    "t=\"apple#banana#cherry#orange\"\n",
    "x=t.split(\"#\",1)\n",
    "print(x)\n",
    "y=t.split(\"#\",2)\n",
    "print(y)\n",
    "z=t.split(\"#\",3)\n",
    "print(z)\n",
    "w=t.split(\"#\")\n",
    "print(w)"
   ]
  },
  {
   "cell_type": "code",
   "execution_count": 72,
   "metadata": {},
   "outputs": [
    {
     "name": "stdout",
     "output_type": "stream",
     "text": [
      "original list: [5, 5, 2, 5, 8]\n",
      "index to be removed: 0\n",
      "list after removal of index 0 is: [5, 2, 5, 8]\n",
      "total special element: 1\n",
      "index to be removed: 1\n",
      "list after removal of index 1 is: [5, 2, 5, 8]\n",
      "total special element: 2\n"
     ]
    }
   ],
   "source": [
    "#given a list l of size n you need to count the number of special elements in the given list and element is special if removal \n",
    "#of that element makes the list balanced ,the list will be balanced if sum of even index elements is equal to sum of odd index\n",
    "#elements also print the updated list after removal of special element.\n",
    "l=[5,5,2,5,8]\n",
    "print(\"original list:\",l)\n",
    "count=0\n",
    "for i in range(len(l)):\n",
    "    c=l.copy()\n",
    "    c.pop(i)\n",
    "#     sum1=sum(c[::2])\n",
    "#     sum2=sum(c[1::2])\n",
    "    sum1=sum2=0\n",
    "    for k in c[::2]:\n",
    "        sum1+=k\n",
    "    for k in c[1::2]:\n",
    "        sum2+=k\n",
    "    if sum1==sum2:\n",
    "        print(\"index to be removed:\",i)\n",
    "        count+=1\n",
    "        print(\"list after removal of index\",i,\"is:\",l[:i]+l[i+1:])\n",
    "        print(\"total special element:\",count)"
   ]
  },
  {
   "cell_type": "code",
   "execution_count": null,
   "metadata": {},
   "outputs": [],
   "source": []
  }
 ],
 "metadata": {
  "kernelspec": {
   "display_name": "Python 3",
   "language": "python",
   "name": "python3"
  },
  "language_info": {
   "codemirror_mode": {
    "name": "ipython",
    "version": 3
   },
   "file_extension": ".py",
   "mimetype": "text/x-python",
   "name": "python",
   "nbconvert_exporter": "python",
   "pygments_lexer": "ipython3",
   "version": "3.8.5"
  }
 },
 "nbformat": 4,
 "nbformat_minor": 4
}
