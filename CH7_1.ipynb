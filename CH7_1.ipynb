{
 "cells": [
  {
   "cell_type": "markdown",
   "metadata": {},
   "source": [
    "# CH7 Modules and Directories\n",
    "Module -> Contains python definitions and statements\n",
    "\n",
    "       -> define function,classes and varible"
   ]
  },
  {
   "cell_type": "code",
   "execution_count": 3,
   "metadata": {},
   "outputs": [
    {
     "name": "stdout",
     "output_type": "stream",
     "text": [
      "3.141592653589793\n"
     ]
    }
   ],
   "source": [
    "import math\n",
    "dir(math)\n",
    "print(math.pi)"
   ]
  },
  {
   "cell_type": "code",
   "execution_count": 14,
   "metadata": {},
   "outputs": [
    {
     "name": "stdout",
     "output_type": "stream",
     "text": [
      "Overwriting s.py\n"
     ]
    }
   ],
   "source": [
    "%%writefile s.py\n",
    "def sum(a,b):\n",
    "    print(a+b)\n",
    "def sub(a,b):\n",
    "    print(a-b)\n",
    "def mul(a,b):\n",
    "    print(a*b)\n",
    "def div(a,b):\n",
    "    print(a/b)"
   ]
  },
  {
   "cell_type": "code",
   "execution_count": 15,
   "metadata": {},
   "outputs": [
    {
     "name": "stdout",
     "output_type": "stream",
     "text": [
      "30\n",
      "10\n"
     ]
    }
   ],
   "source": [
    "import s\n",
    "s.sum(10,20)\n",
    "s.sub(20,10)"
   ]
  },
  {
   "cell_type": "code",
   "execution_count": 3,
   "metadata": {},
   "outputs": [
    {
     "name": "stdout",
     "output_type": "stream",
     "text": [
      "4\n",
      "0\n",
      "4\n",
      "1.0\n"
     ]
    },
    {
     "data": {
      "text/plain": [
       "['__builtins__',\n",
       " '__cached__',\n",
       " '__doc__',\n",
       " '__file__',\n",
       " '__loader__',\n",
       " '__name__',\n",
       " '__package__',\n",
       " '__spec__',\n",
       " 'div',\n",
       " 'mul',\n",
       " 'sub',\n",
       " 'sum']"
      ]
     },
     "execution_count": 3,
     "metadata": {},
     "output_type": "execute_result"
    }
   ],
   "source": [
    "import s\n",
    "from s import *\n",
    "sum(2,2)\n",
    "sub(2,2)\n",
    "mul(2,2)\n",
    "div(2,2)\n",
    "dir(s)"
   ]
  },
  {
   "cell_type": "markdown",
   "metadata": {},
   "source": [
    "Python OS module\n",
    "\n",
    "-provides function for interacting with the operating system\n",
    "\n",
    "-cwd-> current working directory\n",
    "\n",
    "-pwd->present working directory(does not require to write import os)\n"
   ]
  },
  {
   "cell_type": "code",
   "execution_count": 14,
   "metadata": {},
   "outputs": [
    {
     "name": "stdout",
     "output_type": "stream",
     "text": [
      "C:\\\n"
     ]
    }
   ],
   "source": [
    "#to change directory\n",
    "import os\n",
    "os.getcwd()\n",
    "os.chdir(\"C:\\\\\")\n",
    "print(os.getcwd())"
   ]
  },
  {
   "cell_type": "code",
   "execution_count": 13,
   "metadata": {},
   "outputs": [
    {
     "data": {
      "text/plain": [
       "'D:\\\\'"
      ]
     },
     "execution_count": 13,
     "metadata": {},
     "output_type": "execute_result"
    }
   ],
   "source": [
    "os.chdir(\"D:\\\\\")\n",
    "os.getcwd()"
   ]
  },
  {
   "cell_type": "code",
   "execution_count": 11,
   "metadata": {},
   "outputs": [],
   "source": [
    "#creating a directory(mkdir())\n",
    "import os\n",
    "os.mkdir(\"D:\\\\xyz\")"
   ]
  },
  {
   "cell_type": "code",
   "execution_count": 20,
   "metadata": {},
   "outputs": [
    {
     "data": {
      "text/plain": [
       "['$RECYCLE.BIN',\n",
       " '.ipynb_checkpoints',\n",
       " 'a.txt',\n",
       " 'b.txt',\n",
       " 'B6',\n",
       " 'c.txt',\n",
       " 'CH6-4.ipynb',\n",
       " 'CH7_1.ipynb',\n",
       " 'd.txt',\n",
       " 'demo.txt',\n",
       " 'FSD T3',\n",
       " 'krish',\n",
       " 'LskLock.tmp',\n",
       " 'New folder',\n",
       " 'python T3',\n",
       " 's.py',\n",
       " 'System Volume Information',\n",
       " 'untitled.txt',\n",
       " 'xyz',\n",
       " '__pycache__']"
      ]
     },
     "execution_count": 20,
     "metadata": {},
     "output_type": "execute_result"
    }
   ],
   "source": [
    "#Listing outfiles and directories-listdir()\n",
    "os.listdir()"
   ]
  },
  {
   "cell_type": "code",
   "execution_count": 27,
   "metadata": {},
   "outputs": [],
   "source": [
    "#Deleting Directory or files using python\n",
    "# 1) os.remove() only remove file not directories\n",
    "# 2) os.rmdir() only removes blank folder.will not remove folder with data.\n",
    "import os\n",
    "os.remove(\"C:\\\\Users\\LJENG\\Downloads\\File_VHA.pdf\")"
   ]
  },
  {
   "cell_type": "code",
   "execution_count": 34,
   "metadata": {},
   "outputs": [],
   "source": [
    "import os\n",
    "os.rmdir(\"D:\\\\New folder\")"
   ]
  },
  {
   "cell_type": "code",
   "execution_count": 2,
   "metadata": {},
   "outputs": [
    {
     "name": "stdout",
     "output_type": "stream",
     "text": [
      "Writing func.py\n"
     ]
    }
   ],
   "source": [
    "%%writefile func.py\n",
    "def stringfunc(s):\n",
    "    le=len(s)\n",
    "    u=s.upper()\n",
    "    l=s.lower()\n",
    "    c=s.capitalize()\n",
    "    t=s.title()\n",
    "    iu=s.isupper()\n",
    "    il=s.islower()\n",
    "    ia=s.isalpha()\n",
    "    id=s.isdigit()\n",
    "    ial=s.isalnum()\n",
    "    print(\"Length of given string is:\",le)\n",
    "    print(\"Upper of given string is:\",u)    \n",
    "    print(\"Lower of given string is:\",l)    \n",
    "    print(\"capitalize of given string is:\",c)    \n",
    "    print(\"Title of given string is:\",t)    \n",
    "    print(\"Given string isupper:\",iu)    \n",
    "    print(\"Given string islower:\",il)    \n",
    "    print(\"Given string isalpha:\",ia)    \n",
    "    print(\"Given string isdigit:\",id)    \n",
    "    print(\"Given string isalnum:\",ial)    "
   ]
  },
  {
   "cell_type": "code",
   "execution_count": 3,
   "metadata": {},
   "outputs": [
    {
     "name": "stdout",
     "output_type": "stream",
     "text": [
      "Enter string:suparsh\n",
      "Length of given string is: 7\n",
      "Upper of given string is: SUPARSH\n",
      "Lower of given string is: suparsh\n",
      "capitalize of given string is: Suparsh\n",
      "Title of given string is: Suparsh\n",
      "Given string isupper: False\n",
      "Given string islower: True\n",
      "Given string isalpha: True\n",
      "Given string isdigit: False\n",
      "Given string isalnum: True\n"
     ]
    }
   ],
   "source": [
    "#WAP to make a module which contains all the basic functions related to strings and import \n",
    "#that module in another file and use that functions with string given by the user.\n",
    "import func\n",
    "n=input(\"Enter string:\")\n",
    "func.stringfunc(n)"
   ]
  },
  {
   "cell_type": "code",
   "execution_count": null,
   "metadata": {},
   "outputs": [],
   "source": []
  }
 ],
 "metadata": {
  "kernelspec": {
   "display_name": "Python 3",
   "language": "python",
   "name": "python3"
  },
  "language_info": {
   "codemirror_mode": {
    "name": "ipython",
    "version": 3
   },
   "file_extension": ".py",
   "mimetype": "text/x-python",
   "name": "python",
   "nbconvert_exporter": "python",
   "pygments_lexer": "ipython3",
   "version": "3.8.5"
  }
 },
 "nbformat": 4,
 "nbformat_minor": 4
}
