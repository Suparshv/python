{
 "cells": [
  {
   "cell_type": "markdown",
   "metadata": {},
   "source": [
    "# UNIT-2 Conditional Execution and Iteration"
   ]
  },
  {
   "cell_type": "markdown",
   "metadata": {},
   "source": [
    "1.Simple if statement\n",
    "if condition:\n",
    "    statement "
   ]
  },
  {
   "cell_type": "code",
   "execution_count": 1,
   "metadata": {},
   "outputs": [
    {
     "name": "stdout",
     "output_type": "stream",
     "text": [
      "Enter nameArman\n",
      "Hello Arman, how are you?\n",
      "How are you?\n"
     ]
    }
   ],
   "source": [
    "name=input(\"Enter name\")\n",
    "if name==\"Arman\":\n",
    "    print(\"Hello Arman, how are you?\")\n",
    "print(\"How are you?\")"
   ]
  },
  {
   "cell_type": "markdown",
   "metadata": {},
   "source": [
    "2.If-else statement\n",
    "if condition:\n",
    "    statement\n",
    "else:\n",
    "    statement"
   ]
  },
  {
   "cell_type": "code",
   "execution_count": 2,
   "metadata": {},
   "outputs": [
    {
     "name": "stdout",
     "output_type": "stream",
     "text": [
      "Enter namearyan\n",
      "Hello guest, how are you?\n",
      "How are you?\n"
     ]
    }
   ],
   "source": [
    "name=input(\"Enter name\")\n",
    "if name==\"Arman\":\n",
    "    print(\"Hello Arman, how are you?\")\n",
    "else:\n",
    "    print(\"Hello guest, how are you?\")\n",
    "print(\"How are you?\")"
   ]
  },
  {
   "cell_type": "markdown",
   "metadata": {},
   "source": [
    "3.if-elif-else\n",
    "if condition1:\n",
    "    action1\n",
    "elif condition2:\n",
    "    action2\n",
    "elif condition3:\n",
    "    action3\n",
    "else:\n",
    "    default action\n",
    "    "
   ]
  },
  {
   "cell_type": "code",
   "execution_count": 3,
   "metadata": {},
   "outputs": [
    {
     "name": "stdout",
     "output_type": "stream",
     "text": [
      "Enter 1st no.:-1\n",
      "Enter 2nd no.:-2\n",
      "Enter 3rd no.:-3\n",
      "Biggest no is:- 3\n"
     ]
    }
   ],
   "source": [
    "n1=int(input(\"Enter 1st no.:-\"))\n",
    "n2=int(input(\"Enter 2nd no.:-\"))\n",
    "n3=int(input(\"Enter 3rd no.:-\"))\n",
    "\n",
    "if(n1>n2 and n1>n3):\n",
    "    print(\"Biggest no is:-\",n1)\n",
    "elif(n2>n1 and n2>n3):\n",
    "    print(\"Biggest no is:-\",n2)\n",
    "else:\n",
    "    print(\"Biggest no is:-\",n3)"
   ]
  },
  {
   "cell_type": "markdown",
   "metadata": {},
   "source": [
    "4.Nested if\n",
    "if condition:\n",
    "    statement\n",
    "    if condition:\n",
    "        statement\n",
    "    else:\n",
    "        statement"
   ]
  },
  {
   "cell_type": "code",
   "execution_count": 4,
   "metadata": {},
   "outputs": [
    {
     "name": "stdout",
     "output_type": "stream",
     "text": [
      "above 10\n",
      "and also above 20\n"
     ]
    }
   ],
   "source": [
    "x=41\n",
    "if(x>10):\n",
    "    print(\"above 10\")\n",
    "    if x>20:\n",
    "        print(\"and also above 20\")\n",
    "    else:\n",
    "        print(\"but not above 20\")\n",
    "else:\n",
    "    print(\"below 10\")"
   ]
  },
  {
   "cell_type": "markdown",
   "metadata": {},
   "source": [
    "# Iterative statements\n",
    "1.for loop\n",
    "2.while loop"
   ]
  },
  {
   "cell_type": "markdown",
   "metadata": {},
   "source": [
    "1>FOR LOOP\n",
    "SYNTAX: for x in sequence:\n",
    "            body"
   ]
  },
  {
   "cell_type": "code",
   "execution_count": 5,
   "metadata": {},
   "outputs": [
    {
     "name": "stdout",
     "output_type": "stream",
     "text": [
      "armanrange(0, 5)\n",
      "10 9 8 7 6 5 4 3 2 1 "
     ]
    }
   ],
   "source": [
    "s=\"arman\"\n",
    "for i in s:\n",
    "    print(i,end=\"\")\n",
    "s=range(5)\n",
    "print(s)\n",
    "for i in range(10,0,-1):\n",
    "    print(i,end=\" \")"
   ]
  },
  {
   "cell_type": "code",
   "execution_count": 6,
   "metadata": {},
   "outputs": [
    {
     "name": "stdout",
     "output_type": "stream",
     "text": [
      "hello\n",
      "hello\n",
      "hello\n",
      "hello\n",
      "hello\n"
     ]
    }
   ],
   "source": [
    "s=\"hello\"\n",
    "for i in range(5):\n",
    "    print(s)"
   ]
  },
  {
   "cell_type": "code",
   "execution_count": 7,
   "metadata": {},
   "outputs": [
    {
     "name": "stdout",
     "output_type": "stream",
     "text": [
      "hello\n",
      "hello\n",
      "hello\n",
      "hello\n",
      "hello\n"
     ]
    }
   ],
   "source": [
    "s=\"hello\"\n",
    "i=0\n",
    "while(i<5):\n",
    "    print(s)\n",
    "    i=i+1"
   ]
  },
  {
   "cell_type": "code",
   "execution_count": 9,
   "metadata": {},
   "outputs": [
    {
     "name": "stdout",
     "output_type": "stream",
     "text": [
      "Enter name:arman\n",
      "Enter name:Arman\n"
     ]
    }
   ],
   "source": [
    "x=\"\"\n",
    "while x!=\"Arman\":\n",
    "    x=input(\"Enter name:\")"
   ]
  },
  {
   "cell_type": "code",
   "execution_count": 11,
   "metadata": {},
   "outputs": [
    {
     "name": "stdout",
     "output_type": "stream",
     "text": [
      "i= 0 j= 0\n",
      "i= 0 j= 1\n",
      "i= 1 j= 0\n",
      "i= 1 j= 1\n"
     ]
    }
   ],
   "source": [
    "#Nested Loop\n",
    "for i in range (2):\n",
    "    for j in range (2):\n",
    "        print(\"i=\",i,\"j=\",j)"
   ]
  },
  {
   "cell_type": "code",
   "execution_count": 12,
   "metadata": {},
   "outputs": [
    {
     "name": "stdout",
     "output_type": "stream",
     "text": [
      "0\n",
      "1\n",
      "2\n",
      "3\n",
      "4\n",
      "5\n",
      "6\n",
      "stop here\n"
     ]
    }
   ],
   "source": [
    "#Break Statement\n",
    "for i in range(10):\n",
    "    if i==7:\n",
    "        print(\"stop here\")\n",
    "        break\n",
    "    print(i)"
   ]
  },
  {
   "cell_type": "code",
   "execution_count": 18,
   "metadata": {},
   "outputs": [
    {
     "name": "stdout",
     "output_type": "stream",
     "text": [
      "1\n",
      "3\n",
      "5\n",
      "7\n",
      "9\n"
     ]
    }
   ],
   "source": [
    "#Continue statement-skip current iteration\n",
    "for i in range(10):\n",
    "    if i%2==0:\n",
    "        continue\n",
    "    print(i)"
   ]
  },
  {
   "cell_type": "markdown",
   "metadata": {},
   "source": [
    "#Pass statement\n",
    "SYNTAX:-\n",
    "if True:\n",
    "    pass\n",
    "def test():\n",
    "    pass"
   ]
  },
  {
   "cell_type": "code",
   "execution_count": 20,
   "metadata": {},
   "outputs": [
    {
     "name": "stdout",
     "output_type": "stream",
     "text": [
      "0\n",
      "9\n",
      "18\n"
     ]
    }
   ],
   "source": [
    "for i in range(20):\n",
    "       if i%9==0:\n",
    "           print(i)\n",
    "       else:\n",
    "           pass"
   ]
  },
  {
   "cell_type": "code",
   "execution_count": 30,
   "metadata": {},
   "outputs": [
    {
     "name": "stdout",
     "output_type": "stream",
     "text": [
      "Enter charecter:-b\n",
      "charecter is consonant\n"
     ]
    }
   ],
   "source": [
    "#WAP to check if the given charecter is vowel or consonant\n",
    "c=input(\"Enter charecter:-\")\n",
    "if c in \"aeiouAEIOU\":\n",
    "    print(\"charecter is vowel\")\n",
    "else:\n",
    "    print(\"charecter is consonant\")\n",
    "        "
   ]
  }
 ],
 "metadata": {
  "kernelspec": {
   "display_name": "Python 3",
   "language": "python",
   "name": "python3"
  },
  "language_info": {
   "codemirror_mode": {
    "name": "ipython",
    "version": 3
   },
   "file_extension": ".py",
   "mimetype": "text/x-python",
   "name": "python",
   "nbconvert_exporter": "python",
   "pygments_lexer": "ipython3",
   "version": "3.8.5"
  }
 },
 "nbformat": 4,
 "nbformat_minor": 4
}
