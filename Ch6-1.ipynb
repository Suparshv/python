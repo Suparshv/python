{
 "cells": [
  {
   "cell_type": "markdown",
   "metadata": {},
   "source": [
    "# Ch-6 Working with files\n",
    "\n",
    "\n",
    "Python inbuilt function:\n",
    "1.create \n",
    "2.read\n",
    "3.write\n",
    "\n",
    "Types of files:\n",
    "1.text file(termination for line \\n)\n",
    "2.binary file(not in syallabus)(machine understandable no terminator for new line '\\n')\n",
    "\n",
    "Modes in files:\n",
    "1.r:read only(rt)\n",
    "2.r+:read/write\n",
    "3.w:write(wt)\n",
    "4.w+:write/read\n",
    "5.a:append(write at end of file)\n",
    "5.a+:write/read"
   ]
  },
  {
   "cell_type": "code",
   "execution_count": 10,
   "metadata": {},
   "outputs": [
    {
     "name": "stdout",
     "output_type": "stream",
     "text": [
      "abcdefghijklmopqrstuvwxyz\n",
      "abcdefghijklmopqrstuvwxyz\n",
      "abcdefghijklmopqrstuvwxyz\n",
      "abcdefghijklmopqrstuvwxyz rgre re\n",
      "451 321r54r 52021 grhgriuwh\n",
      " wrojr ikgrkrmkrkrmkmrek mekrmkrmk mrkv mrkmkrm vkrmkrmkfwioeji nasjnc jFUWEF   PUFJNVJ \n",
      "DSKV DKMKMBFS5451256424__++_+_#+@#+\n",
      "False\n",
      "None\n",
      "True\n"
     ]
    }
   ],
   "source": [
    "f=open(\"demo.txt\",\"r\")#(filename,mode) if in read mode file doesn't exist\n",
    "#it will give error.by default if mode is not written read mode is default.\n",
    "print(f.read())\n",
    "print(f.closed)#False\n",
    "print(f.close())#None\n",
    "print(f.closed)#True"
   ]
  },
  {
   "cell_type": "code",
   "execution_count": 13,
   "metadata": {},
   "outputs": [
    {
     "name": "stdout",
     "output_type": "stream",
     "text": [
      "abcdefghijklmopqrstuvwxyz\n",
      "abcdefghijklmopqrstuvwxyz\n",
      "abcdefghijklmopqrstuvwxyz\n",
      "abcdefghijklmopqrstuvwxyz rgre re\n",
      "451 321r54r 52021 grhgriuwh\n",
      " wrojr ikgrkrmkrkrmkmrek mekrmkrmk mrkv mrkmkrm vkrmkrmkfwioeji nasjnc jFUWEF   PUFJNVJ \n",
      "DSKV DKMKMBFS5451256424__++_+_#+@#+\n",
      "False\n",
      "True\n"
     ]
    }
   ],
   "source": [
    "with open(\"demo.txt\",\"r\") as f:\n",
    "    print(f.read())\n",
    "    print(f.closed)\n",
    "print(f.closed)#here as soon as we come \n",
    "#out of indentation the file is closed.True is output as file is closed."
   ]
  },
  {
   "cell_type": "code",
   "execution_count": 36,
   "metadata": {},
   "outputs": [
    {
     "name": "stdout",
     "output_type": "stream",
     "text": [
      "on\n"
     ]
    }
   ],
   "source": [
    "f=open(\"demo.txt\",\"r+\")\n",
    "f.write(\"This is java\")\n",
    "print(f.read())#it will overwrite till length of previous written txt and \n",
    "#if written txt is smaller then remaining will return.\n",
    "#This is javaon will be in file.\n",
    "f.close()"
   ]
  },
  {
   "cell_type": "code",
   "execution_count": 33,
   "metadata": {},
   "outputs": [
    {
     "name": "stdout",
     "output_type": "stream",
     "text": [
      "This is javascript123\n"
     ]
    }
   ],
   "source": [
    "f=open(\"demo.txt\",\"w+\")\n",
    "f.write(\"This is javascript123\")\n",
    "f.seek(0)\n",
    "print(f.read())#file output:This is javascript123\n",
    "f.close()"
   ]
  },
  {
   "cell_type": "code",
   "execution_count": 48,
   "metadata": {},
   "outputs": [
    {
     "name": "stdout",
     "output_type": "stream",
     "text": [
      "This is python1.\n",
      "This is python2.\n",
      "This is python3.\n",
      "This is python4.\n",
      "67\n",
      "0\n",
      "This is python1.\n",
      "This is python2.\n",
      "This is python3.\n",
      "This is python4.\n",
      "\n",
      "This is python1.\n",
      "This is python2\n",
      "32\n",
      ".\n",
      "This is python\n",
      "48\n",
      "3.\n",
      "This is\n",
      "58\n"
     ]
    }
   ],
   "source": [
    "f=open(\"demo1.txt\",\"rt\")\n",
    "print(f.read())\n",
    "print(f.tell())#67 position of cursor\n",
    "f.seek(0)#changing cursor position to zero as while reading it had moved\n",
    "#to EOF\n",
    "print(f.tell())#postition of cursor to 0.\n",
    "#it will count \\n as one charecter for very new line\n",
    "print(f.read())\n",
    "f.seek(0)\n",
    "print()\n",
    "print(f.read(32))#it will read till 32 charecters.\n",
    "print(f.tell())\n",
    "print(f.read(16))\n",
    "print(f.tell())\n",
    "print(f.read(10))\n",
    "print(f.tell())\n",
    "f.close()"
   ]
  },
  {
   "cell_type": "code",
   "execution_count": 50,
   "metadata": {},
   "outputs": [
    {
     "name": "stdout",
     "output_type": "stream",
     "text": [
      "This is python1.\n",
      "\n",
      "This is python2.\n",
      "\n",
      "This is python3.\n",
      "\n",
      "This is python1.\n",
      "\n"
     ]
    }
   ],
   "source": [
    "f=open(\"demo1.txt\",\"r\")\n",
    "print(f.readline())\n",
    "print(f.readline())\n",
    "print(f.readline())\n",
    "f.seek(0)\n",
    "print(f.readline())\n",
    "f.close()"
   ]
  },
  {
   "cell_type": "code",
   "execution_count": 52,
   "metadata": {},
   "outputs": [
    {
     "name": "stdout",
     "output_type": "stream",
     "text": [
      "This \n",
      "is pytho\n",
      "n1.\n",
      "\n",
      "This is python2.\n",
      "\n",
      "This \n",
      "is python3.\n",
      "\n"
     ]
    }
   ],
   "source": [
    "f=open(\"demo1.txt\",\"r\")\n",
    "print(f.readline(5))\n",
    "print(f.readline(8))\n",
    "print(f.readline(10))\n",
    "#line1-till one line is complted it will not go to next line\n",
    "print(f.readline(20))#line2\n",
    "print(f.readline(5))\n",
    "print(f.readline(50))\n",
    "#line3-till one line is complted it will not go to next line.\n",
    "f.close()"
   ]
  },
  {
   "cell_type": "code",
   "execution_count": 68,
   "metadata": {},
   "outputs": [
    {
     "name": "stdout",
     "output_type": "stream",
     "text": [
      "['This is python1.\\n', 'This is python2.\\n', 'This is python3.\\n', 'This is python4.']\n",
      "['This is python1.\\n', 'This is python2.\\n']\n",
      "['This is python1.\\n', 'This is python2.\\n', 'This is python3.\\n', 'This is python4.']\n",
      "67\n",
      "['This is python1.\\n', 'This is python2.\\n']\n"
     ]
    },
    {
     "ename": "OSError",
     "evalue": "telling position disabled by next() call",
     "output_type": "error",
     "traceback": [
      "\u001b[1;31m---------------------------------------------------------------------------\u001b[0m",
      "\u001b[1;31mOSError\u001b[0m                                   Traceback (most recent call last)",
      "\u001b[1;32m<ipython-input-68-c64d07c200ac>\u001b[0m in \u001b[0;36m<module>\u001b[1;34m\u001b[0m\n\u001b[0;32m      9\u001b[0m \u001b[0mf\u001b[0m\u001b[1;33m.\u001b[0m\u001b[0mseek\u001b[0m\u001b[1;33m(\u001b[0m\u001b[1;36m0\u001b[0m\u001b[1;33m)\u001b[0m\u001b[1;33m\u001b[0m\u001b[1;33m\u001b[0m\u001b[0m\n\u001b[0;32m     10\u001b[0m \u001b[0mprint\u001b[0m\u001b[1;33m(\u001b[0m\u001b[0mf\u001b[0m\u001b[1;33m.\u001b[0m\u001b[0mreadlines\u001b[0m\u001b[1;33m(\u001b[0m\u001b[1;36m20\u001b[0m\u001b[1;33m)\u001b[0m\u001b[1;33m)\u001b[0m\u001b[1;33m\u001b[0m\u001b[1;33m\u001b[0m\u001b[0m\n\u001b[1;32m---> 11\u001b[1;33m \u001b[0mprint\u001b[0m\u001b[1;33m(\u001b[0m\u001b[0mf\u001b[0m\u001b[1;33m.\u001b[0m\u001b[0mtell\u001b[0m\u001b[1;33m(\u001b[0m\u001b[1;33m)\u001b[0m\u001b[1;33m)\u001b[0m\u001b[1;33m\u001b[0m\u001b[1;33m\u001b[0m\u001b[0m\n\u001b[0m",
      "\u001b[1;31mOSError\u001b[0m: telling position disabled by next() call"
     ]
    }
   ],
   "source": [
    "f=open(\"demo1.txt\",\"r\")\n",
    "print(f.readlines())#all lines in list form\n",
    "f.seek(0)\n",
    "print(f.readlines(30))#till whichever line it stops all the lines before it\n",
    "# and including that line will be printed.\n",
    "f.seek(0)\n",
    "print(f.readlines())\n",
    "print(f.tell())\n",
    "f.seek(0)\n",
    "print(f.readlines(20))\n",
    "print(f.tell())#OSError: telling position disabled by next() call"
   ]
  },
  {
   "cell_type": "code",
   "execution_count": 74,
   "metadata": {},
   "outputs": [],
   "source": [
    "f=open(\"b2.txt\",\"w\")\n",
    "f.write(\"This is first line\\nThis is second line\\nThis is third line\")#here if f.close() is not written then program\n",
    "#should be run 2 times.\n",
    "f.close()"
   ]
  },
  {
   "cell_type": "code",
   "execution_count": 72,
   "metadata": {},
   "outputs": [],
   "source": [
    "with open(\"b2.txt\",\"w\") as f:\n",
    "    f.write(\"This is alternate method\")#here file is closed automatically"
   ]
  },
  {
   "cell_type": "code",
   "execution_count": 76,
   "metadata": {},
   "outputs": [
    {
     "name": "stdout",
     "output_type": "stream",
     "text": [
      "ENTER NAME:virat\n",
      "ENTER NAME:rohit\n",
      "ENTER NAME:bumrah\n",
      "ENTER NAME:jadeja\n",
      "ENTER NAME:ash\n"
     ]
    }
   ],
   "source": [
    "f=open(\"p1.txt\",\"w\")\n",
    "for i in range(5):\n",
    "    name=input(\"ENTER NAME:\")\n",
    "    f.write(name+\"\\n\")\n",
    "f.close()\n",
    "    "
   ]
  },
  {
   "cell_type": "code",
   "execution_count": 77,
   "metadata": {},
   "outputs": [],
   "source": [
    "f=open(\"p1.txt\",\"a\")\n",
    "l=[\"A\\n\",\"B\\n\",\"C\\n\",\"D\\n\"]\n",
    "f.writelines(l)\n",
    "f.close()"
   ]
  },
  {
   "cell_type": "code",
   "execution_count": 79,
   "metadata": {},
   "outputs": [
    {
     "name": "stdout",
     "output_type": "stream",
     "text": [
      "ENTER NAME:ABD\n",
      "ENTER NAME:dale steyn\n",
      "ENTER NAME:rashid\n",
      "ENTER NAME:kane\n",
      "ENTER NAME:gayle\n"
     ]
    }
   ],
   "source": [
    "f=open(\"p2.txt\",\"w\")\n",
    "for i in range(5):\n",
    "    name=input(\"ENTER NAME:\")\n",
    "    l=[]\n",
    "    l.append(name+\"\\n\")\n",
    "    f.writelines(l)\n",
    "f.close()"
   ]
  },
  {
   "cell_type": "code",
   "execution_count": 80,
   "metadata": {},
   "outputs": [],
   "source": [
    "#wap to read from one file and copy to another file\n",
    "f=open(\"p1.txt\",\"r\")\n",
    "f1=open(\"p3.txt\",\"w\")\n",
    "l=f.read()\n",
    "f1.write(l)\n",
    "f.close()\n",
    "f1.close()"
   ]
  },
  {
   "cell_type": "code",
   "execution_count": null,
   "metadata": {},
   "outputs": [],
   "source": []
  }
 ],
 "metadata": {
  "kernelspec": {
   "display_name": "Python 3",
   "language": "python",
   "name": "python3"
  },
  "language_info": {
   "codemirror_mode": {
    "name": "ipython",
    "version": 3
   },
   "file_extension": ".py",
   "mimetype": "text/x-python",
   "name": "python",
   "nbconvert_exporter": "python",
   "pygments_lexer": "ipython3",
   "version": "3.8.5"
  }
 },
 "nbformat": 4,
 "nbformat_minor": 4
}
