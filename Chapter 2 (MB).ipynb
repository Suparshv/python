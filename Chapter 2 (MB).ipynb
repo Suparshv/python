{
 "cells": [
  {
   "cell_type": "markdown",
   "metadata": {},
   "source": [
    "# Unit-2️⃣ Condtional Execution & Iteration"
   ]
  },
  {
   "cell_type": "markdown",
   "metadata": {},
   "source": [
    "## Simple if Statement"
   ]
  },
  {
   "cell_type": "code",
   "execution_count": 2,
   "metadata": {},
   "outputs": [
    {
     "name": "stdout",
     "output_type": "stream",
     "text": [
      "Enter name: Arman\n",
      "Hello Arman,How are you?\n",
      "How are you?\n"
     ]
    }
   ],
   "source": [
    "# if Condtion example :\n",
    "\n",
    "name=input(\"Enter name: \")\n",
    "if name==\"Arman\":\n",
    "    print(\"Hello Arman,How are you?\")\n",
    "print(\"How are you?\")"
   ]
  },
  {
   "cell_type": "markdown",
   "metadata": {},
   "source": [
    "### if-else"
   ]
  },
  {
   "cell_type": "code",
   "execution_count": 7,
   "metadata": {},
   "outputs": [
    {
     "name": "stdout",
     "output_type": "stream",
     "text": [
      "Enter name: fndhs\n",
      "Hello Guest,How are you?\n",
      "How are you?\n"
     ]
    }
   ],
   "source": [
    "name=input(\"Enter name: \")\n",
    "if name==\"Arman\":\n",
    "    print(\"Hello Arman,How are you?\")\n",
    "else:\n",
    "    print(\"Hello Guest,How are you?\")\n",
    "print(\"How are you?\")"
   ]
  },
  {
   "cell_type": "markdown",
   "metadata": {},
   "source": [
    "### if-elif-else"
   ]
  },
  {
   "cell_type": "code",
   "execution_count": 9,
   "metadata": {},
   "outputs": [
    {
     "name": "stdout",
     "output_type": "stream",
     "text": [
      "Enter name: Barman\n",
      "Hello Barman,How are you?\n",
      "How are you?\n"
     ]
    }
   ],
   "source": [
    "name=input(\"Enter name: \")\n",
    "if name==\"Arman\":\n",
    "    print(\"Hello Arman,How are you?\")\n",
    "elif name==\"Barman\":\n",
    "    print(\"Hello Barman,How are you?\")\n",
    "else:\n",
    "    #Default Action\n",
    "    print(\"Hello Guest,How are you?\")\n",
    "print(\"How are you?\")"
   ]
  },
  {
   "cell_type": "markdown",
   "metadata": {},
   "source": [
    "### examples"
   ]
  },
  {
   "cell_type": "code",
   "execution_count": 3,
   "metadata": {},
   "outputs": [
    {
     "name": "stdout",
     "output_type": "stream",
     "text": [
      "Enter n1: 4\n",
      "Enter n2: 5\n",
      "Enter n3: 8\n",
      "8 is Biggest number\n"
     ]
    }
   ],
   "source": [
    "#find the biggest number\n",
    "\n",
    "\n",
    "n1=int(input(\"Enter n1: \"))\n",
    "n2=int(input(\"Enter n2: \"))\n",
    "n3=int(input(\"Enter n3: \"))\n",
    "if n1>n2 and n1>n3:\n",
    "  print(n1,\"is Biggest number\")\n",
    "elif n2>n3:\n",
    "    print(n2,\"is Biggest number\")\n",
    "else:\n",
    "   print(n3,\"is Biggest number\")"
   ]
  },
  {
   "cell_type": "markdown",
   "metadata": {},
   "source": [
    "## nested if "
   ]
  },
  {
   "cell_type": "code",
   "execution_count": 18,
   "metadata": {},
   "outputs": [
    {
     "name": "stdout",
     "output_type": "stream",
     "text": [
      "Above 10\n",
      "But not above 20\n"
     ]
    }
   ],
   "source": [
    "x=15\n",
    "if x>10:\n",
    "    print(\"Above 10\")\n",
    "    if x>20:\n",
    "        print(\"Above 20\")\n",
    "    else:\n",
    "        print(\"But not above 20\")\n",
    "else:\n",
    "     print(\"But not above 10\")"
   ]
  },
  {
   "cell_type": "code",
   "execution_count": null,
   "metadata": {},
   "outputs": [],
   "source": []
  },
  {
   "cell_type": "markdown",
   "metadata": {},
   "source": [
    "## Iterative Statements "
   ]
  },
  {
   "cell_type": "markdown",
   "metadata": {},
   "source": [
    "1. For Loop\n",
    "\n",
    "2. While Loop"
   ]
  },
  {
   "cell_type": "code",
   "execution_count": 42,
   "metadata": {},
   "outputs": [
    {
     "name": "stdout",
     "output_type": "stream",
     "text": [
      "A r m a n \n",
      "10 9 8 7 6 5 4 3 2 1 "
     ]
    }
   ],
   "source": [
    "#Syntax :\n",
    "#       for x in sequence:\n",
    "#            body\n",
    "\n",
    "s=\"Arman\"\n",
    "for i in s:\n",
    "    print(i,end=\" \")\n",
    "print()\n",
    "for i in range(10,0,-1):\n",
    "    print(i,end=\" \")"
   ]
  },
  {
   "cell_type": "code",
   "execution_count": 8,
   "metadata": {},
   "outputs": [
    {
     "name": "stdout",
     "output_type": "stream",
     "text": [
      "0 1 2 3 4 5 6 7 8 9 "
     ]
    }
   ],
   "source": [
    "#Syntax :\n",
    "#       while x in sequence:\n",
    "#            body\n",
    "i=0\n",
    "while i!=10:\n",
    "    print(i,end=\" \")\n",
    "    i=i+1"
   ]
  },
  {
   "cell_type": "code",
   "execution_count": 15,
   "metadata": {},
   "outputs": [
    {
     "name": "stdout",
     "output_type": "stream",
     "text": [
      "Enter name: meet\n",
      "Enter name: Meet\n",
      "Thanks for confirmation\n"
     ]
    }
   ],
   "source": [
    "#Using while \n",
    "s=\"\"\n",
    "\n",
    "while s!=\"Meet\":\n",
    "    s=input(\"Enter name: \")\n",
    "print(\"Thanks for confirmation\")"
   ]
  },
  {
   "cell_type": "code",
   "execution_count": null,
   "metadata": {},
   "outputs": [],
   "source": []
  },
  {
   "cell_type": "markdown",
   "metadata": {},
   "source": [
    "## Nested Loop"
   ]
  },
  {
   "cell_type": "code",
   "execution_count": 21,
   "metadata": {},
   "outputs": [
    {
     "name": "stdout",
     "output_type": "stream",
     "text": [
      "i= 0 j= 0\n",
      "i= 0 j= 1\n",
      "i= 1 j= 0\n",
      "i= 1 j= 1\n"
     ]
    }
   ],
   "source": [
    "for i in range(2):\n",
    "    for j in range(2):\n",
    "        print(\"i=\",i,\"j=\",j)"
   ]
  },
  {
   "cell_type": "markdown",
   "metadata": {},
   "source": [
    "## Break Statement"
   ]
  },
  {
   "cell_type": "code",
   "execution_count": 22,
   "metadata": {},
   "outputs": [
    {
     "name": "stdout",
     "output_type": "stream",
     "text": [
      "0\n",
      "1\n",
      "2\n",
      "3\n",
      "4\n",
      "5\n",
      "6\n",
      "Stop here!!\n"
     ]
    }
   ],
   "source": [
    "for i in range(10):\n",
    "    if i==7:\n",
    "        print(\"Stop here!!\")\n",
    "        break\n",
    "    print(i)"
   ]
  },
  {
   "cell_type": "markdown",
   "metadata": {},
   "source": [
    "## Continue Statement"
   ]
  },
  {
   "cell_type": "code",
   "execution_count": 24,
   "metadata": {},
   "outputs": [
    {
     "name": "stdout",
     "output_type": "stream",
     "text": [
      "1\n",
      "3\n",
      "5\n",
      "7\n",
      "9\n"
     ]
    }
   ],
   "source": [
    "for i in range(10):\n",
    "    if i%2==0:\n",
    "        continue\n",
    "    print(i)"
   ]
  },
  {
   "cell_type": "markdown",
   "metadata": {},
   "source": [
    "## Pass Statement"
   ]
  },
  {
   "cell_type": "code",
   "execution_count": 34,
   "metadata": {},
   "outputs": [
    {
     "name": "stdout",
     "output_type": "stream",
     "text": [
      "9\n",
      "18\n"
     ]
    }
   ],
   "source": [
    "# used to run code with empty blocks\n",
    "if True:\n",
    "    pass\n",
    "def test():\n",
    "    pass\n",
    "\n",
    "for i in range(1,20):\n",
    "    if(i%9==0):\n",
    "      print(i)\n",
    "    else:\n",
    "        pass\n",
    "    "
   ]
  },
  {
   "cell_type": "code",
   "execution_count": null,
   "metadata": {},
   "outputs": [],
   "source": []
  },
  {
   "cell_type": "code",
   "execution_count": 45,
   "metadata": {},
   "outputs": [
    {
     "name": "stdout",
     "output_type": "stream",
     "text": [
      "Enter letter: a\n",
      "its a vowel\n"
     ]
    }
   ],
   "source": [
    "#WAP to check given character is vowels or consonents\n",
    "\n",
    "s=input(\"Enter letter: \")\n",
    "\n",
    "# if s==\"a\" or s==\"A\" or s==\"e\" or s==\"E\" or s==\"i\" or s==\"I\" or s==\"o\" or s==\"O\" or s==\"u\"or s==\"U\":\n",
    "if s in 'aeiouAEIOU':\n",
    "    print(\"its a vowel\")\n",
    "else:\n",
    "    print(\"its a consonent\")"
   ]
  },
  {
   "cell_type": "code",
   "execution_count": null,
   "metadata": {},
   "outputs": [],
   "source": []
  }
 ],
 "metadata": {
  "kernelspec": {
   "display_name": "Python 3",
   "language": "python",
   "name": "python3"
  },
  "language_info": {
   "codemirror_mode": {
    "name": "ipython",
    "version": 3
   },
   "file_extension": ".py",
   "mimetype": "text/x-python",
   "name": "python",
   "nbconvert_exporter": "python",
   "pygments_lexer": "ipython3",
   "version": "3.8.5"
  }
 },
 "nbformat": 4,
 "nbformat_minor": 4
}
