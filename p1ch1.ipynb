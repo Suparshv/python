{
 "cells": [
  {
   "cell_type": "markdown",
   "metadata": {},
   "source": [
    "# Introduction\n",
    "Feautures of python \n",
    "1.Simple and easy to learn.\n",
    "-High level language.\n",
    "2.Free ware and open source.\n",
    "-without any license.\n",
    "3.High level programming language.\n",
    "-memory management and security\n",
    "4.Platform independent\n",
    "-run on any platform(without rewriting once again)\n",
    "-PVM internally:-convert to machine understandable language.\n",
    "5.Portability.\n",
    "-migrate from one platform to another.\n",
    "-same result in any platform.\n",
    "6.Dynamically typed.\n",
    "-not required to deaclare type of variable.\n",
    "-based on value it allocates automatically.\n",
    "7.Both prodeure oriented and object oriented\n",
    "-security and reusability.\n",
    "8.Interpreted\n",
    "-no need to compile program explicitly.\n",
    "-python interpreter will take care of that.\n",
    "-if compilation fails them raised synatx error.\n",
    "9.Extensible\n",
    "-other language program in python\n",
    "10.Extesive liabraries"
   ]
  },
  {
   "cell_type": "markdown",
   "metadata": {},
   "source": [
    "# Identifiers\n",
    "-A name in python program is called identifier.\n",
    "-it can be class name or variable name or module name or function name.\n",
    "eg:- a=10 where a is identifier.\n",
    "\n",
    "->Rules to define identifier in python\n",
    "\n",
    "1.The only allowed charecters in python\n",
    "-Alphabet symbols(lower or uppercase)\n",
    "-digits(0 to 9)\n",
    "-undersocre(_)\n",
    "eg:cash=10-> valid\n",
    "   ca$h=20-> invalid\n",
    "   \n",
    "2.Identifier should not start with digits\n",
    "Eg:total1=0 ->valid\n",
    "   1total=1 ->invalid\n",
    "   \n",
    "3.Identifiers are case sensitive\n",
    "total=10\n",
    "Total=20\n",
    "TOTAL=30\n",
    "all three variable are different identifier\n",
    "\n",
    "4.We cannot use reserve keywords as identifier.\n",
    "def=10 ->invalid\n",
    "DEF=20 ->valid\n",
    "True=2 ->invalid\n",
    "\n",
    "5.There is no length for python identifiers.But not recommended to use too lengthy identifier.\n",
    "6.If identifier starts with underscore(_) then it is private.\n",
    "eg: _a=10\n",
    "7.If identifier starts with double underscore(__) that indicates it is strongly private.\n",
    "eg: __a=1\n",
    "8.If identifier starts and ends with double underscore(__) then it is language defined special name. It is called magic method.\n",
    "__add__"
   ]
  },
  {
   "cell_type": "markdown",
   "metadata": {},
   "source": [
    "# Datatypes\n",
    "1. Text type :string\n",
    "2.Numeric type: int,float,complex\n",
    "3.Sequence types:list,tuple,range\n",
    "4.mapping type:dictionary\n",
    "5.set types:set,frozen set\n",
    "6.boolean type:bool\n",
    "7.bianry types:bytes,byte array"
   ]
  },
  {
   "cell_type": "code",
   "execution_count": 27,
   "metadata": {},
   "outputs": [
    {
     "name": "stdout",
     "output_type": "stream",
     "text": [
      "30\n",
      "<class 'bool'>\n",
      "1\n",
      "3\n",
      "5\n",
      "7\n",
      "9\n"
     ]
    }
   ],
   "source": [
    "a=10\n",
    "b=20\n",
    "c=a+b\n",
    "print(c)\n",
    "# while(True):\n",
    "#     print(1)\n",
    "print(type(False))\n",
    "for i in range(1,10,2):#start,end,step\n",
    "    print(i)\n"
   ]
  },
  {
   "cell_type": "code",
   "execution_count": null,
   "metadata": {},
   "outputs": [],
   "source": []
  },
  {
   "cell_type": "code",
   "execution_count": null,
   "metadata": {},
   "outputs": [],
   "source": [
    " "
   ]
  }
 ],
 "metadata": {
  "kernelspec": {
   "display_name": "Python 3",
   "language": "python",
   "name": "python3"
  },
  "language_info": {
   "codemirror_mode": {
    "name": "ipython",
    "version": 3
   },
   "file_extension": ".py",
   "mimetype": "text/x-python",
   "name": "python",
   "nbconvert_exporter": "python",
   "pygments_lexer": "ipython3",
   "version": "3.8.5"
  }
 },
 "nbformat": 4,
 "nbformat_minor": 4
}
