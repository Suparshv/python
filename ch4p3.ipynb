{
 "cells": [
  {
   "cell_type": "code",
   "execution_count": 2,
   "metadata": {},
   "outputs": [
    {
     "name": "stdout",
     "output_type": "stream",
     "text": [
      "enter stringwelcome to USA usa is awesome usain is from usa.usa president is donald trump.\n",
      "enter string to find occurence of a substring:usa\n",
      "5\n"
     ]
    }
   ],
   "source": [
    "#WAP to find all occurences of a substring in a given string by ignoring the case.\n",
    "s=input(\"enter string\")\n",
    "f=input(\"enter string to find occurence of a substring:\")\n",
    "s=s.lower()\n",
    "c=s.count(f)\n",
    "print(c)"
   ]
  },
  {
   "cell_type": "code",
   "execution_count": 15,
   "metadata": {},
   "outputs": [
    {
     "name": "stdout",
     "output_type": "stream",
     "text": [
      "enter string:gwrgh rwjwrj wrjwr@#$%^&*(\n",
      "gwrgh rwjwrj wrjwr########\n"
     ]
    }
   ],
   "source": [
    "#WAP to replace each special symbol with hash in the string\n",
    "import string\n",
    "s=input(\"enter string:\")\n",
    "# f=\"\"\n",
    "# for i in s:\n",
    "#     if(i.isalnum()):\n",
    "#         f+=i\n",
    "#     elif i.isspace():\n",
    "#         f+=\" \"\n",
    "#     else:\n",
    "#         f+=\"#\"\n",
    "# print(f)\n",
    "for i in string.punctuation:\n",
    "    s=s.replace(i,\"#\")\n",
    "print(s)"
   ]
  },
  {
   "cell_type": "code",
   "execution_count": 18,
   "metadata": {},
   "outputs": [
    {
     "name": "stdout",
     "output_type": "stream",
     "text": [
      "max: 43875 min: 1\n"
     ]
    }
   ],
   "source": [
    "#WAP to print minimum and max elements in given tuple without use of min and max function and\n",
    "#without shorting\n",
    "t=(10,20,30,495,1,43875,2445)\n",
    "min=t[0]\n",
    "max=t[0]\n",
    "for i in t:\n",
    "    if(i<min):\n",
    "        min=i\n",
    "    if(i>max):\n",
    "        max=i\n",
    "print(\"max:\",max,\"min:\",min)"
   ]
  },
  {
   "cell_type": "code",
   "execution_count": 23,
   "metadata": {},
   "outputs": [
    {
     "name": "stdout",
     "output_type": "stream",
     "text": [
      "enter stringfevfd grgf\n",
      "grgf"
     ]
    }
   ],
   "source": [
    "#Wap to print even letter words in a given string\n",
    "s=input(\"enter string\")\n",
    "p=s.split(\" \")\n",
    "for i in p:\n",
    "    if len(i)%2==0:\n",
    "        print(i,end=\"\")"
   ]
  },
  {
   "cell_type": "code",
   "execution_count": 46,
   "metadata": {},
   "outputs": [
    {
     "name": "stdout",
     "output_type": "stream",
     "text": [
      " WelcomE TO LJ UniversitY\n"
     ]
    }
   ],
   "source": [
    "#WAP to capitalize first and last letter of each word\n",
    "s=\"Welcome to LJ University\"\n",
    "s=s.title()\n",
    "s=s[::-1]\n",
    "p=s.split()\n",
    "a=\"\"\n",
    "for i in p:\n",
    "    c=0\n",
    "    for j in i:\n",
    "        if c==0:\n",
    "            a+=j[0].upper()\n",
    "            c+=1\n",
    "        else:\n",
    "            a+=j\n",
    "    a=a+\" \"\n",
    "print(a[::-1])\n",
    "\n",
    "    "
   ]
  },
  {
   "cell_type": "code",
   "execution_count": 50,
   "metadata": {},
   "outputs": [
    {
     "name": "stdout",
     "output_type": "stream",
     "text": [
      "NOT BALANCED\n"
     ]
    }
   ],
   "source": [
    "#WAP to check whether string is balanced or not\n",
    "s1=\"tejas\"\n",
    "s2=\"satejxyz\"\n",
    "for i in s1:\n",
    "    if i in s2:\n",
    "        continue\n",
    "    else:\n",
    "        print('NOT BALANCED')\n",
    "        break\n",
    "else:\n",
    "    print(\"string is balanced\")"
   ]
  },
  {
   "cell_type": "code",
   "execution_count": 61,
   "metadata": {},
   "outputs": [
    {
     "name": "stdout",
     "output_type": "stream",
     "text": [
      "51234\n"
     ]
    }
   ],
   "source": [
    "#WAP to shift the decimal digits and place to the left wrapping the extra digits arounds if shift\n",
    "#is greater no of digits then reverse the digits.\n",
    "n=12345\n",
    "shift=4\n",
    "b=str(n)\n",
    "x=\"\"\n",
    "if(shift<=len(b)):\n",
    "    for i in b:\n",
    "        x=b[shift:len(b)]+b[0:shift]\n",
    "    print(x)\n",
    "else:\n",
    "    print(\"result:\",b[::-1])"
   ]
  },
  {
   "cell_type": "code",
   "execution_count": 76,
   "metadata": {},
   "outputs": [
    {
     "name": "stdout",
     "output_type": "stream",
     "text": [
      "invalid\n"
     ]
    }
   ],
   "source": [
    "#WAP to check validity of a password \n",
    "n=\"Valid123\"\n",
    "c=0\n",
    "if(len(n)>=8):\n",
    "    for i in n:\n",
    "        if(i.isupper()):\n",
    "            c+=1\n",
    "        else:\n",
    "            pass\n",
    "    if(c>0):\n",
    "        c=0\n",
    "        for i in n:\n",
    "            if i.isdigit():\n",
    "                c=+1\n",
    "        if(c>0):\n",
    "            if i in (\"_\",\"@\",\"$\"):\n",
    "                print(\"Valid\")\n",
    "            else:\n",
    "                print(\"invalid\")\n",
    "        else:\n",
    "            print(\"invalid\")\n",
    "       \n",
    "    else:\n",
    "         print(\"invalid password\")\n",
    "else:\n",
    "    print(\"invalid password\")\n",
    "        \n",
    "                \n",
    "        "
   ]
  },
  {
   "cell_type": "code",
   "execution_count": null,
   "metadata": {},
   "outputs": [],
   "source": []
  }
 ],
 "metadata": {
  "kernelspec": {
   "display_name": "Python 3",
   "language": "python",
   "name": "python3"
  },
  "language_info": {
   "codemirror_mode": {
    "name": "ipython",
    "version": 3
   },
   "file_extension": ".py",
   "mimetype": "text/x-python",
   "name": "python",
   "nbconvert_exporter": "python",
   "pygments_lexer": "ipython3",
   "version": "3.8.5"
  }
 },
 "nbformat": 4,
 "nbformat_minor": 4
}
