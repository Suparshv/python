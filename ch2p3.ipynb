{
 "cells": [
  {
   "cell_type": "code",
   "execution_count": 4,
   "metadata": {},
   "outputs": [
    {
     "name": "stdout",
     "output_type": "stream",
     "text": [
      "Enter starting no.:-1\n",
      "Enter starting no.:-20\n",
      "Enter no. divisible by:-2\n",
      "2\n",
      "4\n",
      "6\n",
      "8\n",
      "10\n",
      "12\n",
      "14\n",
      "16\n",
      "18\n",
      "Count is:- 9\n"
     ]
    }
   ],
   "source": [
    "#WAP to read 3 numbers and check how many numbers are avialable b/w first two numbers are divisible by two numbers.\n",
    "a=int(input(\"Enter starting no.:-\"))\n",
    "b=int(input(\"Enter starting no.:-\"))\n",
    "c=int(input(\"Enter no. divisible by:-\"))\n",
    "count=0\n",
    "for i in range(a,b):\n",
    "    if(i%c==0):\n",
    "        print(i)\n",
    "        count+=1\n",
    "print(\"Count is:-\",count)"
   ]
  },
  {
   "cell_type": "code",
   "execution_count": 7,
   "metadata": {},
   "outputs": [
    {
     "name": "stdout",
     "output_type": "stream",
     "text": [
      "Enter no till you want to perform addition:-10\n",
      "Sum of no. is:- 55\n",
      "Average is:- 5.5\n"
     ]
    }
   ],
   "source": [
    "#WAP to find sum of n numbers,also find average of that.\n",
    "x=int(input(\"Enter no till you want to perform addition:-\"))\n",
    "sum=0;\n",
    "count=0;\n",
    "for i in range(1,x+1):\n",
    "    sum=sum+i\n",
    "    count+=1\n",
    "print(\"Sum of no. is:-\",sum)\n",
    "print(\"Average is:-\",sum/count)"
   ]
  },
  {
   "cell_type": "code",
   "execution_count": null,
   "metadata": {},
   "outputs": [],
   "source": []
  },
  {
   "cell_type": "code",
   "execution_count": 11,
   "metadata": {},
   "outputs": [
    {
     "name": "stdout",
     "output_type": "stream",
     "text": [
      "Enter table to print of:-10\n",
      "10  *  1 = 10\n",
      "10  *  2 = 20\n",
      "10  *  3 = 30\n",
      "10  *  4 = 40\n",
      "10  *  5 = 50\n",
      "10  *  6 = 60\n",
      "10  *  7 = 70\n",
      "10  *  8 = 80\n",
      "10  *  9 = 90\n",
      "10  *  10 = 100\n"
     ]
    }
   ],
   "source": [
    "y=int(input(\"Enter table to print of:-\"))\n",
    "for i in range(1,11):\n",
    "    print(y ,\" * \",i,\"=\",y*i)"
   ]
  },
  {
   "cell_type": "code",
   "execution_count": 19,
   "metadata": {},
   "outputs": [
    {
     "name": "stdout",
     "output_type": "stream",
     "text": [
      "Enter no.(base):-2\n",
      "Enter no. which is multiple of above no:-1024\n",
      "10\n"
     ]
    }
   ],
   "source": [
    "#WAP to find an interger exponent x such that \n",
    "a=int(input(\"Enter no.(base):-\"))\n",
    "b=int(input(\"Enter no. which is multiple of above no:-\"))\n",
    "count=0\n",
    "c=0\n",
    "while(c!=1):\n",
    "    if(a**count==b):\n",
    "        c=1\n",
    "    else:\n",
    "        count=count+1\n",
    "print(count)"
   ]
  },
  {
   "cell_type": "code",
   "execution_count": 28,
   "metadata": {},
   "outputs": [
    {
     "name": "stdout",
     "output_type": "stream",
     "text": [
      "Enter no to find factorial of:-1\n",
      "1\n",
      "Factorial of no. is: 1\n"
     ]
    }
   ],
   "source": [
    "#WAP to find the factorial of a given no.\n",
    "a=int(input(\"Enter no to find factorial of:-\"))\n",
    "fact=1\n",
    "if(a==0):\n",
    "    print(\"1\")\n",
    "elif(a==1):\n",
    "    print(\"1\")\n",
    "elif(a<0):\n",
    "    print(\"Error\")\n",
    "for i in range(a,0,-1):\n",
    "    fact=fact*i\n",
    "    i+=1\n",
    "print(\"Factorial of no. is:\",fact)"
   ]
  },
  {
   "cell_type": "code",
   "execution_count": 41,
   "metadata": {},
   "outputs": [
    {
     "name": "stdout",
     "output_type": "stream",
     "text": [
      "Enter no of terms of fibonacci series:10\n",
      "Fibonacci series:- 0 1 1 2 3 5 8 13 21 34 "
     ]
    }
   ],
   "source": [
    "#WAP to display fibonacci sequnce upto nth term\n",
    "n=int(input(\"Enter no of terms of fibonacci series:\"))\n",
    "if(n<=0):\n",
    "    print(\"Error\")\n",
    "else:\n",
    "    a=0\n",
    "    b=1\n",
    "    c=0\n",
    "    if(n==1):\n",
    "        print(a,b)\n",
    "    else:\n",
    "        print(\"Fibonacci series:-\",a,b,end=\" \")\n",
    "        for i in range(n-2):\n",
    "            c=a+b\n",
    "            print(c,end=\" \")\n",
    "            a=b\n",
    "            b=c  "
   ]
  },
  {
   "cell_type": "code",
   "execution_count": 14,
   "metadata": {},
   "outputs": [
    {
     "ename": "KeyboardInterrupt",
     "evalue": "Interrupted by user",
     "output_type": "error",
     "traceback": [
      "\u001b[1;31m---------------------------------------------------------------------------\u001b[0m",
      "\u001b[1;31mKeyboardInterrupt\u001b[0m                         Traceback (most recent call last)",
      "\u001b[1;32m<ipython-input-14-cb84debac2cc>\u001b[0m in \u001b[0;36m<module>\u001b[1;34m\u001b[0m\n\u001b[0;32m      3\u001b[0m \u001b[0msum\u001b[0m\u001b[1;33m=\u001b[0m\u001b[1;36m0\u001b[0m\u001b[1;33m\u001b[0m\u001b[1;33m\u001b[0m\u001b[0m\n\u001b[0;32m      4\u001b[0m \u001b[1;32mfor\u001b[0m \u001b[0mi\u001b[0m \u001b[1;32min\u001b[0m \u001b[0mrange\u001b[0m\u001b[1;33m(\u001b[0m\u001b[1;36m10\u001b[0m\u001b[1;33m)\u001b[0m\u001b[1;33m:\u001b[0m\u001b[1;33m\u001b[0m\u001b[1;33m\u001b[0m\u001b[0m\n\u001b[1;32m----> 5\u001b[1;33m     \u001b[0ma\u001b[0m\u001b[1;33m=\u001b[0m\u001b[0mint\u001b[0m\u001b[1;33m(\u001b[0m\u001b[0minput\u001b[0m\u001b[1;33m(\u001b[0m\u001b[1;34m\"Enter any number d%:\"\u001b[0m\u001b[1;33m)\u001b[0m\u001b[1;33m)\u001b[0m\u001b[1;33m\u001b[0m\u001b[1;33m\u001b[0m\u001b[0m\n\u001b[0m\u001b[0;32m      6\u001b[0m     \u001b[0msum\u001b[0m\u001b[1;33m=\u001b[0m\u001b[0msum\u001b[0m\u001b[1;33m+\u001b[0m\u001b[0ma\u001b[0m\u001b[1;33m\u001b[0m\u001b[1;33m\u001b[0m\u001b[0m\n\u001b[0;32m      7\u001b[0m     \u001b[0mcount\u001b[0m\u001b[1;33m=\u001b[0m\u001b[0mcount\u001b[0m\u001b[1;33m+\u001b[0m\u001b[1;36m1\u001b[0m\u001b[1;33m\u001b[0m\u001b[1;33m\u001b[0m\u001b[0m\n",
      "\u001b[1;32mC:\\ProgramData\\Anaconda3\\lib\\site-packages\\ipykernel\\kernelbase.py\u001b[0m in \u001b[0;36mraw_input\u001b[1;34m(self, prompt)\u001b[0m\n\u001b[0;32m    858\u001b[0m                 \u001b[1;34m\"raw_input was called, but this frontend does not support input requests.\"\u001b[0m\u001b[1;33m\u001b[0m\u001b[1;33m\u001b[0m\u001b[0m\n\u001b[0;32m    859\u001b[0m             )\n\u001b[1;32m--> 860\u001b[1;33m         return self._input_request(str(prompt),\n\u001b[0m\u001b[0;32m    861\u001b[0m             \u001b[0mself\u001b[0m\u001b[1;33m.\u001b[0m\u001b[0m_parent_ident\u001b[0m\u001b[1;33m,\u001b[0m\u001b[1;33m\u001b[0m\u001b[1;33m\u001b[0m\u001b[0m\n\u001b[0;32m    862\u001b[0m             \u001b[0mself\u001b[0m\u001b[1;33m.\u001b[0m\u001b[0m_parent_header\u001b[0m\u001b[1;33m,\u001b[0m\u001b[1;33m\u001b[0m\u001b[1;33m\u001b[0m\u001b[0m\n",
      "\u001b[1;32mC:\\ProgramData\\Anaconda3\\lib\\site-packages\\ipykernel\\kernelbase.py\u001b[0m in \u001b[0;36m_input_request\u001b[1;34m(self, prompt, ident, parent, password)\u001b[0m\n\u001b[0;32m    902\u001b[0m             \u001b[1;32mexcept\u001b[0m \u001b[0mKeyboardInterrupt\u001b[0m\u001b[1;33m:\u001b[0m\u001b[1;33m\u001b[0m\u001b[1;33m\u001b[0m\u001b[0m\n\u001b[0;32m    903\u001b[0m                 \u001b[1;31m# re-raise KeyboardInterrupt, to truncate traceback\u001b[0m\u001b[1;33m\u001b[0m\u001b[1;33m\u001b[0m\u001b[1;33m\u001b[0m\u001b[0m\n\u001b[1;32m--> 904\u001b[1;33m                 \u001b[1;32mraise\u001b[0m \u001b[0mKeyboardInterrupt\u001b[0m\u001b[1;33m(\u001b[0m\u001b[1;34m\"Interrupted by user\"\u001b[0m\u001b[1;33m)\u001b[0m \u001b[1;32mfrom\u001b[0m \u001b[1;32mNone\u001b[0m\u001b[1;33m\u001b[0m\u001b[1;33m\u001b[0m\u001b[0m\n\u001b[0m\u001b[0;32m    905\u001b[0m             \u001b[1;32mexcept\u001b[0m \u001b[0mException\u001b[0m \u001b[1;32mas\u001b[0m \u001b[0me\u001b[0m\u001b[1;33m:\u001b[0m\u001b[1;33m\u001b[0m\u001b[1;33m\u001b[0m\u001b[0m\n\u001b[0;32m    906\u001b[0m                 \u001b[0mself\u001b[0m\u001b[1;33m.\u001b[0m\u001b[0mlog\u001b[0m\u001b[1;33m.\u001b[0m\u001b[0mwarning\u001b[0m\u001b[1;33m(\u001b[0m\u001b[1;34m\"Invalid Message:\"\u001b[0m\u001b[1;33m,\u001b[0m \u001b[0mexc_info\u001b[0m\u001b[1;33m=\u001b[0m\u001b[1;32mTrue\u001b[0m\u001b[1;33m)\u001b[0m\u001b[1;33m\u001b[0m\u001b[1;33m\u001b[0m\u001b[0m\n",
      "\u001b[1;31mKeyboardInterrupt\u001b[0m: Interrupted by user"
     ]
    },
    {
     "name": "stdout",
     "output_type": "stream",
     "text": [
      "Enter any number d%:12\n"
     ]
    }
   ],
   "source": [
    "#WAP to take ten no from user and display their sum and avg.\n",
    "count=0\n",
    "sum=0\n",
    "for i in range(10):\n",
    "    a=int(input(\"Enter any number :\"))\n",
    "    sum=sum+a\n",
    "    count=count+1\n",
    "print(\"sum of numbers:\",sum,\"Avg:\",sum/count)"
   ]
  },
  {
   "cell_type": "code",
   "execution_count": 15,
   "metadata": {},
   "outputs": [
    {
     "name": "stdout",
     "output_type": "stream",
     "text": [
      "Enter how many no. you want:10\n",
      "Enter any number :2\n",
      "Enter any number :3\n",
      "Enter any number :4\n",
      "Enter any number :5\n",
      "Enter any number :69\n",
      "Enter any number :7\n",
      "Enter any number :5\n",
      "Enter any number :43\n",
      "Enter any number :5\n",
      "Enter any number :5\n",
      "Total even no. are:- 2\n",
      "Total odd no. are:- 8\n",
      "Even number sum is: 6\n",
      "Even number sum is: 142\n"
     ]
    }
   ],
   "source": [
    "#WAP to count total odd and even no. and also do the sum of them\n",
    "n=int(input(\"Enter how many no. you want:\"))\n",
    "esum=0\n",
    "osum=0\n",
    "ec=0\n",
    "oc=0\n",
    "for i in range(n):\n",
    "    a=int(input(\"Enter any number :\"))\n",
    "    if(a%2==0):\n",
    "        esum=esum+a\n",
    "        ec+=1\n",
    "    else:\n",
    "        osum=osum+a\n",
    "        oc+=1\n",
    "print(\"Total even no. are:-\",ec)\n",
    "print(\"Total odd no. are:-\",oc)\n",
    "print(\"Even number sum is:\",esum)\n",
    "print(\"Odd number sum is:\",osum)   "
   ]
  },
  {
   "cell_type": "code",
   "execution_count": 21,
   "metadata": {},
   "outputs": [
    {
     "name": "stdout",
     "output_type": "stream",
     "text": [
      "Enter how many no. you want:10\n",
      "Enter any number :-1\n",
      "Enter any number :-5\n",
      "Enter any number :-5\n",
      "Enter any number :-4\n",
      "Enter any number :-2\n",
      "Enter any number :1\n",
      "Enter any number :2\n",
      "Enter any number :5\n",
      "Enter any number :5\n",
      "Enter any number :4\n",
      "Positive number sum is: 17\n"
     ]
    }
   ],
   "source": [
    "#WAP to count +ve no and skip -ve numbers\n",
    "n=int(input(\"Enter how many no. you want:\"))\n",
    "sum=0\n",
    "count=0\n",
    "for i in range(n):\n",
    "    a=int(input(\"Enter any number :\"))\n",
    "    if(a>=0):\n",
    "       sum+=a\n",
    "    else:\n",
    "        continue\n",
    "print(\"Positive number sum is:\",sum)   "
   ]
  },
  {
   "cell_type": "code",
   "execution_count": 39,
   "metadata": {},
   "outputs": [
    {
     "name": "stdout",
     "output_type": "stream",
     "text": [
      "Enter no to find reverse of:123\n",
      "321\n",
      "Number is not pallidrome\n"
     ]
    }
   ],
   "source": [
    "#WAP to find a reverse no. of the number provided by user.(pallindrome no also)\n",
    "n=int(input(\"Enter no to find reverse of:\"))\n",
    "rev=0\n",
    "x=n\n",
    "while(n>0):\n",
    "    rev=(rev*10)+n%10\n",
    "    n=n//10\n",
    "print(rev)\n",
    "if(rev==x):\n",
    "    print(\"Entered number is pallindrome\")\n",
    "else:\n",
    "    print(\"Number is not pallidrome\")"
   ]
  },
  {
   "cell_type": "code",
   "execution_count": 53,
   "metadata": {},
   "outputs": [
    {
     "name": "stdout",
     "output_type": "stream",
     "text": [
      "Enter number:-153\n",
      "3\n",
      "153\n",
      "Number is armstrong\n"
     ]
    }
   ],
   "source": [
    "#WAP to find armstrong no.\n",
    "n=int(input(\"Enter number:-\"))\n",
    "x=n\n",
    "y=n\n",
    "count=0\n",
    "sum=0\n",
    "while n>0:\n",
    "    n=n//10\n",
    "    count+=1\n",
    "print(count)\n",
    "while(x>0):\n",
    "    sum=(sum)+((x%10)**count)\n",
    "    x=x//10\n",
    "print(sum)\n",
    "if(y==sum):\n",
    "    print(\"Number is armstrong\")\n",
    "else:\n",
    "    print(\"Number is not armstrong\")"
   ]
  },
  {
   "cell_type": "code",
   "execution_count": 69,
   "metadata": {},
   "outputs": [
    {
     "name": "stdout",
     "output_type": "stream",
     "text": [
      "Enter no to find it is prime no. or not:2\n",
      "Number is prime\n"
     ]
    }
   ],
   "source": [
    "#WAP to find prime no or not\n",
    "n=int(input(\"Enter no to find it is prime no. or not:\"))\n",
    "count=0\n",
    "for i in range(1,n+1):\n",
    "    if(n%i==0):\n",
    "        count+=1\n",
    "    else:\n",
    "        continue\n",
    "if(count==2):\n",
    "    print(\"Number is prime\")\n",
    "else:\n",
    "    print(\"Number is composite\")"
   ]
  },
  {
   "cell_type": "code",
   "execution_count": 81,
   "metadata": {},
   "outputs": [
    {
     "name": "stdout",
     "output_type": "stream",
     "text": [
      "Enter starting number:1\n",
      "Enter ending number:100\n",
      "1 2 3 5 7 11 13 17 19 23 29 31 37 41 43 47 53 59 61 67 71 73 79 83 89 97 "
     ]
    }
   ],
   "source": [
    "#WAP to find prime no. in given range\n",
    "s=int(input(\"Enter starting number:\"))\n",
    "e=int(input(\"Enter ending number:\"))\n",
    "for j in range(s,e+1):\n",
    "    count=0\n",
    "    for i in range(2,j):\n",
    "        if(j%i==0):\n",
    "            count=1\n",
    "    if(count==0):\n",
    "        print(j,end=\" \") "
   ]
  },
  {
   "cell_type": "code",
   "execution_count": null,
   "metadata": {},
   "outputs": [],
   "source": []
  }
 ],
 "metadata": {
  "kernelspec": {
   "display_name": "Python 3",
   "language": "python",
   "name": "python3"
  },
  "language_info": {
   "codemirror_mode": {
    "name": "ipython",
    "version": 3
   },
   "file_extension": ".py",
   "mimetype": "text/x-python",
   "name": "python",
   "nbconvert_exporter": "python",
   "pygments_lexer": "ipython3",
   "version": "3.8.5"
  }
 },
 "nbformat": 4,
 "nbformat_minor": 4
}
